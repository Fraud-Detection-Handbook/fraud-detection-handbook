{
 "cells": [
  {
   "cell_type": "markdown",
   "id": "b60f2657",
   "metadata": {},
   "source": [
    "# Real-world data\n",
    "\n",
    "(Coming soon) This final section aims at analyzing the results of all the neural network architectures with a prequential grid search on real-world data, and comparing them to the other supervised baselines (decision tree, logistic regression, random forest, and XGBoost)."
   ]
  },
  {
   "cell_type": "code",
   "execution_count": null,
   "id": "76953549",
   "metadata": {},
   "outputs": [],
   "source": []
  }
 ],
 "metadata": {
  "kernelspec": {
   "display_name": "Python 3",
   "language": "python",
   "name": "python3"
  },
  "language_info": {
   "codemirror_mode": {
    "name": "ipython",
    "version": 3
   },
   "file_extension": ".py",
   "mimetype": "text/x-python",
   "name": "python",
   "nbconvert_exporter": "python",
   "pygments_lexer": "ipython3",
   "version": "3.8.8"
  }
 },
 "nbformat": 4,
 "nbformat_minor": 5
}
