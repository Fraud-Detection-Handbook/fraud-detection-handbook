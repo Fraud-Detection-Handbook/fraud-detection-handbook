{
 "cells": [
  {
   "cell_type": "markdown",
   "metadata": {},
   "source": [
    "(Baseline_FDS)=\n",
    "# Baseline fraud detection system\n",
    "\n",
    "This section aims at showing how a simple fraud detection system can be designed in a few steps. We will use the simulated data generated in the previous section, and will rely on a supervised learning approach as described in the section {ref}`ML_For_CCFD_Baseline_Methodology` of the previous chapter. The baseline supervised learning methodology is illustrated in Fig. 1. \n",
    "\n",
    "![alt text](images/baseline_ML_workflow_subset.png)\n",
    "<p style=\"text-align: center;\">\n",
    "Fig. 1. Baseline supervised learning methodology for credit card fraud detection. The green area highlights the steps that will be implemented in this section.\n",
    "</p>\n",
    "\n",
    "For the sake of simplicity, this section will not address the validation part of the baseline supervised learning methodology. The validation part will be covered in Chapter 5. The design of our fraud detection system will consist of three main steps, highlighted in green in Fig. 1:\n",
    "\n",
    "1. Defining a training set (historical data) and a test set (new data). The training set is the subset of transactions that are used for training the prediction model. The test set is the subset of transactions that are used to assess the performance of the prediction model.\n",
    "2. Training a prediction model: This step consists in using the training set to find a prediction model able to predict whether a transaction is genuine or fraudulent. We will rely for this task on the Python `sklearn` library, which provides easy-to-use functions to train prediction models. \n",
    "3. Assessing the performance of the prediction model: The performance of the prediction model is assessed using the test set (new data). \n",
    "\n",
    "We detail each of these steps in the rest of this section. "
   ]
  },
  {
   "cell_type": "code",
   "execution_count": 1,
   "metadata": {},
   "outputs": [
    {
     "name": "stdout",
     "output_type": "stream",
     "text": [
      "  % Total    % Received % Xferd  Average Speed   Time    Time     Time  Current\n",
      "                                 Dload  Upload   Total   Spent    Left  Speed\n",
      "100 63076  100 63076    0     0    99k      0 --:--:-- --:--:-- --:--:--     0:-- --:--:--   99k\n"
     ]
    }
   ],
   "source": [
    "# Initialization: Load shared functions and simulated data \n",
    "\n",
    "# Load shared functions\n",
    "!curl -O https://raw.githubusercontent.com/Fraud-Detection-Handbook/fraud-detection-handbook/main/Chapter_References/shared_functions.py\n",
    "%run shared_functions.py\n",
    "\n",
    "# Get simulated data from Github repository\n",
    "if not os.path.exists(\"simulated-data-transformed\"):\n",
    "    !git clone https://github.com/Fraud-Detection-Handbook/simulated-data-transformed\n",
    "        "
   ]
  },
  {
   "cell_type": "markdown",
   "metadata": {},
   "source": [
    "(Baseline_FDS_Training_Test_Sets)=\n",
    "## Defining the training and test sets\n",
    "\n",
    "The training set aims at training a prediction model, while the test set aims at evaluating the performance of the prediction model on new data. In a fraud detection context, the transactions of the test set occur chronologically *after* the transactions used for training the model. \n",
    "\n",
    "We will use the transactions from the 2018-07-25 to the 2018-07-31 for the training set, and from the 2018-08-08 to the 2018-08-14 for the test set. One week of data will be sufficient to train a first prediction model and to assess its performance. We will later use larger periods for training and testing to evaluate how larger sets can affect the performance results.\n",
    "\n",
    "It is worth noting that we choose our test set to take place one week after the last transaction of the training set. In a fraud detection context, this period separating the training and test set is referred to as the *delay period* or *feedback delay* {cite}`dal2017credit`. It accounts for the fact that, in a real-world fraud detection system, the label of a transaction (fraudulent or genuine) is only known after a customer complaint, or thanks to the result of a fraud investigation. Therefore, in a realistic scenario, the annotated data available to train a model and start making predictions for a given day are anterior to that day minus the delay period. Setting a delay period of one week is simplistic. It assumes that the labels (fraudulent or genuine) for all transactions are known exactly one week after they occurred. This is not the case in practice, since the delay may be shorter when customers report frauds quickly, or much longer in cases where frauds remain undetected for months. The delay period is in fact a parameter in the assessment of a fraud detection model, which can be tuned during the validation stage (see [Chapter 5](Validation_Strategies)). A one-week delay is, to a first approximation, a reasonable basis: from experience, statistics generally show that most of the feedback becomes available after a one week delay.   \n",
    "\n",
    "Let us load the transactions from the 2018-07-25 to the 2018-08-14, and plot the number of transactions per day, fraudulent transactions per day, and fraudulent cards per day.\n"
   ]
  },
  {
   "cell_type": "code",
   "execution_count": 2,
   "metadata": {
    "tags": [
     "hide-cell"
    ]
   },
   "outputs": [
    {
     "name": "stdout",
     "output_type": "stream",
     "text": [
      "Load  files\n",
      "CPU times: user 48.2 ms, sys: 50.9 ms, total: 99.2 ms\n",
      "Wall time: 149 ms\n",
      "201295 transactions loaded, containing 1792 fraudulent transactions\n"
     ]
    }
   ],
   "source": [
    "# Load data from the 2018-07-25 to the 2018-08-14\n",
    "\n",
    "DIR_INPUT='./simulated-data-transformed/data/' \n",
    "\n",
    "BEGIN_DATE = \"2018-07-25\"\n",
    "END_DATE = \"2018-08-14\"\n",
    "\n",
    "print(\"Load  files\")\n",
    "%time transactions_df=read_from_files(DIR_INPUT, BEGIN_DATE, END_DATE)\n",
    "print(\"{0} transactions loaded, containing {1} fraudulent transactions\".format(len(transactions_df),transactions_df.TX_FRAUD.sum()))\n"
   ]
  },
  {
   "cell_type": "code",
   "execution_count": 3,
   "metadata": {
    "tags": [
     "hide-cell"
    ]
   },
   "outputs": [],
   "source": [
    "# Compute the number of transactions per day, fraudulent transactions per day and fraudulent cards per day\n",
    "\n",
    "def get_tx_stats(transactions_df, start_date_df=\"2018-04-01\"):\n",
    "    \n",
    "    #Number of transactions per day\n",
    "    nb_tx_per_day=transactions_df.groupby(['TX_TIME_DAYS'])['CUSTOMER_ID'].count()\n",
    "    #Number of fraudulent transactions per day\n",
    "    nb_fraudulent_transactions_per_day=transactions_df.groupby(['TX_TIME_DAYS'])['TX_FRAUD'].sum()\n",
    "    #Number of compromised cards per day\n",
    "    nb_compromised_cards_per_day=transactions_df[transactions_df['TX_FRAUD']==1].groupby(['TX_TIME_DAYS']).CUSTOMER_ID.nunique()\n",
    "    \n",
    "    tx_stats=pd.DataFrame({\"nb_tx_per_day\":nb_tx_per_day,\n",
    "                           \"nb_fraudulent_transactions_per_day\":nb_fraudulent_transactions_per_day,\n",
    "                           \"nb_compromised_cards_per_day\":nb_compromised_cards_per_day})\n",
    "\n",
    "    tx_stats=tx_stats.reset_index()\n",
    "    \n",
    "    start_date = datetime.datetime.strptime(start_date_df, \"%Y-%m-%d\")\n",
    "    tx_date=start_date+tx_stats['TX_TIME_DAYS'].apply(datetime.timedelta)\n",
    "    \n",
    "    tx_stats['tx_date']=tx_date\n",
    "    \n",
    "    return tx_stats\n",
    "\n",
    "tx_stats=get_tx_stats(transactions_df, start_date_df=\"2018-04-01\")\n"
   ]
  },
  {
   "cell_type": "code",
   "execution_count": 4,
   "metadata": {
    "tags": [
     "hide-cell"
    ]
   },
   "outputs": [],
   "source": [
    "%%capture\n",
    "\n",
    "# Plot the number of transactions per day, fraudulent transactions per day and fraudulent cards per day\n",
    "\n",
    "def get_template_tx_stats(ax ,fs,\n",
    "                          start_date_training,\n",
    "                          title='',\n",
    "                          delta_train=7,\n",
    "                          delta_delay=7,\n",
    "                          delta_test=7,\n",
    "                          ylim=300):\n",
    "    \n",
    "    ax.set_title(title, fontsize=fs*1.5)\n",
    "    ax.set_ylim([0, ylim])\n",
    "    \n",
    "    ax.set_xlabel('Date', fontsize=fs)\n",
    "    ax.set_ylabel('Number', fontsize=fs)\n",
    "    \n",
    "    plt.yticks(fontsize=fs*0.7) \n",
    "    plt.xticks(fontsize=fs*0.7)    \n",
    "\n",
    "    ax.axvline(start_date_training+datetime.timedelta(days=delta_train), 0,ylim, color=\"black\")\n",
    "    ax.axvline(start_date_test, 0, ylim, color=\"black\")\n",
    "    \n",
    "    ax.text(start_date_training+datetime.timedelta(days=2), ylim-20,'Training period', fontsize=fs)\n",
    "    ax.text(start_date_training+datetime.timedelta(days=delta_train+2), ylim-20,'Delay period', fontsize=fs)\n",
    "    ax.text(start_date_training+datetime.timedelta(days=delta_train+delta_delay+2), ylim-20,'Test period', fontsize=fs)\n",
    "\n",
    "\n",
    "cmap = plt.get_cmap('jet')\n",
    "colors={'nb_tx_per_day':cmap(0), \n",
    "        'nb_fraudulent_transactions_per_day':cmap(200), \n",
    "        'nb_compromised_cards_per_day':cmap(250)}\n",
    "\n",
    "fraud_and_transactions_stats_fig, ax = plt.subplots(1, 1, figsize=(15,8))\n",
    "\n",
    "# Training period\n",
    "start_date_training = datetime.datetime.strptime(\"2018-07-25\", \"%Y-%m-%d\")\n",
    "delta_train = delta_delay = delta_test = 7\n",
    "\n",
    "end_date_training = start_date_training+datetime.timedelta(days=delta_train-1)\n",
    "\n",
    "# Test period\n",
    "start_date_test = start_date_training+datetime.timedelta(days=delta_train+delta_delay)\n",
    "end_date_test = start_date_training+datetime.timedelta(days=delta_train+delta_delay+delta_test-1)\n",
    "\n",
    "get_template_tx_stats(ax, fs=20,\n",
    "                      start_date_training=start_date_training,\n",
    "                      title='Total transactions, and number of fraudulent transactions \\n and number of compromised cards per day',\n",
    "                      delta_train=delta_train,\n",
    "                      delta_delay=delta_delay,\n",
    "                      delta_test=delta_test\n",
    "                     )\n",
    "\n",
    "ax.plot(tx_stats['tx_date'], tx_stats['nb_tx_per_day']/50, 'b', color=colors['nb_tx_per_day'], label = '# transactions per day (/50)')\n",
    "ax.plot(tx_stats['tx_date'], tx_stats['nb_fraudulent_transactions_per_day'], 'b', color=colors['nb_fraudulent_transactions_per_day'], label = '# fraudulent txs per day')\n",
    "ax.plot(tx_stats['tx_date'], tx_stats['nb_compromised_cards_per_day'], 'b', color=colors['nb_compromised_cards_per_day'], label = '# compromised cards per day')\n",
    "\n",
    "ax.legend(loc = 'upper left',bbox_to_anchor=(1.05, 1),fontsize=20)\n",
    "\n"
   ]
  },
  {
   "cell_type": "code",
   "execution_count": 5,
   "metadata": {},
   "outputs": [
    {
     "data": {
      "image/png": "[encoded data removed]",
      "text/plain": [
       "<Figure size 1080x576 with 1 Axes>"
      ]
     },
     "execution_count": 5,
     "metadata": {},
     "output_type": "execute_result"
    }
   ],
   "source": [
    "fraud_and_transactions_stats_fig"
   ]
  },
  {
   "cell_type": "markdown",
   "metadata": {},
   "source": [
    "The plot illustrates that the number of transactions and frauds is similar in the training and test periods. The average number of frauds is around 85 per day. Let us extract from the dataset the transactions for the training set and the test set. "
   ]
  },
  {
   "cell_type": "code",
   "execution_count": 6,
   "metadata": {
    "tags": [
     "hide-cell"
    ]
   },
   "outputs": [],
   "source": [
    "def get_train_test_set(transactions_df,\n",
    "                       start_date_training,\n",
    "                       delta_train=7,delta_delay=7,delta_test=7):\n",
    "    \n",
    "    # Get the training set data\n",
    "    train_df = transactions_df[(transactions_df.TX_DATETIME>=start_date_training) &\n",
    "                               (transactions_df.TX_DATETIME<start_date_training+datetime.timedelta(days=delta_train))]\n",
    "    \n",
    "    # Get the test set data\n",
    "    test_df = []\n",
    "    \n",
    "    # Note: Cards known to be compromised after the delay period are removed from the test set\n",
    "    # That is, for each test day, all frauds known at (test_day-delay_period) are removed\n",
    "    \n",
    "    # First, get known defrauded customers from the training set\n",
    "    known_defrauded_customers = set(train_df[train_df.TX_FRAUD==1].CUSTOMER_ID)\n",
    "    \n",
    "    # Get the relative starting day of training set (easier than TX_DATETIME to collect test data)\n",
    "    start_tx_time_days_training = train_df.TX_TIME_DAYS.min()\n",
    "    \n",
    "    # Then, for each day of the test set\n",
    "    for day in range(delta_test):\n",
    "    \n",
    "        # Get test data for that day\n",
    "        test_df_day = transactions_df[transactions_df.TX_TIME_DAYS==start_tx_time_days_training+\n",
    "                                                                    delta_train+delta_delay+\n",
    "                                                                    day]\n",
    "        \n",
    "        # Compromised cards from that test day, minus the delay period, are added to the pool of known defrauded customers\n",
    "        test_df_day_delay_period = transactions_df[transactions_df.TX_TIME_DAYS==start_tx_time_days_training+\n",
    "                                                                                delta_train+\n",
    "                                                                                day-1]\n",
    "        \n",
    "        new_defrauded_customers = set(test_df_day_delay_period[test_df_day_delay_period.TX_FRAUD==1].CUSTOMER_ID)\n",
    "        known_defrauded_customers = known_defrauded_customers.union(new_defrauded_customers)\n",
    "        \n",
    "        test_df_day = test_df_day[~test_df_day.CUSTOMER_ID.isin(known_defrauded_customers)]\n",
    "        \n",
    "        test_df.append(test_df_day)\n",
    "        \n",
    "    test_df = pd.concat(test_df)\n",
    "    \n",
    "    # Sort data sets by ascending order of transaction ID\n",
    "    train_df=train_df.sort_values('TRANSACTION_ID')\n",
    "    test_df=test_df.sort_values('TRANSACTION_ID')\n",
    "    \n",
    "    return (train_df, test_df)"
   ]
  },
  {
   "cell_type": "code",
   "execution_count": 7,
   "metadata": {},
   "outputs": [],
   "source": [
    "(train_df, test_df)=get_train_test_set(transactions_df,start_date_training,\n",
    "                                       delta_train=7,delta_delay=7,delta_test=7)"
   ]
  },
  {
   "cell_type": "markdown",
   "metadata": {},
   "source": [
    "The trainig set contains 67240 transactions, among which 598 are fraudulent."
   ]
  },
  {
   "cell_type": "code",
   "execution_count": 8,
   "metadata": {},
   "outputs": [
    {
     "data": {
      "text/plain": [
       "(67240, 23)"
      ]
     },
     "execution_count": 8,
     "metadata": {},
     "output_type": "execute_result"
    }
   ],
   "source": [
    "train_df.shape"
   ]
  },
  {
   "cell_type": "code",
   "execution_count": 9,
   "metadata": {},
   "outputs": [
    {
     "data": {
      "text/plain": [
       "(598, 23)"
      ]
     },
     "execution_count": 9,
     "metadata": {},
     "output_type": "execute_result"
    }
   ],
   "source": [
    "train_df[train_df.TX_FRAUD==1].shape\n"
   ]
  },
  {
   "cell_type": "markdown",
   "metadata": {},
   "source": [
    "The test set contains 58264 transactions, among which 385 are fraudulent."
   ]
  },
  {
   "cell_type": "code",
   "execution_count": 10,
   "metadata": {},
   "outputs": [
    {
     "data": {
      "text/plain": [
       "(58264, 23)"
      ]
     },
     "execution_count": 10,
     "metadata": {},
     "output_type": "execute_result"
    }
   ],
   "source": [
    "test_df.shape"
   ]
  },
  {
   "cell_type": "code",
   "execution_count": 11,
   "metadata": {},
   "outputs": [
    {
     "data": {
      "text/plain": [
       "(385, 23)"
      ]
     },
     "execution_count": 11,
     "metadata": {},
     "output_type": "execute_result"
    }
   ],
   "source": [
    "test_df[test_df.TX_FRAUD==1].shape\n"
   ]
  },
  {
   "cell_type": "markdown",
   "metadata": {},
   "source": [
    "That is, a proportion of 0.007 fraudulent transactions."
   ]
  },
  {
   "cell_type": "code",
   "execution_count": 12,
   "metadata": {},
   "outputs": [
    {
     "data": {
      "text/plain": [
       "0.00660785390635727"
      ]
     },
     "execution_count": 12,
     "metadata": {},
     "output_type": "execute_result"
    }
   ],
   "source": [
    "385/58264"
   ]
  },
  {
   "cell_type": "markdown",
   "metadata": {},
   "source": [
    "(Baseline_FDS_Decision_Tree)=\n",
    "## Model training : Decision tree\n",
    "\n",
    "As explained in the section {ref}`ML_For_CCFD_Baseline_Methodology`, the training of a prediction model consists in identifying a mathematical relationship between two sets of features, called *input* and *output* features. In a fraud detection context, the goal is to find a function that can predict whether a transaction is fraudulent or genuine (the output feature), using features that characterize the transactions (the input features).\n",
    "\n",
    "We will define the input and output features as follows:\n",
    "\n",
    "* The output feature will be the transaction label `TX_FRAUD`\n",
    "* The input features will be the transaction amount `TX_AMOUNT`, as well as all the features that were computed in the previous section, which characterize the context of a transaction.\n"
   ]
  },
  {
   "cell_type": "code",
   "execution_count": 13,
   "metadata": {},
   "outputs": [],
   "source": [
    "output_feature=\"TX_FRAUD\"\n",
    "\n",
    "input_features=['TX_AMOUNT','TX_DURING_WEEKEND', 'TX_DURING_NIGHT', 'CUSTOMER_ID_NB_TX_1DAY_WINDOW',\n",
    "       'CUSTOMER_ID_AVG_AMOUNT_1DAY_WINDOW', 'CUSTOMER_ID_NB_TX_7DAY_WINDOW',\n",
    "       'CUSTOMER_ID_AVG_AMOUNT_7DAY_WINDOW', 'CUSTOMER_ID_NB_TX_30DAY_WINDOW',\n",
    "       'CUSTOMER_ID_AVG_AMOUNT_30DAY_WINDOW', 'TERMINAL_ID_NB_TX_1DAY_WINDOW',\n",
    "       'TERMINAL_ID_RISK_1DAY_WINDOW', 'TERMINAL_ID_NB_TX_7DAY_WINDOW',\n",
    "       'TERMINAL_ID_RISK_7DAY_WINDOW', 'TERMINAL_ID_NB_TX_30DAY_WINDOW',\n",
    "       'TERMINAL_ID_RISK_30DAY_WINDOW']\n"
   ]
  },
  {
   "cell_type": "markdown",
   "metadata": {},
   "source": [
    "In Python, the training of a prediction model is made easy using the `sklearn` library. In particular, the  `sklearn`  library provides implementations for training a wide range of prediction models.  \n",
    "\n",
    "The training of prediction models will be covered in more detail in [Chapter 5, Model Selection](Model_Selection). For now, we will simply aim at training some standard classifiers, without getting into the detail of how the training is actually performed.\n",
    "\n",
    "We will start by relying on a prediction model called a *decision tree*.\n",
    "\n",
    "Let us create a function `fit_model_and_get_predictions` that trains a model and returns predictions for a test set. The function takes as input a `sklearn` classifier object (a `sklearn` prediction model), a training set, a test set, and the set of input and output features. The training set will be used to train the classifier. This is done by calling the `fit` method of the `sklearn` classifier object. The predictions of the classifier for the training and test sets are then obtained by calling the `predict_proba` method of the `sklearn` classifier object (cf. [Chapter 4](Threshold_Based_Metrics)).\n",
    "\n",
    "The function returns a dictionary that contains the trained classifier, the predictions for the training set, the predictions for the test set, and the execution times for training and inference."
   ]
  },
  {
   "cell_type": "code",
   "execution_count": 14,
   "metadata": {
    "tags": [
     "hide-cell"
    ]
   },
   "outputs": [],
   "source": [
    "def fit_model_and_get_predictions(classifier, train_df, test_df, \n",
    "                                  input_features, output_feature=\"TX_FRAUD\",scale=True):\n",
    "\n",
    "    # By default, scales input data\n",
    "    if scale:\n",
    "        (train_df, test_df)=scaleData(train_df,test_df,input_features)\n",
    "    \n",
    "    # We first train the classifier using the `fit` method, and pass as arguments the input and output features\n",
    "    start_time=time.time()\n",
    "    classifier.fit(train_df[input_features], train_df[output_feature])\n",
    "    training_execution_time=time.time()-start_time\n",
    "\n",
    "    # We then get the predictions on the training and test data using the `predict_proba` method\n",
    "    # The predictions are returned as a numpy array, that provides the probability of fraud for each transaction \n",
    "    start_time=time.time()\n",
    "    predictions_test=classifier.predict_proba(test_df[input_features])[:,1]\n",
    "    prediction_execution_time=time.time()-start_time\n",
    "    \n",
    "    predictions_train=classifier.predict_proba(train_df[input_features])[:,1]\n",
    "\n",
    "    # The result is returned as a dictionary containing the fitted models, \n",
    "    # and the predictions on the training and test sets\n",
    "    model_and_predictions_dictionary = {'classifier': classifier,\n",
    "                                        'predictions_test': predictions_test,\n",
    "                                        'predictions_train': predictions_train,\n",
    "                                        'training_execution_time': training_execution_time,\n",
    "                                        'prediction_execution_time': prediction_execution_time\n",
    "                                       }\n",
    "    \n",
    "    return model_and_predictions_dictionary"
   ]
  },
  {
   "cell_type": "markdown",
   "metadata": {},
   "source": [
    "As an example, let us train a small decision tree (with a maximum depth of 2). We first create a decision tree object (`sklearn.tree.DecisionTreeClassifier`), and call the `fit_model_and_get_predictions_dictionary` to train the decision tree, and get the predictions on the training and test sets. "
   ]
  },
  {
   "cell_type": "code",
   "execution_count": 15,
   "metadata": {},
   "outputs": [],
   "source": [
    "# We first create a decision tree object. We will limit its depth to 2 for interpretability, \n",
    "# and set the random state to zero for reproducibility\n",
    "classifier = sklearn.tree.DecisionTreeClassifier(max_depth = 2, random_state=0)\n",
    "\n",
    "model_and_predictions_dictionary = fit_model_and_get_predictions(classifier, train_df, test_df, \n",
    "                                                                 input_features, output_feature,\n",
    "                                                                 scale=False)"
   ]
  },
  {
   "cell_type": "markdown",
   "metadata": {},
   "source": [
    "Let us look at the predictions obtained for the first five transactions of the test set:"
   ]
  },
  {
   "cell_type": "code",
   "execution_count": 16,
   "metadata": {},
   "outputs": [
    {
     "data": {
      "text/html": [
       "<div>\n",
       "<style scoped>\n",
       "    .dataframe tbody tr th:only-of-type {\n",
       "        vertical-align: middle;\n",
       "    }\n",
       "\n",
       "    .dataframe tbody tr th {\n",
       "        vertical-align: top;\n",
       "    }\n",
       "\n",
       "    .dataframe thead th {\n",
       "        text-align: right;\n",
       "    }\n",
       "</style>\n",
       "<table border=\"1\" class=\"dataframe\">\n",
       "  <thead>\n",
       "    <tr style=\"text-align: right;\">\n",
       "      <th></th>\n",
       "      <th>TRANSACTION_ID</th>\n",
       "      <th>TX_DATETIME</th>\n",
       "      <th>CUSTOMER_ID</th>\n",
       "      <th>TERMINAL_ID</th>\n",
       "      <th>TX_AMOUNT</th>\n",
       "      <th>TX_TIME_SECONDS</th>\n",
       "      <th>TX_TIME_DAYS</th>\n",
       "      <th>TX_FRAUD</th>\n",
       "      <th>TX_FRAUD_SCENARIO</th>\n",
       "      <th>TX_DURING_WEEKEND</th>\n",
       "      <th>...</th>\n",
       "      <th>CUSTOMER_ID_AVG_AMOUNT_7DAY_WINDOW</th>\n",
       "      <th>CUSTOMER_ID_NB_TX_30DAY_WINDOW</th>\n",
       "      <th>CUSTOMER_ID_AVG_AMOUNT_30DAY_WINDOW</th>\n",
       "      <th>TERMINAL_ID_NB_TX_1DAY_WINDOW</th>\n",
       "      <th>TERMINAL_ID_RISK_1DAY_WINDOW</th>\n",
       "      <th>TERMINAL_ID_NB_TX_7DAY_WINDOW</th>\n",
       "      <th>TERMINAL_ID_RISK_7DAY_WINDOW</th>\n",
       "      <th>TERMINAL_ID_NB_TX_30DAY_WINDOW</th>\n",
       "      <th>TERMINAL_ID_RISK_30DAY_WINDOW</th>\n",
       "      <th>TX_FRAUD_PREDICTED</th>\n",
       "    </tr>\n",
       "  </thead>\n",
       "  <tbody>\n",
       "    <tr>\n",
       "      <th>134215</th>\n",
       "      <td>1236698</td>\n",
       "      <td>2018-08-08 00:01:14</td>\n",
       "      <td>2765</td>\n",
       "      <td>2747</td>\n",
       "      <td>42.32</td>\n",
       "      <td>11145674</td>\n",
       "      <td>129</td>\n",
       "      <td>0</td>\n",
       "      <td>0</td>\n",
       "      <td>0</td>\n",
       "      <td>...</td>\n",
       "      <td>67.468529</td>\n",
       "      <td>120.0</td>\n",
       "      <td>64.611750</td>\n",
       "      <td>2.0</td>\n",
       "      <td>0.0</td>\n",
       "      <td>9.0</td>\n",
       "      <td>0.0</td>\n",
       "      <td>31.0</td>\n",
       "      <td>0.000000</td>\n",
       "      <td>0.003536</td>\n",
       "    </tr>\n",
       "    <tr>\n",
       "      <th>134216</th>\n",
       "      <td>1236699</td>\n",
       "      <td>2018-08-08 00:02:33</td>\n",
       "      <td>714</td>\n",
       "      <td>2073</td>\n",
       "      <td>108.19</td>\n",
       "      <td>11145753</td>\n",
       "      <td>129</td>\n",
       "      <td>0</td>\n",
       "      <td>0</td>\n",
       "      <td>0</td>\n",
       "      <td>...</td>\n",
       "      <td>79.955455</td>\n",
       "      <td>124.0</td>\n",
       "      <td>85.365645</td>\n",
       "      <td>2.0</td>\n",
       "      <td>0.0</td>\n",
       "      <td>10.0</td>\n",
       "      <td>0.0</td>\n",
       "      <td>23.0</td>\n",
       "      <td>0.000000</td>\n",
       "      <td>0.003536</td>\n",
       "    </tr>\n",
       "    <tr>\n",
       "      <th>134218</th>\n",
       "      <td>1236701</td>\n",
       "      <td>2018-08-08 00:08:40</td>\n",
       "      <td>4982</td>\n",
       "      <td>1258</td>\n",
       "      <td>26.13</td>\n",
       "      <td>11146120</td>\n",
       "      <td>129</td>\n",
       "      <td>0</td>\n",
       "      <td>0</td>\n",
       "      <td>0</td>\n",
       "      <td>...</td>\n",
       "      <td>56.269167</td>\n",
       "      <td>61.0</td>\n",
       "      <td>49.095902</td>\n",
       "      <td>1.0</td>\n",
       "      <td>0.0</td>\n",
       "      <td>10.0</td>\n",
       "      <td>0.0</td>\n",
       "      <td>26.0</td>\n",
       "      <td>0.076923</td>\n",
       "      <td>0.003536</td>\n",
       "    </tr>\n",
       "    <tr>\n",
       "      <th>134219</th>\n",
       "      <td>1236702</td>\n",
       "      <td>2018-08-08 00:08:41</td>\n",
       "      <td>704</td>\n",
       "      <td>8501</td>\n",
       "      <td>65.81</td>\n",
       "      <td>11146121</td>\n",
       "      <td>129</td>\n",
       "      <td>0</td>\n",
       "      <td>0</td>\n",
       "      <td>0</td>\n",
       "      <td>...</td>\n",
       "      <td>62.643333</td>\n",
       "      <td>11.0</td>\n",
       "      <td>63.287273</td>\n",
       "      <td>1.0</td>\n",
       "      <td>0.0</td>\n",
       "      <td>6.0</td>\n",
       "      <td>0.0</td>\n",
       "      <td>23.0</td>\n",
       "      <td>0.000000</td>\n",
       "      <td>0.003536</td>\n",
       "    </tr>\n",
       "    <tr>\n",
       "      <th>134220</th>\n",
       "      <td>1236703</td>\n",
       "      <td>2018-08-08 00:10:34</td>\n",
       "      <td>3085</td>\n",
       "      <td>4208</td>\n",
       "      <td>55.22</td>\n",
       "      <td>11146234</td>\n",
       "      <td>129</td>\n",
       "      <td>0</td>\n",
       "      <td>0</td>\n",
       "      <td>0</td>\n",
       "      <td>...</td>\n",
       "      <td>71.993846</td>\n",
       "      <td>72.0</td>\n",
       "      <td>59.899306</td>\n",
       "      <td>1.0</td>\n",
       "      <td>0.0</td>\n",
       "      <td>5.0</td>\n",
       "      <td>0.0</td>\n",
       "      <td>21.0</td>\n",
       "      <td>0.523810</td>\n",
       "      <td>0.003536</td>\n",
       "    </tr>\n",
       "  </tbody>\n",
       "</table>\n",
       "<p>5 rows × 24 columns</p>\n",
       "</div>"
      ],
      "text/plain": [
       "        TRANSACTION_ID         TX_DATETIME  CUSTOMER_ID  TERMINAL_ID  \\\n",
       "134215         1236698 2018-08-08 00:01:14         2765         2747   \n",
       "134216         1236699 2018-08-08 00:02:33          714         2073   \n",
       "134218         1236701 2018-08-08 00:08:40         4982         1258   \n",
       "134219         1236702 2018-08-08 00:08:41          704         8501   \n",
       "134220         1236703 2018-08-08 00:10:34         3085         4208   \n",
       "\n",
       "        TX_AMOUNT  TX_TIME_SECONDS  TX_TIME_DAYS  TX_FRAUD  TX_FRAUD_SCENARIO  \\\n",
       "134215      42.32         11145674           129         0                  0   \n",
       "134216     108.19         11145753           129         0                  0   \n",
       "134218      26.13         11146120           129         0                  0   \n",
       "134219      65.81         11146121           129         0                  0   \n",
       "134220      55.22         11146234           129         0                  0   \n",
       "\n",
       "        TX_DURING_WEEKEND  ...  CUSTOMER_ID_AVG_AMOUNT_7DAY_WINDOW  \\\n",
       "134215                  0  ...                           67.468529   \n",
       "134216                  0  ...                           79.955455   \n",
       "134218                  0  ...                           56.269167   \n",
       "134219                  0  ...                           62.643333   \n",
       "134220                  0  ...                           71.993846   \n",
       "\n",
       "        CUSTOMER_ID_NB_TX_30DAY_WINDOW  CUSTOMER_ID_AVG_AMOUNT_30DAY_WINDOW  \\\n",
       "134215                           120.0                            64.611750   \n",
       "134216                           124.0                            85.365645   \n",
       "134218                            61.0                            49.095902   \n",
       "134219                            11.0                            63.287273   \n",
       "134220                            72.0                            59.899306   \n",
       "\n",
       "        TERMINAL_ID_NB_TX_1DAY_WINDOW  TERMINAL_ID_RISK_1DAY_WINDOW  \\\n",
       "134215                            2.0                           0.0   \n",
       "134216                            2.0                           0.0   \n",
       "134218                            1.0                           0.0   \n",
       "134219                            1.0                           0.0   \n",
       "134220                            1.0                           0.0   \n",
       "\n",
       "        TERMINAL_ID_NB_TX_7DAY_WINDOW  TERMINAL_ID_RISK_7DAY_WINDOW  \\\n",
       "134215                            9.0                           0.0   \n",
       "134216                           10.0                           0.0   \n",
       "134218                           10.0                           0.0   \n",
       "134219                            6.0                           0.0   \n",
       "134220                            5.0                           0.0   \n",
       "\n",
       "        TERMINAL_ID_NB_TX_30DAY_WINDOW  TERMINAL_ID_RISK_30DAY_WINDOW  \\\n",
       "134215                            31.0                       0.000000   \n",
       "134216                            23.0                       0.000000   \n",
       "134218                            26.0                       0.076923   \n",
       "134219                            23.0                       0.000000   \n",
       "134220                            21.0                       0.523810   \n",
       "\n",
       "        TX_FRAUD_PREDICTED  \n",
       "134215            0.003536  \n",
       "134216            0.003536  \n",
       "134218            0.003536  \n",
       "134219            0.003536  \n",
       "134220            0.003536  \n",
       "\n",
       "[5 rows x 24 columns]"
      ]
     },
     "execution_count": 16,
     "metadata": {},
     "output_type": "execute_result"
    }
   ],
   "source": [
    "test_df['TX_FRAUD_PREDICTED']=model_and_predictions_dictionary['predictions_test']\n",
    "test_df.head()"
   ]
  },
  {
   "cell_type": "markdown",
   "metadata": {},
   "source": [
    "The probability of fraud for all these transactions is of 0.003536. We can display the decision tree to understand how these probabilities were set:"
   ]
  },
  {
   "cell_type": "code",
   "execution_count": 17,
   "metadata": {},
   "outputs": [
    {
     "data": {
      "image/svg+xml": [
       "<?xml version=\"1.0\" encoding=\"UTF-8\" standalone=\"no\"?>\n",
       "<!DOCTYPE svg PUBLIC \"-//W3C//DTD SVG 1.1//EN\"\n",
       " \"http://www.w3.org/Graphics/SVG/1.1/DTD/svg11.dtd\">\n",
       "<!-- Generated by graphviz version 2.50.0 (20211204.2007)\n",
       " -->\n",
       "<!-- Title: Tree Pages: 1 -->\n",
       "<svg width=\"613pt\" height=\"314pt\"\n",
       " viewBox=\"0.00 0.00 612.50 314.00\" xmlns=\"http://www.w3.org/2000/svg\" xmlns:xlink=\"http://www.w3.org/1999/xlink\">\n",
       "<g id=\"graph0\" class=\"graph\" transform=\"scale(1 1) rotate(0) translate(4 310)\">\n",
       "<title>Tree</title>\n",
       "<polygon fill=\"white\" stroke=\"transparent\" points=\"-4,4 -4,-310 608.5,-310 608.5,4 -4,4\"/>\n",
       "<!-- 0 -->\n",
       "<g id=\"node1\" class=\"node\">\n",
       "<title>0</title>\n",
       "<polygon fill=\"#e5823b\" stroke=\"black\" points=\"468.5,-306 153.5,-306 153.5,-223 468.5,-223 468.5,-306\"/>\n",
       "<text text-anchor=\"middle\" x=\"311\" y=\"-290.8\" font-family=\"Helvetica,sans-Serif\" font-size=\"14.00\">TERMINAL_ID_RISK_7DAY_WINDOW &lt;= 0.551</text>\n",
       "<text text-anchor=\"middle\" x=\"311\" y=\"-275.8\" font-family=\"Helvetica,sans-Serif\" font-size=\"14.00\">gini = 0.018</text>\n",
       "<text text-anchor=\"middle\" x=\"311\" y=\"-260.8\" font-family=\"Helvetica,sans-Serif\" font-size=\"14.00\">samples = 67240</text>\n",
       "<text text-anchor=\"middle\" x=\"311\" y=\"-245.8\" font-family=\"Helvetica,sans-Serif\" font-size=\"14.00\">value = [66642, 598]</text>\n",
       "<text text-anchor=\"middle\" x=\"311\" y=\"-230.8\" font-family=\"Helvetica,sans-Serif\" font-size=\"14.00\">class = y[0]</text>\n",
       "</g>\n",
       "<!-- 1 -->\n",
       "<g id=\"node2\" class=\"node\">\n",
       "<title>1</title>\n",
       "<polygon fill=\"#e5823a\" stroke=\"black\" points=\"263.5,-187 96.5,-187 96.5,-104 263.5,-104 263.5,-187\"/>\n",
       "<text text-anchor=\"middle\" x=\"180\" y=\"-171.8\" font-family=\"Helvetica,sans-Serif\" font-size=\"14.00\">TX_AMOUNT &lt;= 218.67</text>\n",
       "<text text-anchor=\"middle\" x=\"180\" y=\"-156.8\" font-family=\"Helvetica,sans-Serif\" font-size=\"14.00\">gini = 0.011</text>\n",
       "<text text-anchor=\"middle\" x=\"180\" y=\"-141.8\" font-family=\"Helvetica,sans-Serif\" font-size=\"14.00\">samples = 66863</text>\n",
       "<text text-anchor=\"middle\" x=\"180\" y=\"-126.8\" font-family=\"Helvetica,sans-Serif\" font-size=\"14.00\">value = [66500, 363]</text>\n",
       "<text text-anchor=\"middle\" x=\"180\" y=\"-111.8\" font-family=\"Helvetica,sans-Serif\" font-size=\"14.00\">class = y[0]</text>\n",
       "</g>\n",
       "<!-- 0&#45;&gt;1 -->\n",
       "<g id=\"edge1\" class=\"edge\">\n",
       "<title>0&#45;&gt;1</title>\n",
       "<path fill=\"none\" stroke=\"black\" d=\"M265.55,-222.91C255.08,-213.56 243.86,-203.54 233.1,-193.93\"/>\n",
       "<polygon fill=\"black\" stroke=\"black\" points=\"235.16,-191.07 225.37,-187.02 230.5,-196.29 235.16,-191.07\"/>\n",
       "<text text-anchor=\"middle\" x=\"226.78\" y=\"-208.28\" font-family=\"Helvetica,sans-Serif\" font-size=\"14.00\">True</text>\n",
       "</g>\n",
       "<!-- 4 -->\n",
       "<g id=\"node5\" class=\"node\">\n",
       "<title>4</title>\n",
       "<polygon fill=\"#b1d8f5\" stroke=\"black\" points=\"604.5,-187 281.5,-187 281.5,-104 604.5,-104 604.5,-187\"/>\n",
       "<text text-anchor=\"middle\" x=\"443\" y=\"-171.8\" font-family=\"Helvetica,sans-Serif\" font-size=\"14.00\">TERMINAL_ID_RISK_30DAY_WINDOW &lt;= 0.662</text>\n",
       "<text text-anchor=\"middle\" x=\"443\" y=\"-156.8\" font-family=\"Helvetica,sans-Serif\" font-size=\"14.00\">gini = 0.47</text>\n",
       "<text text-anchor=\"middle\" x=\"443\" y=\"-141.8\" font-family=\"Helvetica,sans-Serif\" font-size=\"14.00\">samples = 377</text>\n",
       "<text text-anchor=\"middle\" x=\"443\" y=\"-126.8\" font-family=\"Helvetica,sans-Serif\" font-size=\"14.00\">value = [142, 235]</text>\n",
       "<text text-anchor=\"middle\" x=\"443\" y=\"-111.8\" font-family=\"Helvetica,sans-Serif\" font-size=\"14.00\">class = y[1]</text>\n",
       "</g>\n",
       "<!-- 0&#45;&gt;4 -->\n",
       "<g id=\"edge4\" class=\"edge\">\n",
       "<title>0&#45;&gt;4</title>\n",
       "<path fill=\"none\" stroke=\"black\" d=\"M356.8,-222.91C367.34,-213.56 378.65,-203.54 389.49,-193.93\"/>\n",
       "<polygon fill=\"black\" stroke=\"black\" points=\"392.12,-196.27 397.28,-187.02 387.48,-191.03 392.12,-196.27\"/>\n",
       "<text text-anchor=\"middle\" x=\"395.78\" y=\"-208.28\" font-family=\"Helvetica,sans-Serif\" font-size=\"14.00\">False</text>\n",
       "</g>\n",
       "<!-- 2 -->\n",
       "<g id=\"node3\" class=\"node\">\n",
       "<title>2</title>\n",
       "<polygon fill=\"#e5813a\" stroke=\"black\" points=\"140,-68 0,-68 0,0 140,0 140,-68\"/>\n",
       "<text text-anchor=\"middle\" x=\"70\" y=\"-52.8\" font-family=\"Helvetica,sans-Serif\" font-size=\"14.00\">gini = 0.007</text>\n",
       "<text text-anchor=\"middle\" x=\"70\" y=\"-37.8\" font-family=\"Helvetica,sans-Serif\" font-size=\"14.00\">samples = 66734</text>\n",
       "<text text-anchor=\"middle\" x=\"70\" y=\"-22.8\" font-family=\"Helvetica,sans-Serif\" font-size=\"14.00\">value = [66498, 236]</text>\n",
       "<text text-anchor=\"middle\" x=\"70\" y=\"-7.8\" font-family=\"Helvetica,sans-Serif\" font-size=\"14.00\">class = y[0]</text>\n",
       "</g>\n",
       "<!-- 1&#45;&gt;2 -->\n",
       "<g id=\"edge2\" class=\"edge\">\n",
       "<title>1&#45;&gt;2</title>\n",
       "<path fill=\"none\" stroke=\"black\" d=\"M139.04,-103.73C129.79,-94.51 119.96,-84.74 110.72,-75.53\"/>\n",
       "<polygon fill=\"black\" stroke=\"black\" points=\"113.01,-72.87 103.45,-68.3 108.07,-77.84 113.01,-72.87\"/>\n",
       "</g>\n",
       "<!-- 3 -->\n",
       "<g id=\"node4\" class=\"node\">\n",
       "<title>3</title>\n",
       "<polygon fill=\"#3c9fe5\" stroke=\"black\" points=\"268,-68 158,-68 158,0 268,0 268,-68\"/>\n",
       "<text text-anchor=\"middle\" x=\"213\" y=\"-52.8\" font-family=\"Helvetica,sans-Serif\" font-size=\"14.00\">gini = 0.031</text>\n",
       "<text text-anchor=\"middle\" x=\"213\" y=\"-37.8\" font-family=\"Helvetica,sans-Serif\" font-size=\"14.00\">samples = 129</text>\n",
       "<text text-anchor=\"middle\" x=\"213\" y=\"-22.8\" font-family=\"Helvetica,sans-Serif\" font-size=\"14.00\">value = [2, 127]</text>\n",
       "<text text-anchor=\"middle\" x=\"213\" y=\"-7.8\" font-family=\"Helvetica,sans-Serif\" font-size=\"14.00\">class = y[1]</text>\n",
       "</g>\n",
       "<!-- 1&#45;&gt;3 -->\n",
       "<g id=\"edge3\" class=\"edge\">\n",
       "<title>1&#45;&gt;3</title>\n",
       "<path fill=\"none\" stroke=\"black\" d=\"M192.29,-103.73C194.82,-95.34 197.49,-86.47 200.04,-78.01\"/>\n",
       "<polygon fill=\"black\" stroke=\"black\" points=\"203.43,-78.88 202.96,-68.3 196.73,-76.86 203.43,-78.88\"/>\n",
       "</g>\n",
       "<!-- 5 -->\n",
       "<g id=\"node6\" class=\"node\">\n",
       "<title>5</title>\n",
       "<polygon fill=\"#43a2e6\" stroke=\"black\" points=\"468.5,-68 351.5,-68 351.5,0 468.5,0 468.5,-68\"/>\n",
       "<text text-anchor=\"middle\" x=\"410\" y=\"-52.8\" font-family=\"Helvetica,sans-Serif\" font-size=\"14.00\">gini = 0.09</text>\n",
       "<text text-anchor=\"middle\" x=\"410\" y=\"-37.8\" font-family=\"Helvetica,sans-Serif\" font-size=\"14.00\">samples = 233</text>\n",
       "<text text-anchor=\"middle\" x=\"410\" y=\"-22.8\" font-family=\"Helvetica,sans-Serif\" font-size=\"14.00\">value = [11, 222]</text>\n",
       "<text text-anchor=\"middle\" x=\"410\" y=\"-7.8\" font-family=\"Helvetica,sans-Serif\" font-size=\"14.00\">class = y[1]</text>\n",
       "</g>\n",
       "<!-- 4&#45;&gt;5 -->\n",
       "<g id=\"edge5\" class=\"edge\">\n",
       "<title>4&#45;&gt;5</title>\n",
       "<path fill=\"none\" stroke=\"black\" d=\"M430.71,-103.73C428.18,-95.34 425.51,-86.47 422.96,-78.01\"/>\n",
       "<polygon fill=\"black\" stroke=\"black\" points=\"426.27,-76.86 420.04,-68.3 419.57,-78.88 426.27,-76.86\"/>\n",
       "</g>\n",
       "<!-- 6 -->\n",
       "<g id=\"node7\" class=\"node\">\n",
       "<title>6</title>\n",
       "<polygon fill=\"#e88e4d\" stroke=\"black\" points=\"603.5,-68 486.5,-68 486.5,0 603.5,0 603.5,-68\"/>\n",
       "<text text-anchor=\"middle\" x=\"545\" y=\"-52.8\" font-family=\"Helvetica,sans-Serif\" font-size=\"14.00\">gini = 0.164</text>\n",
       "<text text-anchor=\"middle\" x=\"545\" y=\"-37.8\" font-family=\"Helvetica,sans-Serif\" font-size=\"14.00\">samples = 144</text>\n",
       "<text text-anchor=\"middle\" x=\"545\" y=\"-22.8\" font-family=\"Helvetica,sans-Serif\" font-size=\"14.00\">value = [131, 13]</text>\n",
       "<text text-anchor=\"middle\" x=\"545\" y=\"-7.8\" font-family=\"Helvetica,sans-Serif\" font-size=\"14.00\">class = y[0]</text>\n",
       "</g>\n",
       "<!-- 4&#45;&gt;6 -->\n",
       "<g id=\"edge6\" class=\"edge\">\n",
       "<title>4&#45;&gt;6</title>\n",
       "<path fill=\"none\" stroke=\"black\" d=\"M480.98,-103.73C489.48,-94.61 498.49,-84.93 506.99,-75.81\"/>\n",
       "<polygon fill=\"black\" stroke=\"black\" points=\"509.73,-78 513.98,-68.3 504.6,-73.23 509.73,-78\"/>\n",
       "</g>\n",
       "</g>\n",
       "</svg>\n"
      ],
      "text/plain": [
       "<graphviz.sources.Source at 0x7fbf2c5b4250>"
      ]
     },
     "metadata": {},
     "output_type": "display_data"
    }
   ],
   "source": [
    "display(graphviz.Source(sklearn.tree.export_graphviz(classifier,feature_names=input_features,class_names=True, filled=True)))"
   ]
  },
  {
   "cell_type": "markdown",
   "metadata": {},
   "source": [
    "A decision tree allows splitting the input space into different regions, in such a way that the fraudulent transactions are separated from the genuine transactions. The last level of the tree (the leaves) gives the number of fraudulent and genuine training transactions in each of these regions. The color indicates whether a node or leaf of the tree contains a majority of genuine (orange) or fraudulent (blue) transactions.\n",
    "\n",
    "Each of the five first transactions falls into the first leaf, a region that contains 236 fraudulent transactions and 66498 genuine transactions, that is, a region where the probability of fraud is $\\frac{236}{66498+236}=0.003536$."
   ]
  },
  {
   "cell_type": "markdown",
   "metadata": {},
   "source": [
    "It is worth noting that the decision tree correctly found that transactions with a high amount are frauds (scenario 1 in the [fraud generation process](Fraud_Scenarios_Generation)). The corresponding region is the second leaf. The decision threshold (218.67) is however not optimally found, as the second leaf contains 2 misclassified genuine transactions. The optimal threshold should be 220, as defined in scenario 1, but it was only empirically fitted from the training data that represent a sample of the overall data distribution."
   ]
  },
  {
   "cell_type": "markdown",
   "metadata": {},
   "source": [
    "## performance assessment\n",
    "\n",
    "Let us finally assess the performance of this decision tree model. We will compute three performance metrics: The AUC ROC, Average Precision (AP), and Card Precision top-$k$ (CP@k). The motivation for these three metrics will be covered in [Chapter 4](Performance_Metrics). For now, it is sufficient to know that:\n",
    "\n",
    "* The Card Precision top-$k$ is the most pragmatic and interpretable measure. It takes into account the fact that investigators can only check a maximum of $k$ potentially fraudulent cards per day. It is computed by ranking, for every day in the test set, the most fraudulent transactions, and selecting the $k$ cards whose transactions have the highest fraud probabilities. The precision (proportion of actual compromised cards out of predicted compromised cards) is then computed for each day. The Card Precision top-$k$ is the average of these daily precisions. The number $k$ will be set to $100$ (that is, it is assumed that only 100 cards can be checked every day). The metric is described in detail in [Chapter 4, Precision top-k metrics](Precision_Top_K_Metrics).\n",
    "* The Average Precision is a proxy for the Card Precision top-$k$, that integrates precisions for all possible $k$ values. The metric is described in detail in [Chapter 4, Precision-Recall Curve](Precision_Recall_Curve).\n",
    "* The AUC ROC is an alternative measure to the Average Precision, which gives more importance to scores obtained with higher $k$ values. It is less relevant in practice since the performances that matter most are those for low $k$ values. We however also report it since it is the most widely used performance metric for fraud detection in the literature. The metric is described in detail in [Chapter 4, Receiving Operating Characteristic (ROC) Curve](Receiving_Operating_Characteristic_Curve).\n",
    "\n",
    "Note that all three metrics provide values in the interval $[0,1]$, and that higher values mean better performances. \n",
    "\n",
    "We provide the implementation below for computing these three performance metrics. The details of their implementation will be covered in [Chapter 4](Performance_Metrics).\n"
   ]
  },
  {
   "cell_type": "code",
   "execution_count": 18,
   "metadata": {},
   "outputs": [],
   "source": [
    "def card_precision_top_k_day(df_day,top_k):\n",
    "    \n",
    "    # This takes the max of the predictions AND the max of label TX_FRAUD for each CUSTOMER_ID, \n",
    "    # and sorts by decreasing order of fraudulent prediction\n",
    "    df_day = df_day.groupby('CUSTOMER_ID').max().sort_values(by=\"predictions\", ascending=False).reset_index(drop=False)\n",
    "            \n",
    "    # Get the top k most suspicious cards\n",
    "    df_day_top_k=df_day.head(top_k)\n",
    "    list_detected_compromised_cards=list(df_day_top_k[df_day_top_k.TX_FRAUD==1].CUSTOMER_ID)\n",
    "    \n",
    "    # Compute precision top k\n",
    "    card_precision_top_k = len(list_detected_compromised_cards) / top_k\n",
    "    \n",
    "    return list_detected_compromised_cards, card_precision_top_k\n",
    "\n",
    "def card_precision_top_k(predictions_df, top_k, remove_detected_compromised_cards=True):\n",
    "\n",
    "    # Sort days by increasing order\n",
    "    list_days=list(predictions_df['TX_TIME_DAYS'].unique())\n",
    "    list_days.sort()\n",
    "    \n",
    "    # At first, the list of detected compromised cards is empty\n",
    "    list_detected_compromised_cards = []\n",
    "    \n",
    "    card_precision_top_k_per_day_list = []\n",
    "    nb_compromised_cards_per_day = []\n",
    "    \n",
    "    # For each day, compute precision top k\n",
    "    for day in list_days:\n",
    "        \n",
    "        df_day = predictions_df[predictions_df['TX_TIME_DAYS']==day]\n",
    "        df_day = df_day[['predictions', 'CUSTOMER_ID', 'TX_FRAUD']]\n",
    "        \n",
    "        # Let us remove detected compromised cards from the set of daily transactions\n",
    "        df_day = df_day[df_day.CUSTOMER_ID.isin(list_detected_compromised_cards)==False]\n",
    "        \n",
    "        nb_compromised_cards_per_day.append(len(df_day[df_day.TX_FRAUD==1].CUSTOMER_ID.unique()))\n",
    "        \n",
    "        detected_compromised_cards, card_precision_top_k = card_precision_top_k_day(df_day,top_k)\n",
    "        \n",
    "        card_precision_top_k_per_day_list.append(card_precision_top_k)\n",
    "        \n",
    "        # Let us update the list of detected compromised cards\n",
    "        if remove_detected_compromised_cards:\n",
    "            list_detected_compromised_cards.extend(detected_compromised_cards)\n",
    "        \n",
    "    # Compute the mean\n",
    "    mean_card_precision_top_k = np.array(card_precision_top_k_per_day_list).mean()\n",
    "    \n",
    "    # Returns precision top k per day as a list, and resulting mean\n",
    "    return nb_compromised_cards_per_day,card_precision_top_k_per_day_list,mean_card_precision_top_k\n",
    "\n",
    "def performance_assessment(predictions_df, output_feature='TX_FRAUD', \n",
    "                           prediction_feature='predictions', top_k_list=[100],\n",
    "                           rounded=True):\n",
    "    \n",
    "    AUC_ROC = metrics.roc_auc_score(predictions_df[output_feature], predictions_df[prediction_feature])\n",
    "    AP = metrics.average_precision_score(predictions_df[output_feature], predictions_df[prediction_feature])\n",
    "    \n",
    "    performances = pd.DataFrame([[AUC_ROC, AP]], \n",
    "                           columns=['AUC ROC','Average precision'])\n",
    "    \n",
    "    for top_k in top_k_list:\n",
    "    \n",
    "        _, _, mean_card_precision_top_k = card_precision_top_k(predictions_df, top_k)\n",
    "        performances['Card Precision@'+str(top_k)]=mean_card_precision_top_k\n",
    "        \n",
    "    if rounded:\n",
    "        performances = performances.round(3)\n",
    "    \n",
    "    return performances"
   ]
  },
  {
   "cell_type": "markdown",
   "metadata": {},
   "source": [
    "Let us compute the performance in terms of AUC ROC, Average Precision (AP), and Card Precision top 100 (CP@100) for the decision tree."
   ]
  },
  {
   "cell_type": "code",
   "execution_count": 19,
   "metadata": {},
   "outputs": [
    {
     "data": {
      "text/html": [
       "<div>\n",
       "<style scoped>\n",
       "    .dataframe tbody tr th:only-of-type {\n",
       "        vertical-align: middle;\n",
       "    }\n",
       "\n",
       "    .dataframe tbody tr th {\n",
       "        vertical-align: top;\n",
       "    }\n",
       "\n",
       "    .dataframe thead th {\n",
       "        text-align: right;\n",
       "    }\n",
       "</style>\n",
       "<table border=\"1\" class=\"dataframe\">\n",
       "  <thead>\n",
       "    <tr style=\"text-align: right;\">\n",
       "      <th></th>\n",
       "      <th>AUC ROC</th>\n",
       "      <th>Average precision</th>\n",
       "      <th>Card Precision@100</th>\n",
       "    </tr>\n",
       "  </thead>\n",
       "  <tbody>\n",
       "    <tr>\n",
       "      <th>0</th>\n",
       "      <td>0.763</td>\n",
       "      <td>0.496</td>\n",
       "      <td>0.241</td>\n",
       "    </tr>\n",
       "  </tbody>\n",
       "</table>\n",
       "</div>"
      ],
      "text/plain": [
       "   AUC ROC  Average precision  Card Precision@100\n",
       "0    0.763              0.496               0.241"
      ]
     },
     "execution_count": 19,
     "metadata": {},
     "output_type": "execute_result"
    }
   ],
   "source": [
    "predictions_df=test_df\n",
    "predictions_df['predictions']=model_and_predictions_dictionary['predictions_test']\n",
    "    \n",
    "performance_assessment(predictions_df, top_k_list=[100])"
   ]
  },
  {
   "cell_type": "markdown",
   "metadata": {},
   "source": [
    "The most interpretable metric is the Card Precision@100, which tells us that every day, 24% of the cards with the highest fraudulent scores were indeed compromised. Since the percentage of frauds in the test set is 0.7%, this proportion of detected frauds is high and means that the classifier indeed manages to do much better than chance. \n",
    "\n",
    "The interpretation of the AUC ROC and Average Precision is less straightforward. However, by definition, it is known that a random classifier would give an AUC ROC of 0.5, and an Average Precision of 0.007 (the proportion of frauds in the test set). The obtained values are much higher (0.764) and (0.496), confirming the ability of the classifier to provide much better predictions than a random model.\n",
    "\n",
    "Note: The performances for a random model can be computed by simply setting all predictions to a probability of $0.5$:\n"
   ]
  },
  {
   "cell_type": "code",
   "execution_count": 20,
   "metadata": {},
   "outputs": [
    {
     "data": {
      "text/html": [
       "<div>\n",
       "<style scoped>\n",
       "    .dataframe tbody tr th:only-of-type {\n",
       "        vertical-align: middle;\n",
       "    }\n",
       "\n",
       "    .dataframe tbody tr th {\n",
       "        vertical-align: top;\n",
       "    }\n",
       "\n",
       "    .dataframe thead th {\n",
       "        text-align: right;\n",
       "    }\n",
       "</style>\n",
       "<table border=\"1\" class=\"dataframe\">\n",
       "  <thead>\n",
       "    <tr style=\"text-align: right;\">\n",
       "      <th></th>\n",
       "      <th>AUC ROC</th>\n",
       "      <th>Average precision</th>\n",
       "      <th>Card Precision@100</th>\n",
       "    </tr>\n",
       "  </thead>\n",
       "  <tbody>\n",
       "    <tr>\n",
       "      <th>0</th>\n",
       "      <td>0.5</td>\n",
       "      <td>0.007</td>\n",
       "      <td>0.017</td>\n",
       "    </tr>\n",
       "  </tbody>\n",
       "</table>\n",
       "</div>"
      ],
      "text/plain": [
       "   AUC ROC  Average precision  Card Precision@100\n",
       "0      0.5              0.007               0.017"
      ]
     },
     "execution_count": 20,
     "metadata": {},
     "output_type": "execute_result"
    }
   ],
   "source": [
    "predictions_df['predictions']=0.5\n",
    "    \n",
    "performance_assessment(predictions_df, top_k_list=[100])"
   ]
  },
  {
   "cell_type": "markdown",
   "metadata": {},
   "source": [
    "(Baseline_FDS_Performances_Simulation)=\n",
    "## Performances using standard prediction models"
   ]
  },
  {
   "cell_type": "markdown",
   "metadata": {},
   "source": [
    "We now have all the building blocks to train and assess other classifiers. Besides the decision tree with depth 2, let us train four other prediction models: a *decision tree* with unlimited depth, a *logistic regression* model, a *random forest*, and a boosting model (refer to the import cell for library details). These models are the most commonly used in benchmarks in the fraud detection literature {cite}`yousefi2019comprehensive,priscilla2019credit`. \n",
    " \n",
    "For this purpose, let us first create a dictionary of `sklearn` classifiers that instantiates each of these classifiers. We then train and compute the predictions for each of these classifiers using the `fit_model_and_get_predictions` function."
   ]
  },
  {
   "cell_type": "code",
   "execution_count": 21,
   "metadata": {},
   "outputs": [
    {
     "name": "stdout",
     "output_type": "stream",
     "text": [
      "[11:36:54] WARNING: /private/var/folders/2y/mv3z1v0945b60_l2bzjwpzj80000gn/T/pip-install-v081hmhv/xgboost_5f8c79180547427599a229ec66faab67/build/temp.macosx-10.9-x86_64-3.9/xgboost/src/learner.cc:1115: Starting in XGBoost 1.3.0, the default evaluation metric used with the objective 'binary:logistic' was changed from 'error' to 'logloss'. Explicitly set eval_metric if you'd like to restore the old behavior.\n"
     ]
    }
   ],
   "source": [
    "classifiers_dictionary={'Logistic regression':sklearn.linear_model.LogisticRegression(random_state=0), \n",
    "                        'Decision tree with depth of two':sklearn.tree.DecisionTreeClassifier(max_depth=2,random_state=0), \n",
    "                        'Decision tree - unlimited depth':sklearn.tree.DecisionTreeClassifier(random_state=0), \n",
    "                        'Random forest':sklearn.ensemble.RandomForestClassifier(random_state=0,n_jobs=-1),\n",
    "                        'XGBoost':xgboost.XGBClassifier(random_state=0,n_jobs=-1),\n",
    "                       }\n",
    "\n",
    "fitted_models_and_predictions_dictionary={}\n",
    "\n",
    "for classifier_name in classifiers_dictionary:\n",
    "    \n",
    "    model_and_predictions = fit_model_and_get_predictions(classifiers_dictionary[classifier_name], train_df, test_df, \n",
    "                                                                                  input_features=input_features,\n",
    "                                                                                output_feature=output_feature)\n",
    "    fitted_models_and_predictions_dictionary[classifier_name]=model_and_predictions\n"
   ]
  },
  {
   "cell_type": "markdown",
   "metadata": {},
   "source": [
    "Let us finally assess the prediction performances of these five models, on the test set and the training set, and their execution times."
   ]
  },
  {
   "cell_type": "code",
   "execution_count": 22,
   "metadata": {},
   "outputs": [],
   "source": [
    "def performance_assessment_model_collection(fitted_models_and_predictions_dictionary, \n",
    "                                            transactions_df, \n",
    "                                            type_set='test',\n",
    "                                            top_k_list=[100]):\n",
    "\n",
    "    performances=pd.DataFrame() \n",
    "    \n",
    "    for classifier_name, model_and_predictions in fitted_models_and_predictions_dictionary.items():\n",
    "    \n",
    "        predictions_df=transactions_df\n",
    "            \n",
    "        predictions_df['predictions']=model_and_predictions['predictions_'+type_set]\n",
    "        \n",
    "        performances_model=performance_assessment(predictions_df, output_feature='TX_FRAUD', \n",
    "                                                   prediction_feature='predictions', top_k_list=top_k_list)\n",
    "        performances_model.index=[classifier_name]\n",
    "        \n",
    "        performances=performances.append(performances_model)\n",
    "        \n",
    "    return performances"
   ]
  },
  {
   "cell_type": "code",
   "execution_count": 23,
   "metadata": {},
   "outputs": [
    {
     "data": {
      "text/html": [
       "<div>\n",
       "<style scoped>\n",
       "    .dataframe tbody tr th:only-of-type {\n",
       "        vertical-align: middle;\n",
       "    }\n",
       "\n",
       "    .dataframe tbody tr th {\n",
       "        vertical-align: top;\n",
       "    }\n",
       "\n",
       "    .dataframe thead th {\n",
       "        text-align: right;\n",
       "    }\n",
       "</style>\n",
       "<table border=\"1\" class=\"dataframe\">\n",
       "  <thead>\n",
       "    <tr style=\"text-align: right;\">\n",
       "      <th></th>\n",
       "      <th>AUC ROC</th>\n",
       "      <th>Average precision</th>\n",
       "      <th>Card Precision@100</th>\n",
       "    </tr>\n",
       "  </thead>\n",
       "  <tbody>\n",
       "    <tr>\n",
       "      <th>Logistic regression</th>\n",
       "      <td>0.871</td>\n",
       "      <td>0.606</td>\n",
       "      <td>0.291</td>\n",
       "    </tr>\n",
       "    <tr>\n",
       "      <th>Decision tree with depth of two</th>\n",
       "      <td>0.763</td>\n",
       "      <td>0.496</td>\n",
       "      <td>0.241</td>\n",
       "    </tr>\n",
       "    <tr>\n",
       "      <th>Decision tree - unlimited depth</th>\n",
       "      <td>0.788</td>\n",
       "      <td>0.309</td>\n",
       "      <td>0.243</td>\n",
       "    </tr>\n",
       "    <tr>\n",
       "      <th>Random forest</th>\n",
       "      <td>0.867</td>\n",
       "      <td>0.658</td>\n",
       "      <td>0.287</td>\n",
       "    </tr>\n",
       "    <tr>\n",
       "      <th>XGBoost</th>\n",
       "      <td>0.862</td>\n",
       "      <td>0.639</td>\n",
       "      <td>0.273</td>\n",
       "    </tr>\n",
       "  </tbody>\n",
       "</table>\n",
       "</div>"
      ],
      "text/plain": [
       "                                 AUC ROC  Average precision  \\\n",
       "Logistic regression                0.871              0.606   \n",
       "Decision tree with depth of two    0.763              0.496   \n",
       "Decision tree - unlimited depth    0.788              0.309   \n",
       "Random forest                      0.867              0.658   \n",
       "XGBoost                            0.862              0.639   \n",
       "\n",
       "                                 Card Precision@100  \n",
       "Logistic regression                           0.291  \n",
       "Decision tree with depth of two               0.241  \n",
       "Decision tree - unlimited depth               0.243  \n",
       "Random forest                                 0.287  \n",
       "XGBoost                                       0.273  "
      ]
     },
     "execution_count": 23,
     "metadata": {},
     "output_type": "execute_result"
    }
   ],
   "source": [
    "# performances on test set\n",
    "df_performances=performance_assessment_model_collection(fitted_models_and_predictions_dictionary, test_df, \n",
    "                                                        type_set='test', \n",
    "                                                        top_k_list=[100])\n",
    "df_performances"
   ]
  },
  {
   "cell_type": "code",
   "execution_count": 24,
   "metadata": {},
   "outputs": [
    {
     "data": {
      "text/html": [
       "<div>\n",
       "<style scoped>\n",
       "    .dataframe tbody tr th:only-of-type {\n",
       "        vertical-align: middle;\n",
       "    }\n",
       "\n",
       "    .dataframe tbody tr th {\n",
       "        vertical-align: top;\n",
       "    }\n",
       "\n",
       "    .dataframe thead th {\n",
       "        text-align: right;\n",
       "    }\n",
       "</style>\n",
       "<table border=\"1\" class=\"dataframe\">\n",
       "  <thead>\n",
       "    <tr style=\"text-align: right;\">\n",
       "      <th></th>\n",
       "      <th>AUC ROC</th>\n",
       "      <th>Average precision</th>\n",
       "      <th>Card Precision@100</th>\n",
       "    </tr>\n",
       "  </thead>\n",
       "  <tbody>\n",
       "    <tr>\n",
       "      <th>Logistic regression</th>\n",
       "      <td>0.892</td>\n",
       "      <td>0.663</td>\n",
       "      <td>0.419</td>\n",
       "    </tr>\n",
       "    <tr>\n",
       "      <th>Decision tree with depth of two</th>\n",
       "      <td>0.802</td>\n",
       "      <td>0.586</td>\n",
       "      <td>0.394</td>\n",
       "    </tr>\n",
       "    <tr>\n",
       "      <th>Decision tree - unlimited depth</th>\n",
       "      <td>1.000</td>\n",
       "      <td>1.000</td>\n",
       "      <td>0.576</td>\n",
       "    </tr>\n",
       "    <tr>\n",
       "      <th>Random forest</th>\n",
       "      <td>1.000</td>\n",
       "      <td>1.000</td>\n",
       "      <td>0.576</td>\n",
       "    </tr>\n",
       "    <tr>\n",
       "      <th>XGBoost</th>\n",
       "      <td>1.000</td>\n",
       "      <td>0.995</td>\n",
       "      <td>0.574</td>\n",
       "    </tr>\n",
       "  </tbody>\n",
       "</table>\n",
       "</div>"
      ],
      "text/plain": [
       "                                 AUC ROC  Average precision  \\\n",
       "Logistic regression                0.892              0.663   \n",
       "Decision tree with depth of two    0.802              0.586   \n",
       "Decision tree - unlimited depth    1.000              1.000   \n",
       "Random forest                      1.000              1.000   \n",
       "XGBoost                            1.000              0.995   \n",
       "\n",
       "                                 Card Precision@100  \n",
       "Logistic regression                           0.419  \n",
       "Decision tree with depth of two               0.394  \n",
       "Decision tree - unlimited depth               0.576  \n",
       "Random forest                                 0.576  \n",
       "XGBoost                                       0.574  "
      ]
     },
     "execution_count": 24,
     "metadata": {},
     "output_type": "execute_result"
    }
   ],
   "source": [
    "# performances on training set\n",
    "df_performances=performance_assessment_model_collection(fitted_models_and_predictions_dictionary, train_df, \n",
    "                                                        type_set='train', \n",
    "                                                        top_k_list=[100])\n",
    "df_performances"
   ]
  },
  {
   "cell_type": "code",
   "execution_count": 25,
   "metadata": {},
   "outputs": [],
   "source": [
    "def execution_times_model_collection(fitted_models_and_predictions_dictionary):\n",
    "\n",
    "    execution_times=pd.DataFrame() \n",
    "    \n",
    "    for classifier_name, model_and_predictions in fitted_models_and_predictions_dictionary.items():\n",
    "    \n",
    "        execution_times_model=pd.DataFrame() \n",
    "        execution_times_model['Training execution time']=[model_and_predictions['training_execution_time']]\n",
    "        execution_times_model['Prediction execution time']=[model_and_predictions['prediction_execution_time']]\n",
    "        execution_times_model.index=[classifier_name]\n",
    "        \n",
    "        execution_times=execution_times.append(execution_times_model)\n",
    "        \n",
    "    return execution_times"
   ]
  },
  {
   "cell_type": "code",
   "execution_count": 26,
   "metadata": {},
   "outputs": [
    {
     "data": {
      "text/html": [
       "<div>\n",
       "<style scoped>\n",
       "    .dataframe tbody tr th:only-of-type {\n",
       "        vertical-align: middle;\n",
       "    }\n",
       "\n",
       "    .dataframe tbody tr th {\n",
       "        vertical-align: top;\n",
       "    }\n",
       "\n",
       "    .dataframe thead th {\n",
       "        text-align: right;\n",
       "    }\n",
       "</style>\n",
       "<table border=\"1\" class=\"dataframe\">\n",
       "  <thead>\n",
       "    <tr style=\"text-align: right;\">\n",
       "      <th></th>\n",
       "      <th>Training execution time</th>\n",
       "      <th>Prediction execution time</th>\n",
       "    </tr>\n",
       "  </thead>\n",
       "  <tbody>\n",
       "    <tr>\n",
       "      <th>Logistic regression</th>\n",
       "      <td>1.566042</td>\n",
       "      <td>0.010171</td>\n",
       "    </tr>\n",
       "    <tr>\n",
       "      <th>Decision tree with depth of two</th>\n",
       "      <td>0.079466</td>\n",
       "      <td>0.004938</td>\n",
       "    </tr>\n",
       "    <tr>\n",
       "      <th>Decision tree - unlimited depth</th>\n",
       "      <td>0.759311</td>\n",
       "      <td>0.007423</td>\n",
       "    </tr>\n",
       "    <tr>\n",
       "      <th>Random forest</th>\n",
       "      <td>2.057255</td>\n",
       "      <td>0.106525</td>\n",
       "    </tr>\n",
       "    <tr>\n",
       "      <th>XGBoost</th>\n",
       "      <td>6.960977</td>\n",
       "      <td>0.132526</td>\n",
       "    </tr>\n",
       "  </tbody>\n",
       "</table>\n",
       "</div>"
      ],
      "text/plain": [
       "                                 Training execution time  \\\n",
       "Logistic regression                             1.566042   \n",
       "Decision tree with depth of two                 0.079466   \n",
       "Decision tree - unlimited depth                 0.759311   \n",
       "Random forest                                   2.057255   \n",
       "XGBoost                                         6.960977   \n",
       "\n",
       "                                 Prediction execution time  \n",
       "Logistic regression                               0.010171  \n",
       "Decision tree with depth of two                   0.004938  \n",
       "Decision tree - unlimited depth                   0.007423  \n",
       "Random forest                                     0.106525  \n",
       "XGBoost                                           0.132526  "
      ]
     },
     "execution_count": 26,
     "metadata": {},
     "output_type": "execute_result"
    }
   ],
   "source": [
    "# Execution times\n",
    "df_execution_times=execution_times_model_collection(fitted_models_and_predictions_dictionary)\n",
    "df_execution_times"
   ]
  },
  {
   "cell_type": "markdown",
   "metadata": {},
   "source": [
    "The main takeaways in these performance results are\n",
    "\n",
    "* All prediction models have learned useful fraud patterns from the training data. This can be seen from the AUC ROC on the test set, which is higher than 0.5 for all classifiers, and an average precision much higher than 0.007. \n",
    "* The random forest and boosting models provide better performances (in terms of Average Precision) than logistic regression and decision trees. This is also widely reported in the fraud detection literature. \n",
    "* The relative performances of the classifiers differ depending on which performance metrics is used. For example, a decision tree of depth 2 has a lower AUC ROC than a decision tree of unlimited depth, but a higher average precision. Understanding precisely what these performances mean is crucial, and will be addressed in the next chapter. \n",
    "* The performance of some classifiers (Random Forest and Decision Tree with unlimited depth) is perfect on the training set (AUC ROC and Average Precision of 1), but lower on the test set. In fact, the decision tree with unlimited depth is actually the worst classifier on the test set in terms of Average Precision. This is an example of a phenomenon called *overfitting*, which should be avoided. This issue will be adressed in more detail in [Chapter 5](Validation_Strategies).\n",
    "* As expected, the execution times for training ensembles of models (Random forest and XGBoost) is significantly higher than single models (decision trees and logistic regression). "
   ]
  },
  {
   "cell_type": "code",
   "execution_count": null,
   "metadata": {},
   "outputs": [],
   "source": []
  }
 ],
 "metadata": {
  "kernelspec": {
   "display_name": "Python 3 (ipykernel)",
   "language": "python",
   "name": "python3"
  },
  "language_info": {
   "codemirror_mode": {
    "name": "ipython",
    "version": 3
   },
   "file_extension": ".py",
   "mimetype": "text/x-python",
   "name": "python",
   "nbconvert_exporter": "python",
   "pygments_lexer": "ipython3",
   "version": "3.9.7"
  }
 },
 "nbformat": 4,
 "nbformat_minor": 2
}
