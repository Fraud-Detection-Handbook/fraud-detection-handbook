{
 "cells": [
  {
   "cell_type": "markdown",
   "id": "57eab5a3",
   "metadata": {},
   "source": [
    "(SequentialModeling)=\n",
    "# Sequential models and representation learning\n",
    "\n",
    "In credit card fraud detection, the choice of features is crucial for accurate classification. Considerable research effort has been dedicated to the development of features that are relevant to characterize fraudulent patterns. Feature engineering strategies based on feature aggregations have become commonly adopted {cite}`bahnsen2016feature`. Feature aggregation establishes a connection between the current transaction and other related transactions by computing statistics over their variables. They often originate from complex rules defined from human expertise, and many experiments report that they significantly improve detection {cite}`dal2014learned,jurgovsky2018sequence,dastidar2020nag`.\n",
    "\n",
    "Using feature aggregation for fraud detection is part of a research topic referred to as \"context-aware fraud detection\", where one considers the context (e.g. the cardholder history) associated with a transaction to make the decision. This allows, for instance, to give insights into the properties of the transaction relative to the usual purchase patterns of the cardholder and/or terminal, which is intuitively a relevant piece of information. \n",
    "\n",
    "## Context-aware fraud detection\n",
    "\n",
    "The context is established based on a landmark variable, which is in most of the cases the Customer ID. Concretely, one starts by building the sequence of historical transactions, chronologically ordered from the oldest to the current one, that have the same value for the landmark variable as the current transaction. \n",
    "\n",
    "![Building the transaction sequence](./images/transaction_sequence.png)\n",
    "\n",
    "\n",
    "This whole sequence is the raw basis for context-aware approaches. Indeed, the general process relies on the construction of new features or representations for each given transaction based on its contextual sequence. However, approaches can be divided into two broad categories, the first (Expert representations) relying on domain knowledge from experts to create rules and build feature aggregation, and the second (Automatic representations) oriented towards automated feature extraction strategies with deep learning models. \n",
    "\n",
    "### Expert representations\n",
    "\n",
    "To build expert features from the base sequence, a selection layer relying on expert constraints (same Merchant Category code, same Country, more recent than a week, etc.) is first applied to obtain a more specific subsequence. Then, an aggregation function (sum, avg, ...) is computed over the values of a chosen feature (e.g. amount) in the subsequence. For more details, {cite}`bahnsen2016feature` provides a formal definition of such feature aggregations. Expert features are not necessarily transferable in any fraud detection domain since they rely on specific features that might not always be available. Nevertheless, in practice, the landmark features, constraints features, and aggregated features are often chosen from a set of frequent attributes, comprising Time, Amount, Country, Merchant Category, Customer ID, transaction type.\n",
    "\n",
    "![Expert features creation](./images/expert_agg.png)\n",
    "\n",
    "\n",
    "### Automatic representations\n",
    "\n",
    "The other family of context-aware approaches considers the sequence directly as input in a model and lets it automatically learn the right connections to optimize fraud detection. The advantage of not relying on human knowledge to build the relevant features is obviously to save the costly resources and to ease adaptability and maintenance. Moreover, models can be pushed towards large architectures and learn very complex variable relationships automatically from data. However, it requires a sufficiently large dataset to properly identify the relevant patterns. Otherwise, the feature representations are not very accurate or useful. \n",
    "\n",
    "A baseline technique for automatic usage of contextual data would be to exploit the transaction sequence in its entirety (e.g. flattening it into a set of features), but this removes the information about the order and could lead to a very high dimensional feature space. A more popular strategy consists of (1) turning the sequences into fixed-size sequences and (2) using a special family of models that are able to deal with sequences naturally and summarizing them into relevant vector representations for fraud classification. \n",
    "\n",
    "This strategy is often referred to as sequential learning, the study of learning algorithms for sequential data. The sequential dependency between data points is learned at the algorithmic level. This includes sliding window methods, which often tend to ignore the order between data points within the window, but also models that are designed explicitly to consider the sequential order between consecutive data points (e.g. a Markov Chain). Such models can be found in the family of deep learning architectures under the *recurrent neural networks* category. The link between consecutive elements of the sequence is embedded in the design of the recurrent architecture, where the computation of the hidden state/layer of a more recent event depends on hidden states of previous events. \n",
    "\n",
    "![Illustration of a recurrent model](./images/recurrent_model.png)\n",
    "\n",
    "\n",
    "Sliding window methods include architectures like 1D *convolutional neural networks* (1D-CNN), and sequential methods include architectures like the *long short-term memory* (LSTM). Such architectures have proven to be very efficient in the context of fraud detection in the past {cite}`jurgovsky2018sequence`. \n",
    "\n",
    "In this section, the goal is to explore automatic representation learning from cardholders' sequences of transactions and its application in context-aware fraud detection. The content starts with the practical aspects of building the pipeline to manage sequential data. Then, three architectures are successively explored: a 1D-CNN, an LSTM, and a more complex model that uses an LSTM with *Attention* {cite}`bahdanau2014neural`. The section concludes on perspectives of other modeling possibilities such as sequence-to-sequence autoencoders {cite}`sutskever2014sequence,alazizi2020dual`, or other combinations of the explored models. "
   ]
  },
  {
   "cell_type": "markdown",
   "id": "606c7477",
   "metadata": {},
   "source": [
    "## Data processing\n",
    "\n",
    "With sequence modeling, the building of the data processing pipeline has special importance. In particular, as explained in the introduction, its role is to create the input sequences for the sequential models to learn the representations. \n",
    "\n",
    "The most popular landmark variable to establish the sequence is the Customer ID. Indeed, by the very definition of credit card fraud being a payment done by someone other than the cardholder, it makes the most sense to look at the history of the customer in order to determine when a card payment is fraudulent. \n",
    "\n",
    "Therefore, the goal here is to establish `Datasets` and `DataLoaders` that provide, given a transaction index in the dataset, the sequence of previous transactions (including the one referred by the index) from the same cardholder. Moreover, since models usually deal with fixed-sized sequences, the sequence length will be a parameter, and sequences that are too long (resp. too short) will be cut (resp. padded).\n",
    "\n",
    "As usual, let us start by loading a fixed training and validation period from the processed dataset."
   ]
  },
  {
   "cell_type": "code",
   "execution_count": 1,
   "id": "a04be6e5",
   "metadata": {},
   "outputs": [
    {
     "name": "stdout",
     "output_type": "stream",
     "text": [
      "  % Total    % Received % Xferd  Average Speed   Time    Time     Time  Current\n",
      "                                 Dload  Upload   Total   Spent    Left  Speed\n",
      "100 63257  100 63257    0     0   537k      0 --:--:-- --:--:-- --:--:--  532k\n"
     ]
    }
   ],
   "source": [
    "# Initialization: Load shared functions and simulated data \n",
    "\n",
    "# Load shared functions\n",
    "!curl -O https://raw.githubusercontent.com/Fraud-Detection-Handbook/fraud-detection-handbook/main/Chapter_References/shared_functions.py\n",
    "%run shared_functions.py\n",
    "\n",
    "# Get simulated data from Github repository\n",
    "if not os.path.exists(\"simulated-data-transformed\"):\n",
    "    !git clone https://github.com/Fraud-Detection-Handbook/simulated-data-transformed"
   ]
  },
  {
   "cell_type": "code",
   "execution_count": 2,
   "id": "dce44619",
   "metadata": {},
   "outputs": [
    {
     "name": "stdout",
     "output_type": "stream",
     "text": [
      "Load  files\n",
      "CPU times: user 311 ms, sys: 237 ms, total: 548 ms\n",
      "Wall time: 570 ms\n",
      "919767 transactions loaded, containing 8195 fraudulent transactions\n"
     ]
    }
   ],
   "source": [
    "DIR_INPUT='simulated-data-transformed/data/' \n",
    "\n",
    "BEGIN_DATE = \"2018-06-11\"\n",
    "END_DATE = \"2018-09-14\"\n",
    "\n",
    "print(\"Load  files\")\n",
    "%time transactions_df=read_from_files(DIR_INPUT, BEGIN_DATE, END_DATE)\n",
    "print(\"{0} transactions loaded, containing {1} fraudulent transactions\".format(len(transactions_df),transactions_df.TX_FRAUD.sum()))\n",
    "\n",
    "output_feature=\"TX_FRAUD\"\n",
    "\n",
    "input_features=['TX_AMOUNT','TX_DURING_WEEKEND', 'TX_DURING_NIGHT', 'CUSTOMER_ID_NB_TX_1DAY_WINDOW',\n",
    "       'CUSTOMER_ID_AVG_AMOUNT_1DAY_WINDOW', 'CUSTOMER_ID_NB_TX_7DAY_WINDOW',\n",
    "       'CUSTOMER_ID_AVG_AMOUNT_7DAY_WINDOW', 'CUSTOMER_ID_NB_TX_30DAY_WINDOW',\n",
    "       'CUSTOMER_ID_AVG_AMOUNT_30DAY_WINDOW', 'TERMINAL_ID_NB_TX_1DAY_WINDOW',\n",
    "       'TERMINAL_ID_RISK_1DAY_WINDOW', 'TERMINAL_ID_NB_TX_7DAY_WINDOW',\n",
    "       'TERMINAL_ID_RISK_7DAY_WINDOW', 'TERMINAL_ID_NB_TX_30DAY_WINDOW',\n",
    "       'TERMINAL_ID_RISK_30DAY_WINDOW']"
   ]
  },
  {
   "cell_type": "code",
   "execution_count": 3,
   "id": "29413f75",
   "metadata": {},
   "outputs": [],
   "source": [
    "# Set the starting day for the training period, and the deltas\n",
    "start_date_training = datetime.datetime.strptime(\"2018-07-25\", \"%Y-%m-%d\")\n",
    "delta_train=7\n",
    "delta_delay=7\n",
    "delta_test=7\n",
    "\n",
    "\n",
    "delta_valid = delta_test\n",
    "\n",
    "start_date_training_with_valid = start_date_training+datetime.timedelta(days=-(delta_delay+delta_valid))\n",
    "\n",
    "(train_df, valid_df)=get_train_test_set(transactions_df,start_date_training_with_valid,\n",
    "                                       delta_train=delta_train,delta_delay=delta_delay,delta_test=delta_test)\n",
    "\n",
    "# By default, scales input data\n",
    "(train_df, valid_df)=scaleData(train_df, valid_df,input_features)"
   ]
  },
  {
   "cell_type": "code",
   "execution_count": 4,
   "id": "393b82f8",
   "metadata": {},
   "outputs": [
    {
     "data": {
      "text/plain": [
       "['TX_AMOUNT',\n",
       " 'TX_DURING_WEEKEND',\n",
       " 'TX_DURING_NIGHT',\n",
       " 'CUSTOMER_ID_NB_TX_1DAY_WINDOW',\n",
       " 'CUSTOMER_ID_AVG_AMOUNT_1DAY_WINDOW',\n",
       " 'CUSTOMER_ID_NB_TX_7DAY_WINDOW',\n",
       " 'CUSTOMER_ID_AVG_AMOUNT_7DAY_WINDOW',\n",
       " 'CUSTOMER_ID_NB_TX_30DAY_WINDOW',\n",
       " 'CUSTOMER_ID_AVG_AMOUNT_30DAY_WINDOW',\n",
       " 'TERMINAL_ID_NB_TX_1DAY_WINDOW',\n",
       " 'TERMINAL_ID_RISK_1DAY_WINDOW',\n",
       " 'TERMINAL_ID_NB_TX_7DAY_WINDOW',\n",
       " 'TERMINAL_ID_RISK_7DAY_WINDOW',\n",
       " 'TERMINAL_ID_NB_TX_30DAY_WINDOW',\n",
       " 'TERMINAL_ID_RISK_30DAY_WINDOW']"
      ]
     },
     "execution_count": 4,
     "metadata": {},
     "output_type": "execute_result"
    }
   ],
   "source": [
    "input_features"
   ]
  },
  {
   "cell_type": "markdown",
   "id": "21539691",
   "metadata": {},
   "source": [
    "This time, additionally to the above features, building the sequences will require two additional fields from the DataFrames:\n",
    "* `CUSTOMER_ID`: the landmark variable that will be used to select past transactions.\n",
    "* `TX_DATETIME`: the time variable that will allow building sequences in chronological order."
   ]
  },
  {
   "cell_type": "code",
   "execution_count": 5,
   "id": "ac934721",
   "metadata": {},
   "outputs": [],
   "source": [
    "dates = train_df['TX_DATETIME'].values"
   ]
  },
  {
   "cell_type": "code",
   "execution_count": 6,
   "id": "f2f2e1eb",
   "metadata": {},
   "outputs": [],
   "source": [
    "customer_ids = train_df['CUSTOMER_ID'].values"
   ]
  },
  {
   "cell_type": "markdown",
   "id": "86bb7e26",
   "metadata": {},
   "source": [
    "There are multiple ways to implement sequence creation for training/validation. One way is to precompute, for each transaction, the indices of the previous transactions of the sequence and to store them. Then, to build the sequences of features on the fly from the indices. \n",
    "\n",
    "Here we propose some steps to proceed but keep in mind that other solutions are just as valid.\n",
    "\n",
    "### Setting the sequence length\n",
    "\n",
    "The first step is to set a sequence length. In the literature, 5 or 10 are two values that are often chosen {cite}`jurgovsky2018sequence`. This can later be a parameter to tune but here, let us arbitrarily set it to 5 to begin with. "
   ]
  },
  {
   "cell_type": "code",
   "execution_count": 7,
   "id": "3c595c2d",
   "metadata": {},
   "outputs": [],
   "source": [
    "seq_len = 5"
   ]
  },
  {
   "cell_type": "markdown",
   "id": "7204f572",
   "metadata": {},
   "source": [
    "### Ordering elements chronologically\n",
    "\n",
    "In our case, transactions are already sorted, but in the most general case, to build the sequences, it is necessary to sort all transactions chronologically and keep the sorting indices:"
   ]
  },
  {
   "cell_type": "code",
   "execution_count": 8,
   "id": "8ec07476",
   "metadata": {},
   "outputs": [],
   "source": [
    "indices_sort = np.argsort(dates)\n",
    "sorted_dates = dates[indices_sort]\n",
    "sorted_ids = customer_ids[indices_sort]"
   ]
  },
  {
   "cell_type": "markdown",
   "id": "57b8d5b2",
   "metadata": {},
   "source": [
    "### Separating data according to the landmark variable (Customer ID)\n",
    "\n",
    "After sorting, the dataset is a large sequence with all transactions from all cardholders. We can separate it into several sequences that each contain only the transactions of a single cardholder. Finally, each customer sequence can be turned into several fixed-size sequences using a sliding window and padding. "
   ]
  },
  {
   "cell_type": "markdown",
   "id": "5127ea69",
   "metadata": {},
   "source": [
    "To separate the dataset, let us get the list of customers:"
   ]
  },
  {
   "cell_type": "code",
   "execution_count": 9,
   "id": "dd26e1c1",
   "metadata": {},
   "outputs": [],
   "source": [
    "unique_customer_ids = np.unique(sorted_ids)"
   ]
  },
  {
   "cell_type": "code",
   "execution_count": 10,
   "id": "2b20ddbb",
   "metadata": {},
   "outputs": [
    {
     "data": {
      "text/plain": [
       "array([0, 1, 2, 3, 4, 5, 6, 7, 8, 9])"
      ]
     },
     "execution_count": 10,
     "metadata": {},
     "output_type": "execute_result"
    }
   ],
   "source": [
    "unique_customer_ids[0:10]"
   ]
  },
  {
   "cell_type": "markdown",
   "id": "ffdc6b48",
   "metadata": {},
   "source": [
    "For each customer, the associated subsequence can be selected with a boolean mask. Here is for example the sequence of transaction IDs for customer `0`."
   ]
  },
  {
   "cell_type": "code",
   "execution_count": 11,
   "id": "d6247ffe",
   "metadata": {},
   "outputs": [
    {
     "data": {
      "text/plain": [
       "array([ 1888, 10080, 12847, 15627, 18908, 22842, 37972, 42529, 44495,\n",
       "       48980, 58692, 63977])"
      ]
     },
     "execution_count": 11,
     "metadata": {},
     "output_type": "execute_result"
    }
   ],
   "source": [
    "idx = 0\n",
    "current_customer_id = unique_customer_ids[idx]\n",
    "customer_mask = sorted_ids == current_customer_id\n",
    "# this is the full sequence of transaction indices (after sort) for customer 0\n",
    "customer_full_seq = np.where(customer_mask)[0]\n",
    "# this is the full sequence of transaction indices (before sort) for customer 0\n",
    "customer_full_seq_original_indices = indices_sort[customer_full_seq]\n",
    "customer_full_seq_original_indices"
   ]
  },
  {
   "cell_type": "markdown",
   "id": "08149665",
   "metadata": {},
   "source": [
    "### Turning a customer sequence into fixed size sequences\n",
    "\n",
    "The above sequence is the whole sequence for customer `0`. But the goal is to have, for each transaction `i` of this sequence, a fixed size sequence that ends with transaction `i`, which will be used as input in the sequential model to predict the label of transaction `i`. In the example above:\n",
    "* For transaction 1888: the 4 previous transactions are [none,none,none,none] (Note: none can be replaced with a default value like -1). So the sequence [none, none, none, none, 1888] will be created.\n",
    "* For transaction 10080, the sequence will be [none, none, none, 1888, 10080]\n",
    "* ...\n",
    "* For transaction 37972, the sequence will be [12847, 15627, 18908, 22842, 37972]\n",
    "* Etc.\n",
    "\n",
    "Using a sliding window (or rolling window) allows to obtain those sequences:"
   ]
  },
  {
   "cell_type": "code",
   "execution_count": 12,
   "id": "0883070a",
   "metadata": {},
   "outputs": [],
   "source": [
    "def rolling_window(array, window):\n",
    "    a = np.concatenate([np.ones((window-1,))*-1,array])\n",
    "    shape = a.shape[:-1] + (a.shape[-1] - window + 1, window)\n",
    "    strides = a.strides + (a.strides[-1],)\n",
    "    return np.lib.stride_tricks.as_strided(a, shape=shape, strides=strides).astype(int)"
   ]
  },
  {
   "cell_type": "code",
   "execution_count": 13,
   "id": "de256456",
   "metadata": {},
   "outputs": [],
   "source": [
    "customer_all_seqs = rolling_window(customer_full_seq_original_indices,seq_len)"
   ]
  },
  {
   "cell_type": "code",
   "execution_count": 14,
   "id": "079897a3",
   "metadata": {},
   "outputs": [
    {
     "data": {
      "text/plain": [
       "array([[   -1,    -1,    -1,    -1,  1888],\n",
       "       [   -1,    -1,    -1,  1888, 10080],\n",
       "       [   -1,    -1,  1888, 10080, 12847],\n",
       "       [   -1,  1888, 10080, 12847, 15627],\n",
       "       [ 1888, 10080, 12847, 15627, 18908],\n",
       "       [10080, 12847, 15627, 18908, 22842],\n",
       "       [12847, 15627, 18908, 22842, 37972],\n",
       "       [15627, 18908, 22842, 37972, 42529],\n",
       "       [18908, 22842, 37972, 42529, 44495],\n",
       "       [22842, 37972, 42529, 44495, 48980],\n",
       "       [37972, 42529, 44495, 48980, 58692],\n",
       "       [42529, 44495, 48980, 58692, 63977]])"
      ]
     },
     "execution_count": 14,
     "metadata": {},
     "output_type": "execute_result"
    }
   ],
   "source": [
    "customer_all_seqs"
   ]
  },
  {
   "cell_type": "markdown",
   "id": "fe162a51",
   "metadata": {},
   "source": [
    "### Generating the sequences of transaction features on the fly from the sequences of indices\n",
    "\n",
    "From the indices' sequences and the features of each transaction (available in `x_train`), building the features sequences is straightforward. Let us do it for the 6th sequence:"
   ]
  },
  {
   "cell_type": "code",
   "execution_count": 15,
   "id": "6b56d628",
   "metadata": {},
   "outputs": [
    {
     "data": {
      "text/plain": [
       "array([10080, 12847, 15627, 18908, 22842])"
      ]
     },
     "execution_count": 15,
     "metadata": {},
     "output_type": "execute_result"
    }
   ],
   "source": [
    "customer_all_seqs[5]"
   ]
  },
  {
   "cell_type": "code",
   "execution_count": 16,
   "id": "fa5d392f",
   "metadata": {},
   "outputs": [],
   "source": [
    "x_train = torch.FloatTensor(train_df[input_features].values)"
   ]
  },
  {
   "cell_type": "code",
   "execution_count": 17,
   "id": "74c12951",
   "metadata": {},
   "outputs": [],
   "source": [
    "sixth_sequence = x_train[customer_all_seqs[5],:]"
   ]
  },
  {
   "cell_type": "code",
   "execution_count": 18,
   "id": "8fb17386",
   "metadata": {},
   "outputs": [
    {
     "data": {
      "text/plain": [
       "tensor([[ 0.6965, -0.6306,  2.1808, -0.8466,  0.0336, -1.1665,  0.0176, -0.9341,\n",
       "          0.2310, -0.9810, -0.0816, -0.3445, -0.1231, -0.2491, -0.1436],\n",
       "        [ 0.0358, -0.6306, -0.4586, -0.8466,  0.4450, -1.1665,  0.1112, -0.8994,\n",
       "          0.2278,  0.0028, -0.0816,  0.6425, -0.1231, -0.0082, -0.1436],\n",
       "        [ 1.1437, -0.6306, -0.4586, -0.3003,  0.7595, -1.0352,  0.2462, -0.8994,\n",
       "          0.2458,  1.9702, -0.0816,  1.3005, -0.1231,  1.7989, -0.1436],\n",
       "        [ 0.3645, -0.6306, -0.4586,  0.2461,  0.6804, -1.0352,  0.3186, -0.8647,\n",
       "          0.2514,  1.9702, -0.0816,  0.3135, -0.1231, -0.8514, -0.1436],\n",
       "        [ 0.3348, -0.6306, -0.4586, -0.3003,  0.7462, -1.1665,  0.2494, -0.8994,\n",
       "          0.2262, -0.9810, -0.0816, -2.3185, -0.1231, -1.5743, -0.1436]])"
      ]
     },
     "execution_count": 18,
     "metadata": {},
     "output_type": "execute_result"
    }
   ],
   "source": [
    "sixth_sequence"
   ]
  },
  {
   "cell_type": "code",
   "execution_count": 19,
   "id": "8be45d5b",
   "metadata": {},
   "outputs": [
    {
     "data": {
      "text/plain": [
       "torch.Size([5, 15])"
      ]
     },
     "execution_count": 19,
     "metadata": {},
     "output_type": "execute_result"
    }
   ],
   "source": [
    "sixth_sequence.shape"
   ]
  },
  {
   "cell_type": "markdown",
   "id": "60c5c434",
   "metadata": {},
   "source": [
    "Note: Here, the sequence of indices (`customer_all_seqs[5]`) was made of valid indices. When there are invalid indices (`-1`), the idea is to put a \"padding transaction\" (e.g. with all features equal to zero or equal to the average value that they have in the training set) in the final sequence. To obtain a homogeneous code that can be used for both valid and invalid indices, on can append the \"padding transaction\" to `x_train` at the end and replace all `-1` with the index of this added transaction."
   ]
  },
  {
   "cell_type": "markdown",
   "id": "f0364431",
   "metadata": {},
   "source": [
    "### Efficient implementation with pandas and groupby\n",
    "\n",
    "The above steps are described for educational purposes as they allow to understand all the necessary operations to build the sequences of transactions. In practice, because this process requires a time-consuming loop over all Customer IDs, it is better to rely on a dataframe instead and use the pandas `groupby` function. More precisely, the idea is to group the elements of the transaction dataframe by Customer ID and to use the `shift` function to determine, for each transaction, the ones that occurred before. In order not to edit the original dataframe, let us first create a new one that only contains the necessary features."
   ]
  },
  {
   "cell_type": "code",
   "execution_count": 20,
   "id": "10c73d1e",
   "metadata": {},
   "outputs": [],
   "source": [
    "df_ids_dates = pd.DataFrame({'CUSTOMER_ID': customer_ids,\n",
    "        'TX_DATETIME': dates})\n",
    "\n",
    "#checking if the transaction are chronologically ordered\n",
    "datetime_diff = (df_ids_dates[\"TX_DATETIME\"] - df_ids_dates[\"TX_DATETIME\"].shift(1)).iloc[1:].dt.total_seconds()\n",
    "assert (datetime_diff >= 0).all()"
   ]
  },
  {
   "cell_type": "markdown",
   "id": "ccfd793c",
   "metadata": {},
   "source": [
    "Let us now add a new column with the initial row indices, that will be later used with the `shift` function."
   ]
  },
  {
   "cell_type": "code",
   "execution_count": 21,
   "id": "df85bf14",
   "metadata": {},
   "outputs": [],
   "source": [
    "df_ids_dates[\"tmp_index\"]  = np.arange(len(df_ids_dates))"
   ]
  },
  {
   "cell_type": "code",
   "execution_count": 22,
   "id": "1ad9ce0f",
   "metadata": {},
   "outputs": [
    {
     "data": {
      "text/html": [
       "<div>\n",
       "<style scoped>\n",
       "    .dataframe tbody tr th:only-of-type {\n",
       "        vertical-align: middle;\n",
       "    }\n",
       "\n",
       "    .dataframe tbody tr th {\n",
       "        vertical-align: top;\n",
       "    }\n",
       "\n",
       "    .dataframe thead th {\n",
       "        text-align: right;\n",
       "    }\n",
       "</style>\n",
       "<table border=\"1\" class=\"dataframe\">\n",
       "  <thead>\n",
       "    <tr style=\"text-align: right;\">\n",
       "      <th></th>\n",
       "      <th>CUSTOMER_ID</th>\n",
       "      <th>TX_DATETIME</th>\n",
       "      <th>tmp_index</th>\n",
       "    </tr>\n",
       "  </thead>\n",
       "  <tbody>\n",
       "    <tr>\n",
       "      <th>0</th>\n",
       "      <td>579</td>\n",
       "      <td>2018-07-11 00:00:54</td>\n",
       "      <td>0</td>\n",
       "    </tr>\n",
       "    <tr>\n",
       "      <th>1</th>\n",
       "      <td>181</td>\n",
       "      <td>2018-07-11 00:01:59</td>\n",
       "      <td>1</td>\n",
       "    </tr>\n",
       "    <tr>\n",
       "      <th>2</th>\n",
       "      <td>4386</td>\n",
       "      <td>2018-07-11 00:03:39</td>\n",
       "      <td>2</td>\n",
       "    </tr>\n",
       "    <tr>\n",
       "      <th>3</th>\n",
       "      <td>4599</td>\n",
       "      <td>2018-07-11 00:05:50</td>\n",
       "      <td>3</td>\n",
       "    </tr>\n",
       "    <tr>\n",
       "      <th>4</th>\n",
       "      <td>4784</td>\n",
       "      <td>2018-07-11 00:06:04</td>\n",
       "      <td>4</td>\n",
       "    </tr>\n",
       "  </tbody>\n",
       "</table>\n",
       "</div>"
      ],
      "text/plain": [
       "   CUSTOMER_ID         TX_DATETIME  tmp_index\n",
       "0          579 2018-07-11 00:00:54          0\n",
       "1          181 2018-07-11 00:01:59          1\n",
       "2         4386 2018-07-11 00:03:39          2\n",
       "3         4599 2018-07-11 00:05:50          3\n",
       "4         4784 2018-07-11 00:06:04          4"
      ]
     },
     "execution_count": 22,
     "metadata": {},
     "output_type": "execute_result"
    }
   ],
   "source": [
    "df_ids_dates.head()"
   ]
  },
  {
   "cell_type": "markdown",
   "id": "070b130f",
   "metadata": {},
   "source": [
    "The next step is to group the elements by Customer ID:"
   ]
  },
  {
   "cell_type": "code",
   "execution_count": 23,
   "id": "4adcf41e",
   "metadata": {},
   "outputs": [],
   "source": [
    "df_groupby_customer_id = df_ids_dates.groupby(\"CUSTOMER_ID\")"
   ]
  },
  {
   "cell_type": "markdown",
   "id": "b84e583c",
   "metadata": {},
   "source": [
    "Now it is possible to compute a shifted `tmp_index` with respect to the grouping by `CUSTOMER_ID`. For instance, shifting by 0 gives the current transaction index and shifting by 1 gives the previous transaction index (or NaN if the current transaction is the first transaction of the customer)."
   ]
  },
  {
   "cell_type": "code",
   "execution_count": 24,
   "id": "a1f06ec4",
   "metadata": {},
   "outputs": [
    {
     "data": {
      "text/plain": [
       "0            0\n",
       "1            1\n",
       "2            2\n",
       "3            3\n",
       "4            4\n",
       "         ...  \n",
       "66923    66923\n",
       "66924    66924\n",
       "66925    66925\n",
       "66926    66926\n",
       "66927    66927\n",
       "Name: tmp_index, Length: 66928, dtype: int64"
      ]
     },
     "execution_count": 24,
     "metadata": {},
     "output_type": "execute_result"
    }
   ],
   "source": [
    "df_groupby_customer_id[\"tmp_index\"].shift(0)"
   ]
  },
  {
   "cell_type": "code",
   "execution_count": 25,
   "id": "8c739ecd",
   "metadata": {},
   "outputs": [
    {
     "data": {
      "text/plain": [
       "0            NaN\n",
       "1            NaN\n",
       "2            NaN\n",
       "3            NaN\n",
       "4            NaN\n",
       "          ...   \n",
       "66923    66805.0\n",
       "66924    64441.0\n",
       "66925    66777.0\n",
       "66926    63338.0\n",
       "66927    60393.0\n",
       "Name: tmp_index, Length: 66928, dtype: float64"
      ]
     },
     "execution_count": 25,
     "metadata": {},
     "output_type": "execute_result"
    }
   ],
   "source": [
    "df_groupby_customer_id[\"tmp_index\"].shift(1)"
   ]
  },
  {
   "cell_type": "markdown",
   "id": "dcf2e5b8",
   "metadata": {},
   "source": [
    "To obtain the whole sequences of indices, the only thing to do is to loop over the shift parameter, from `seq_len` - 1 to 0. "
   ]
  },
  {
   "cell_type": "code",
   "execution_count": 26,
   "id": "069a3c29",
   "metadata": {},
   "outputs": [],
   "source": [
    "sequence_indices = pd.DataFrame(\n",
    "            {\n",
    "                \"tx_{}\".format(n): df_groupby_customer_id[\"tmp_index\"].shift(seq_len - n - 1)\n",
    "                for n in range(seq_len)\n",
    "            }\n",
    "        )\n",
    "\n",
    "sequence_indices = sequence_indices.fillna(-1).astype(int)"
   ]
  },
  {
   "cell_type": "code",
   "execution_count": 27,
   "id": "3fdcc0e9",
   "metadata": {},
   "outputs": [
    {
     "data": {
      "text/html": [
       "<div>\n",
       "<style scoped>\n",
       "    .dataframe tbody tr th:only-of-type {\n",
       "        vertical-align: middle;\n",
       "    }\n",
       "\n",
       "    .dataframe tbody tr th {\n",
       "        vertical-align: top;\n",
       "    }\n",
       "\n",
       "    .dataframe thead th {\n",
       "        text-align: right;\n",
       "    }\n",
       "</style>\n",
       "<table border=\"1\" class=\"dataframe\">\n",
       "  <thead>\n",
       "    <tr style=\"text-align: right;\">\n",
       "      <th></th>\n",
       "      <th>tx_0</th>\n",
       "      <th>tx_1</th>\n",
       "      <th>tx_2</th>\n",
       "      <th>tx_3</th>\n",
       "      <th>tx_4</th>\n",
       "    </tr>\n",
       "  </thead>\n",
       "  <tbody>\n",
       "    <tr>\n",
       "      <th>0</th>\n",
       "      <td>-1</td>\n",
       "      <td>-1</td>\n",
       "      <td>-1</td>\n",
       "      <td>-1</td>\n",
       "      <td>0</td>\n",
       "    </tr>\n",
       "    <tr>\n",
       "      <th>1</th>\n",
       "      <td>-1</td>\n",
       "      <td>-1</td>\n",
       "      <td>-1</td>\n",
       "      <td>-1</td>\n",
       "      <td>1</td>\n",
       "    </tr>\n",
       "    <tr>\n",
       "      <th>2</th>\n",
       "      <td>-1</td>\n",
       "      <td>-1</td>\n",
       "      <td>-1</td>\n",
       "      <td>-1</td>\n",
       "      <td>2</td>\n",
       "    </tr>\n",
       "    <tr>\n",
       "      <th>3</th>\n",
       "      <td>-1</td>\n",
       "      <td>-1</td>\n",
       "      <td>-1</td>\n",
       "      <td>-1</td>\n",
       "      <td>3</td>\n",
       "    </tr>\n",
       "    <tr>\n",
       "      <th>4</th>\n",
       "      <td>-1</td>\n",
       "      <td>-1</td>\n",
       "      <td>-1</td>\n",
       "      <td>-1</td>\n",
       "      <td>4</td>\n",
       "    </tr>\n",
       "  </tbody>\n",
       "</table>\n",
       "</div>"
      ],
      "text/plain": [
       "   tx_0  tx_1  tx_2  tx_3  tx_4\n",
       "0    -1    -1    -1    -1     0\n",
       "1    -1    -1    -1    -1     1\n",
       "2    -1    -1    -1    -1     2\n",
       "3    -1    -1    -1    -1     3\n",
       "4    -1    -1    -1    -1     4"
      ]
     },
     "execution_count": 27,
     "metadata": {},
     "output_type": "execute_result"
    }
   ],
   "source": [
    "sequence_indices.head()"
   ]
  },
  {
   "cell_type": "markdown",
   "id": "12a76240",
   "metadata": {},
   "source": [
    "As a sanity check, let us see if this method computes the same sequences as the previous method for transaction 12847, 15627 and 18908 which were (see 4.2.4):\n",
    "\n",
    "* [   -1,    -1,  1888, 10080, 12847]\n",
    "* [   -1,  1888, 10080, 12847, 15627]\n",
    "* [ 1888, 10080, 12847, 15627, 18908]"
   ]
  },
  {
   "cell_type": "code",
   "execution_count": 28,
   "id": "2e8d7095",
   "metadata": {},
   "outputs": [
    {
     "name": "stdout",
     "output_type": "stream",
     "text": [
      "[   -1    -1  1888 10080 12847]\n",
      "[   -1  1888 10080 12847 15627]\n",
      "[ 1888 10080 12847 15627 18908]\n"
     ]
    }
   ],
   "source": [
    "print(sequence_indices.loc[12847].values)\n",
    "print(sequence_indices.loc[15627].values)\n",
    "print(sequence_indices.loc[18908].values)"
   ]
  },
  {
   "cell_type": "markdown",
   "id": "0db8c6c5",
   "metadata": {},
   "source": [
    "### Managing sequence creation into a torch Dataset\n",
    "\n",
    "Now that the process is ready and tested, the final step is to implement it within a torch `Dataset` to use it in a training loop. To simplify the usage, let us consider the \"zeros\" padding strategy as default. The precomputation of indices and the creation of the padding transaction (a transaction with all features to zero) will be done at initialization. Then, the `__getitem__` function will build the sequence of features on the fly. "
   ]
  },
  {
   "cell_type": "code",
   "execution_count": 29,
   "id": "160fba8b",
   "metadata": {},
   "outputs": [
    {
     "name": "stdout",
     "output_type": "stream",
     "text": [
      "Selected device is cuda\n"
     ]
    }
   ],
   "source": [
    "if torch.cuda.is_available():\n",
    "    DEVICE = \"cuda\" \n",
    "else:\n",
    "    DEVICE = \"cpu\"\n",
    "print(\"Selected device is\",DEVICE)"
   ]
  },
  {
   "cell_type": "code",
   "execution_count": 30,
   "id": "284aec31",
   "metadata": {},
   "outputs": [],
   "source": [
    "class FraudSequenceDataset(torch.utils.data.Dataset):\n",
    "    \n",
    "    def __init__(self, x,y,customer_ids, dates, seq_len, padding_mode = 'zeros', output=True):\n",
    "        'Initialization'\n",
    "        \n",
    "        # x,y,customer_ids, and dates must have the same length\n",
    "        \n",
    "        # storing the features x in self.features and adding the \"padding\" transaction at the end\n",
    "        if padding_mode == \"mean\":\n",
    "            self.features = torch.vstack([x, x.mean(axis=0)])\n",
    "        elif padding_mode == \"zeros\":\n",
    "            self.features = torch.vstack([x, torch.zeros(x[0,:].shape)])            \n",
    "        else:\n",
    "            raise ValueError('padding_mode must be \"mean\" or \"zeros\"')\n",
    "        self.y = y\n",
    "        self.customer_ids = customer_ids\n",
    "        self.dates = dates\n",
    "        self.seq_len = seq_len\n",
    "        self.output = output\n",
    "        \n",
    "        #===== computing sequences ids =====  \n",
    "        \n",
    "        \n",
    "        df_ids_dates = pd.DataFrame({'CUSTOMER_ID':customer_ids,\n",
    "        'TX_DATETIME':dates})\n",
    "        \n",
    "        df_ids_dates[\"tmp_index\"]  = np.arange(len(df_ids_dates))\n",
    "        df_groupby_customer_id = df_ids_dates.groupby(\"CUSTOMER_ID\")\n",
    "        sequence_indices = pd.DataFrame(\n",
    "            {\n",
    "                \"tx_{}\".format(n): df_groupby_customer_id[\"tmp_index\"].shift(seq_len - n - 1)\n",
    "                for n in range(seq_len)\n",
    "            }\n",
    "        )\n",
    "        \n",
    "        #replaces -1 (padding) with the index of the padding transaction (last index of self.features)\n",
    "        self.sequences_ids = sequence_indices.fillna(len(self.features) - 1).values.astype(int)              \n",
    "\n",
    "\n",
    "    def __len__(self):\n",
    "        'Denotes the total number of samples'\n",
    "        # not len(self.features) because of the added padding transaction\n",
    "        return len(self.customer_ids)\n",
    "\n",
    "    def __getitem__(self, index):\n",
    "        'Generates one sample of data'\n",
    "        # Select sample index\n",
    "        \n",
    "        tx_ids = self.sequences_ids[index]\n",
    "        \n",
    "        if self.output:\n",
    "            #transposing because the CNN considers the channel dimension before the sequence dimension\n",
    "            return self.features[tx_ids,:].transpose(0,1).to(DEVICE), self.y[index].to(DEVICE)\n",
    "        else:\n",
    "            return self.features[tx_ids,:].transpose(0,1).to(DEVICE)"
   ]
  },
  {
   "cell_type": "markdown",
   "id": "abcff0be",
   "metadata": {},
   "source": [
    "As a sanity check, let us try the `Dataset` within a `DataLoader`"
   ]
  },
  {
   "cell_type": "code",
   "execution_count": 31,
   "id": "7c46f5e0",
   "metadata": {},
   "outputs": [],
   "source": [
    "x_train = torch.FloatTensor(train_df[input_features].values)\n",
    "x_valid = torch.FloatTensor(valid_df[input_features].values)\n",
    "y_train = torch.FloatTensor(train_df[output_feature].values)\n",
    "y_valid = torch.FloatTensor(valid_df[output_feature].values)"
   ]
  },
  {
   "cell_type": "code",
   "execution_count": 32,
   "id": "e97ce01b",
   "metadata": {},
   "outputs": [],
   "source": [
    "SEED = 42\n",
    "seed_everything(SEED)"
   ]
  },
  {
   "cell_type": "code",
   "execution_count": 33,
   "id": "3eb88675",
   "metadata": {},
   "outputs": [],
   "source": [
    "train_loader_params = {'batch_size': 64,\n",
    "          'shuffle': True,\n",
    "          'num_workers': 0}\n",
    "\n",
    "\n",
    "# Generators\n",
    "\n",
    "training_set = FraudSequenceDataset(x_train, y_train,train_df['CUSTOMER_ID'].values, train_df['TX_DATETIME'].values,seq_len,padding_mode = \"zeros\")\n",
    "training_generator = torch.utils.data.DataLoader(training_set, **train_loader_params)"
   ]
  },
  {
   "cell_type": "markdown",
   "id": "7bdec455",
   "metadata": {},
   "source": [
    "Let us see how the first training batch looks like:"
   ]
  },
  {
   "cell_type": "code",
   "execution_count": 34,
   "id": "b1dac7ef",
   "metadata": {},
   "outputs": [],
   "source": [
    "x_batch, y_batch = next(iter(training_generator))"
   ]
  },
  {
   "cell_type": "code",
   "execution_count": 35,
   "id": "1b8480ad",
   "metadata": {},
   "outputs": [
    {
     "data": {
      "text/plain": [
       "torch.Size([64, 15, 5])"
      ]
     },
     "execution_count": 35,
     "metadata": {},
     "output_type": "execute_result"
    }
   ],
   "source": [
    "x_batch.shape"
   ]
  },
  {
   "cell_type": "code",
   "execution_count": 36,
   "id": "be664488",
   "metadata": {},
   "outputs": [
    {
     "data": {
      "text/plain": [
       "torch.Size([64])"
      ]
     },
     "execution_count": 36,
     "metadata": {},
     "output_type": "execute_result"
    }
   ],
   "source": [
    "y_batch.shape"
   ]
  },
  {
   "cell_type": "markdown",
   "id": "b96c6dc9",
   "metadata": {},
   "source": [
    "The shape of `x_batch` is (`batch_size`= 64,`number of features`= 15, `seq_len`= 5) which is the expected input for a 1-D convolutional network or a recurrent model like an LSTM."
   ]
  },
  {
   "cell_type": "markdown",
   "id": "36ff3efe",
   "metadata": {},
   "source": [
    "## Convolutional neural network for fraud detection"
   ]
  },
  {
   "cell_type": "markdown",
   "id": "7f18d259",
   "metadata": {},
   "source": [
    "Convolutional neural networks (CNN) are neural networks with specific convolutional layers that allow (1) detecting specific patterns or shapes in patches of input and (2) reducing spatial complexity when dealing with large inputs (e.g. an image with millions of pixels). \n",
    "\n",
    "To do that, they replace the regular fully connected layer with a layer of convolutional filters that performs a convolution operation over the input neurons. \n",
    "\n",
    "![Illustration of a 2D-convolutional layer](./images/convnet.png)\n",
    "\n",
    "A convolutional layer has `num_filters` filters, with weights of a chosen dimension. If we consider a 2D-convolutional layer, each filter has 2 dimensions (width and height). In the example above, we consider an 8x6 input and a 3x3 filter. The convolution operation consists in sliding the filter over the input from left to right and from up to bottom, and each time computing the weighted sum of the input patch using the filter weights and applying an activation function to obtain an output similar to a regular neuron. In the figure, we represent with dashed squares on the left the first two input patches that the filter goes through and on the right the two corresponding outputs. Here we considered a `stride` parameter of 1, which means that the filter slides by 1 input each time. There is no padding, so the filter does not slide outside of the input, therefore the result is a map of features of dimension (8-(3-1))x(6-(3-1)), i.e. 6x4. But one can apply padding (considering that values outside the input are zeros) so that the output feature map has the same dimension as the input. \n",
    "\n",
    "The convolution operation can be seen as a filter scanning the input to identify a specific pattern. The weights of the filters are learned by the model. Having multiple filters allows capturing multiple patterns that are useful to reduce the loss for the task at hand. \n",
    "\n",
    "In order to summarize the information in final layers or to save memory in intermediate ones, the obtained feature maps can be aggregated into smaller maps with pooling layers (average, max).\n",
    "\n",
    "### 1D-convolutions \n",
    "\n",
    "Note: Although not represented in the figure, if the input is an image, the input is in fact 3-dimensional (a 2D map of 3 features also called channels, namely RGB levels). The user only defines 2 dimensions for the filter (along the \"sliding\" directions) but the filters are in reality 3-dimensional as well, the last dimension matching the channel dimension.\n",
    "\n",
    "2D-convolutions are only used to analyze inputs for which it makes sense to slide along 2 dimensions. In our case, to deal with transaction sequences, it only makes sense to slide along the sequence axis. Therefore, for fraud detection, we resort to 1D-convolutions and define a single filter dimension (with length equal to the number of consecutive sequence elements on which the filter looks for patterns).\n",
    "\n",
    "### Stacking convolutional layers\n",
    "\n",
    "One can stack convolution layers just like fully connected layers. For instance, let us consider an input transaction sequence with 5 transactions and 15 features for each transaction. If one defines a convolutional neural network with a first 1D-convolutional layer with 100 filters of length 2 and a second convolutional layer with 50 filters of length 2. Without padding, the successive features map's dimension will be the following:\n",
    "* The input dimension is (5,15): 5 is the sequence length and 15 is the number of channels.\n",
    "* The output dimension of the first convolutional layer is (4,100): each filter of dimension (2,15) will output a 1D feature map with 5-(2-1) = 4 features.\n",
    "* The output dimension of the second convolutional layer is (3,50): each filter of dimension (2,100) will output a 1D feature map with 4-(2-1) = 3 features.\n",
    "\n",
    "With padding, we can make sure that the sequence length does not change and obtain the dimensions (5,100) and (5,50) instead of (4,100) and (3,50). \n",
    "\n",
    "### Classification with a convolutional neural network\n",
    "\n",
    "Convolutional layers produce high-level features that detect the presence of patterns or combinations of patterns within the input. These features can be considered as automatic feature aggregates and can then be used in a final regular fully connected layer for classification, after a flattening operation. This operation can be done using a pooling operator along the sequence dimension or with a flattening operator that simply concatenates the channels of all elements of the sequence into a single global vector. \n",
    "\n",
    "### Implementation\n",
    "\n",
    "Convolutional layers are defined like regular layers. Instead of using the `torch.nn.Linear` module, one uses the specific layers for convolutional neural networks:\n",
    "\n",
    "* `torch.nn.Conv1d`: this module defines a convolutional layer. The parameters are the number of input channels, the number of filters, and the dimension of the filters. \n",
    "* `torch.nn.ConstantPad1d`: this module allows us to pad a sequence with a constant value (e.g. 0) to obtain the desired sequence length after the subsequent convolutional layer.\n",
    "* `torch.nn.MaxPool1d` or `AvgPool1d`: these modules perform a pooling operation over the sequence dimension. \n",
    "\n",
    "Let us define a `FraudConvNet` module that makes use of the above `torch` modules to take as input a sequence of `seq_len` transactions with `len(input_features)` features and predict if the last transaction is fraudulent. We will consider 2 padded convolutional layers, a max-pooling layer, a hidden fully connected layer, and an output fully connected layer with 1 output neuron. "
   ]
  },
  {
   "cell_type": "code",
   "execution_count": 37,
   "id": "6fcfe04d",
   "metadata": {},
   "outputs": [],
   "source": [
    "class FraudConvNet(torch.nn.Module):\n",
    "    \n",
    "        def __init__(self, \n",
    "                     num_features, \n",
    "                     seq_len,hidden_size = 100, \n",
    "                     conv1_params = (100,2), \n",
    "                     conv2_params = None, \n",
    "                     max_pooling = True):\n",
    "            \n",
    "            super(FraudConvNet, self).__init__()\n",
    "            \n",
    "            # parameters\n",
    "            self.num_features = num_features\n",
    "            self.hidden_size = hidden_size\n",
    "            \n",
    "            # representation learning part\n",
    "            self.conv1_num_filters  = conv1_params[0]\n",
    "            self.conv1_filter_size  = conv1_params[1]\n",
    "            self.padding1 = torch.nn.ConstantPad1d((self.conv1_filter_size - 1,0),0)\n",
    "            self.conv1 = torch.nn.Conv1d(num_features, self.conv1_num_filters, self.conv1_filter_size)\n",
    "            self.representation_size = self.conv1_num_filters\n",
    "            \n",
    "            self.conv2_params = conv2_params\n",
    "            if conv2_params:\n",
    "                self.conv2_num_filters  = conv2_params[0]\n",
    "                self.conv2_filter_size  = conv2_params[1]\n",
    "                self.padding2 = torch.nn.ConstantPad1d((self.conv2_filter_size - 1,0),0)\n",
    "                self.conv2 = torch.nn.Conv1d(self.conv1_num_filters, self.conv2_num_filters, self.conv2_filter_size)\n",
    "                self.representation_size = self.conv2_num_filters\n",
    "            \n",
    "            self.max_pooling = max_pooling\n",
    "            if max_pooling:\n",
    "                self.pooling = torch.nn.MaxPool1d(seq_len)\n",
    "            else:\n",
    "                self.representation_size = self.representation_size*seq_len\n",
    "                \n",
    "            # feed forward part at the end\n",
    "            self.flatten = torch.nn.Flatten()\n",
    "                        \n",
    "            #representation to hidden\n",
    "            self.fc1 = torch.nn.Linear(self.representation_size, self.hidden_size)\n",
    "            self.relu = torch.nn.ReLU()\n",
    "            \n",
    "            #hidden to output\n",
    "            self.fc2 = torch.nn.Linear(self.hidden_size, 1)\n",
    "            self.sigmoid = torch.nn.Sigmoid()\n",
    "            \n",
    "        def forward(self, x):\n",
    "            \n",
    "            representation = self.conv1(self.padding1(x))\n",
    "            \n",
    "            if self.conv2_params:\n",
    "                representation = self.conv2(self.padding2(representation))\n",
    "                        \n",
    "            if self.max_pooling:\n",
    "                representation = self.pooling(representation)\n",
    "                        \n",
    "            representation = self.flatten(representation)\n",
    "            \n",
    "            hidden = self.fc1(representation)\n",
    "            relu = self.relu(hidden)\n",
    "            \n",
    "            output = self.fc2(relu)\n",
    "            output = self.sigmoid(output)\n",
    "            \n",
    "            return output"
   ]
  },
  {
   "cell_type": "markdown",
   "id": "6532123f",
   "metadata": {},
   "source": [
    "### Training the 1D convolutional neural etwork\n",
    "\n",
    "To train the CNN, let us reuse the same functions as in previous sections with the `FraudSequenceDataset` as `Dataset` and the `FraudConvNet` as `module`. The objective is the same as the feed-forward Network, so the criterion is binary cross-entropy as well."
   ]
  },
  {
   "cell_type": "code",
   "execution_count": 38,
   "id": "5ed00f7f",
   "metadata": {},
   "outputs": [
    {
     "data": {
      "text/plain": [
       "FraudConvNet(\n",
       "  (padding1): ConstantPad1d(padding=(1, 0), value=0)\n",
       "  (conv1): Conv1d(15, 100, kernel_size=(2,), stride=(1,))\n",
       "  (pooling): MaxPool1d(kernel_size=5, stride=5, padding=0, dilation=1, ceil_mode=False)\n",
       "  (flatten): Flatten(start_dim=1, end_dim=-1)\n",
       "  (fc1): Linear(in_features=100, out_features=100, bias=True)\n",
       "  (relu): ReLU()\n",
       "  (fc2): Linear(in_features=100, out_features=1, bias=True)\n",
       "  (sigmoid): Sigmoid()\n",
       ")"
      ]
     },
     "execution_count": 38,
     "metadata": {},
     "output_type": "execute_result"
    }
   ],
   "source": [
    "seed_everything(SEED)\n",
    "\n",
    "training_set = FraudSequenceDataset(x_train, \n",
    "                                    y_train,train_df['CUSTOMER_ID'].values, \n",
    "                                    train_df['TX_DATETIME'].values,\n",
    "                                    seq_len,\n",
    "                                    padding_mode = \"zeros\")\n",
    "\n",
    "valid_set = FraudSequenceDataset(x_valid, \n",
    "                                 y_valid,\n",
    "                                 valid_df['CUSTOMER_ID'].values, \n",
    "                                 valid_df['TX_DATETIME'].values,\n",
    "                                 seq_len,\n",
    "                                 padding_mode = \"zeros\")\n",
    "\n",
    "training_generator,valid_generator = prepare_generators(training_set, valid_set, batch_size=64)\n",
    "cnn = FraudConvNet(x_train.shape[1], seq_len).to(DEVICE)\n",
    "cnn\n"
   ]
  },
  {
   "cell_type": "code",
   "execution_count": 39,
   "id": "c85e0176",
   "metadata": {
    "tags": [
     "output_scroll"
    ]
   },
   "outputs": [
    {
     "name": "stdout",
     "output_type": "stream",
     "text": [
      "\n",
      "Epoch 0: train loss: 0.11331961992113045\n",
      "valid loss: 0.04290128982539385\n",
      "New best score: 0.04290128982539385\n",
      "\n",
      "Epoch 1: train loss: 0.046289062976879895\n",
      "valid loss: 0.02960259317868272\n",
      "New best score: 0.02960259317868272\n",
      "\n",
      "Epoch 2: train loss: 0.036232019433828276\n",
      "valid loss: 0.026388588221743704\n",
      "New best score: 0.026388588221743704\n",
      "\n",
      "Epoch 3: train loss: 0.032827449974294105\n",
      "valid loss: 0.02484128231874825\n",
      "New best score: 0.02484128231874825\n",
      "\n",
      "Epoch 4: train loss: 0.030821404086174817\n",
      "valid loss: 0.02410742957730233\n",
      "New best score: 0.02410742957730233\n",
      "\n",
      "Epoch 5: train loss: 0.029202812739931062\n",
      "valid loss: 0.022835184337413498\n",
      "New best score: 0.022835184337413498\n",
      "\n",
      "Epoch 6: train loss: 0.028094736857421653\n",
      "valid loss: 0.02244713509854825\n",
      "New best score: 0.02244713509854825\n",
      "\n",
      "Epoch 7: train loss: 0.027001507802537853\n",
      "valid loss: 0.022176400977415873\n",
      "New best score: 0.022176400977415873\n",
      "\n",
      "Epoch 8: train loss: 0.026254476560235208\n",
      "valid loss: 0.02218911660570509\n",
      "1  iterations since best score.\n",
      "\n",
      "Epoch 9: train loss: 0.02560854040577751\n",
      "valid loss: 0.021949108853768252\n",
      "New best score: 0.021949108853768252\n",
      "\n",
      "Epoch 10: train loss: 0.024981534799554672\n",
      "valid loss: 0.021592291154964863\n",
      "New best score: 0.021592291154964863\n",
      "\n",
      "Epoch 11: train loss: 0.024556038766430716\n",
      "valid loss: 0.021545066185997892\n",
      "New best score: 0.021545066185997892\n",
      "\n",
      "Epoch 12: train loss: 0.024165517638524706\n",
      "valid loss: 0.02139132608751171\n",
      "New best score: 0.02139132608751171\n",
      "\n",
      "Epoch 13: train loss: 0.02384240027745459\n",
      "valid loss: 0.021200239446136308\n",
      "New best score: 0.021200239446136308\n",
      "\n",
      "Epoch 14: train loss: 0.023490439055142052\n",
      "valid loss: 0.021294136833313018\n",
      "1  iterations since best score.\n",
      "\n",
      "Epoch 15: train loss: 0.02323751859669618\n",
      "valid loss: 0.021165060306787286\n",
      "New best score: 0.021165060306787286\n",
      "\n",
      "Epoch 16: train loss: 0.02279423619230967\n",
      "valid loss: 0.021365655278354434\n",
      "1  iterations since best score.\n",
      "\n",
      "Epoch 17: train loss: 0.022614443875238456\n",
      "valid loss: 0.021119751067465692\n",
      "New best score: 0.021119751067465692\n",
      "\n",
      "Epoch 18: train loss: 0.022311994288852135\n",
      "valid loss: 0.021248318076062478\n",
      "1  iterations since best score.\n",
      "\n",
      "Epoch 19: train loss: 0.02212963180260797\n",
      "valid loss: 0.021625581627095863\n",
      "2  iterations since best score.\n",
      "\n",
      "Epoch 20: train loss: 0.02185415759852715\n",
      "valid loss: 0.021411337640742094\n",
      "3  iterations since best score.\n",
      "Early stopping\n"
     ]
    }
   ],
   "source": [
    "optimizer = torch.optim.Adam(cnn.parameters(), lr = 0.0001)\n",
    "criterion = torch.nn.BCELoss().to(DEVICE)\n",
    "cnn,training_execution_time,train_losses_dropout,valid_losses_dropout = \\\n",
    "    training_loop(cnn,\n",
    "                  training_generator,\n",
    "                  valid_generator,\n",
    "                  optimizer,\n",
    "                  criterion,\n",
    "                  verbose=True)"
   ]
  },
  {
   "cell_type": "markdown",
   "id": "b2b8dcc9",
   "metadata": {},
   "source": [
    "### Evaluation\n",
    "\n",
    "To evaluate the model on the validation dataset, the command `predictions_test = model(x_test)` that we previously used on the Feed-forward Network won't work here since the ConvNet expects the data to be in the form of sequences. The predictions need to be made properly using the validation generator. Let us implement the associated function and add it to the shared functions as well."
   ]
  },
  {
   "cell_type": "code",
   "execution_count": 40,
   "id": "64be7945",
   "metadata": {},
   "outputs": [],
   "source": [
    "def get_all_predictions(model, generator):\n",
    "    model.eval()\n",
    "    all_preds = []\n",
    "    for x_batch, y_batch in generator:\n",
    "        # Forward pass\n",
    "        y_pred = model(x_batch)\n",
    "        # append to all preds\n",
    "        all_preds.append(y_pred.detach().cpu().numpy())\n",
    "    return np.vstack(all_preds)"
   ]
  },
  {
   "cell_type": "code",
   "execution_count": 41,
   "id": "f64cb56d",
   "metadata": {},
   "outputs": [],
   "source": [
    "valid_predictions = get_all_predictions(cnn, valid_generator)"
   ]
  },
  {
   "cell_type": "code",
   "execution_count": 42,
   "id": "e1068c91",
   "metadata": {},
   "outputs": [
    {
     "data": {
      "text/html": [
       "<div>\n",
       "<style scoped>\n",
       "    .dataframe tbody tr th:only-of-type {\n",
       "        vertical-align: middle;\n",
       "    }\n",
       "\n",
       "    .dataframe tbody tr th {\n",
       "        vertical-align: top;\n",
       "    }\n",
       "\n",
       "    .dataframe thead th {\n",
       "        text-align: right;\n",
       "    }\n",
       "</style>\n",
       "<table border=\"1\" class=\"dataframe\">\n",
       "  <thead>\n",
       "    <tr style=\"text-align: right;\">\n",
       "      <th></th>\n",
       "      <th>AUC ROC</th>\n",
       "      <th>Average precision</th>\n",
       "      <th>Card Precision@100</th>\n",
       "    </tr>\n",
       "  </thead>\n",
       "  <tbody>\n",
       "    <tr>\n",
       "      <th>0</th>\n",
       "      <td>0.852</td>\n",
       "      <td>0.569</td>\n",
       "      <td>0.261</td>\n",
       "    </tr>\n",
       "  </tbody>\n",
       "</table>\n",
       "</div>"
      ],
      "text/plain": [
       "   AUC ROC  Average precision  Card Precision@100\n",
       "0    0.852              0.569               0.261"
      ]
     },
     "execution_count": 42,
     "metadata": {},
     "output_type": "execute_result"
    }
   ],
   "source": [
    "predictions_df = valid_df\n",
    "predictions_df['predictions'] = valid_predictions[:,0]\n",
    "    \n",
    "performance_assessment(predictions_df, top_k_list=[100])"
   ]
  },
  {
   "cell_type": "markdown",
   "id": "d2d4b144",
   "metadata": {},
   "source": [
    "Without any specific hyperparameter tuning, the performance seems to be competitive with the feed-forward neural network. A the end of this section, we'll perform a grid search on this model for global comparison purposes."
   ]
  },
  {
   "cell_type": "markdown",
   "id": "758315c4",
   "metadata": {},
   "source": [
    "## Long Short-Term Memory network"
   ]
  },
  {
   "cell_type": "markdown",
   "id": "aa011676",
   "metadata": {},
   "source": [
    "As stated in the introduction, the transaction sequences can also be managed with a Long Short-Term Memory network (LSTM). \n",
    "\n",
    "An LSTM is a special type of Recurrent Neural Network (RNN). The development of RNNs started early in the 80s {cite}`rumelhart1986learning` to model data in the form of sequences (e.g. times series). The computations in an RNN are very similar to a regular feed-forward network, except that there are multiple input vectors in the form of sequence instead of a single input vector, and the RNN models the order of the vectors: it performs a succession of computations that follow the order of inputs in the sequence. In particular, it repeats a recurrent unit (a network with regular layers), from the first item to the last, that each time takes as input the output of hidden neurons (hidden state) from the previous step and the current item of the input sequence to produce a new output and a new hidden state. \n",
    "\n",
    "The specificity of the LSTM is its advanced combination of the hidden state and the current sequence item to produce the new hidden state. In particular, it makes use of several gates (neurons with sigmoid activations) to cleverly select the right information to keep from the previous state and the right information to integrate from the current input. To get more into details with the specific mechanisms in the LSTM layer, we refer the reader to the following material: https://colah.github.io/posts/2015-08-Understanding-LSTMs/\n",
    "\n",
    "### LSTM for fraud detection\n",
    "\n",
    "LSTM have been successfully used for fraud detection in the literature {cite}`jurgovsky2018sequence`. The key information to remember is that when the LSTM takes as input a sequence of `seq_len` transactions, it produces a sequence of `seq_len` hidden states of dimension `hidden_dim`. The first hidden state will be based only on an initial state of the model and the first transaction of the sequence. The second hidden state will be based on the first hidden state and the second transaction of the sequence. Therefore, one can consider that the final hidden state is an aggregated representation of the whole sequence, as long as the sequence is not too long, which can be used as input in a feed-forward layer to classify the last transaction as either fraudulent or genuine. \n",
    "\n",
    "### Implementation\n",
    "\n",
    "PyTorch provides a module `torch.nn.LSTM` that implements an LSTM unit. It takes as input the number of features of each vector in the sequence, the dimension of the hidden states, the number of layers, and other parameters like the percentage of dropout. \n",
    "\n",
    "Let us use it to implement a module `FraudLSTM` that takes as input a sequence of transactions to predict the label of the last transaction. The first layer will be the LSTM module. Its last hidden state will be used in a fully connected network with a single hidden layer to finally predict the output neuron.\n",
    "\n",
    "Note: Our `DataLoader` produces batches of dimension `(batch_size, num_features, seq_len)`. When using the option `batch_first = True`, `torch.nn.LSTM` expects the first dimension to be the `batch_size` which is the case. However, it expects `seq_len` to come before `num_features`, so the second and third elements of the input must be transposed.  "
   ]
  },
  {
   "cell_type": "code",
   "execution_count": 43,
   "id": "67c579c0",
   "metadata": {},
   "outputs": [],
   "source": [
    "class FraudLSTM(torch.nn.Module):\n",
    "    \n",
    "        def __init__(self, \n",
    "                     num_features,\n",
    "                     hidden_size = 100, \n",
    "                     hidden_size_lstm = 100, \n",
    "                     num_layers_lstm = 1,\n",
    "                     dropout_lstm = 0):\n",
    "            \n",
    "            super(FraudLSTM, self).__init__()\n",
    "            # parameters\n",
    "            self.num_features = num_features\n",
    "            self.hidden_size = hidden_size\n",
    "            \n",
    "            # representation learning part\n",
    "            self.lstm = torch.nn.LSTM(self.num_features, \n",
    "                                      hidden_size_lstm, \n",
    "                                      num_layers_lstm, \n",
    "                                      batch_first = True, \n",
    "                                      dropout = dropout_lstm)\n",
    "                \n",
    "                        \n",
    "            #representation to hidden\n",
    "            self.fc1 = torch.nn.Linear(hidden_size_lstm, self.hidden_size)\n",
    "            self.relu = torch.nn.ReLU()\n",
    "            \n",
    "            #hidden to output\n",
    "            self.fc2 = torch.nn.Linear(self.hidden_size, 1)\n",
    "            self.sigmoid = torch.nn.Sigmoid()\n",
    "            \n",
    "        def forward(self, x):\n",
    "            \n",
    "            #transposing sequence length and number of features before applying the LSTM \n",
    "            representation = self.lstm(x.transpose(1,2))\n",
    "\n",
    "            #the second element of representation is a tuple with (final_hidden_states,final_cell_states)  \n",
    "            #since the LSTM has 1 layer and is unidirectional, final_hidden_states has a single element\n",
    "            hidden = self.fc1(representation[1][0][0])\n",
    "            relu = self.relu(hidden)\n",
    "            \n",
    "            output = self.fc2(relu)\n",
    "            output = self.sigmoid(output)\n",
    "            \n",
    "            return output"
   ]
  },
  {
   "cell_type": "markdown",
   "id": "78464c11",
   "metadata": {},
   "source": [
    "### Training the LSTM\n",
    "\n",
    "To train the LSTM, let us apply the same methodology as the CNN."
   ]
  },
  {
   "cell_type": "code",
   "execution_count": 44,
   "id": "02e745a9",
   "metadata": {
    "tags": [
     "output_scroll"
    ]
   },
   "outputs": [
    {
     "name": "stdout",
     "output_type": "stream",
     "text": [
      "\n",
      "Epoch 0: train loss: 0.13990207505212068\n",
      "valid loss: 0.02620907245264923\n",
      "New best score: 0.02620907245264923\n",
      "\n",
      "Epoch 1: train loss: 0.031434995676729166\n",
      "valid loss: 0.023325502496630034\n",
      "New best score: 0.023325502496630034\n",
      "\n",
      "Epoch 2: train loss: 0.0276708636452029\n",
      "valid loss: 0.021220496156802552\n",
      "New best score: 0.021220496156802552\n",
      "\n",
      "Epoch 3: train loss: 0.025479454260691644\n",
      "valid loss: 0.020511755727541943\n",
      "New best score: 0.020511755727541943\n",
      "\n",
      "Epoch 4: train loss: 0.02423322853112743\n",
      "valid loss: 0.019815496125009133\n",
      "New best score: 0.019815496125009133\n",
      "\n",
      "Epoch 5: train loss: 0.02332264187745305\n",
      "valid loss: 0.019972599826020294\n",
      "1  iterations since best score.\n",
      "\n",
      "Epoch 6: train loss: 0.022942402170918506\n",
      "valid loss: 0.01945732499630562\n",
      "New best score: 0.01945732499630562\n",
      "\n",
      "Epoch 7: train loss: 0.02235023797337005\n",
      "valid loss: 0.0196135713384217\n",
      "1  iterations since best score.\n",
      "\n",
      "Epoch 8: train loss: 0.022119645514110563\n",
      "valid loss: 0.019718042683986123\n",
      "2  iterations since best score.\n",
      "\n",
      "Epoch 9: train loss: 0.021690097280103984\n",
      "valid loss: 0.01908009442885004\n",
      "New best score: 0.01908009442885004\n",
      "\n",
      "Epoch 10: train loss: 0.02134914275318434\n",
      "valid loss: 0.01881876519583471\n",
      "New best score: 0.01881876519583471\n",
      "\n",
      "Epoch 11: train loss: 0.02092900848780522\n",
      "valid loss: 0.019134794213030427\n",
      "1  iterations since best score.\n",
      "\n",
      "Epoch 12: train loss: 0.02074213598841039\n",
      "valid loss: 0.019468843063232717\n",
      "2  iterations since best score.\n",
      "\n",
      "Epoch 13: train loss: 0.020374752355523114\n",
      "valid loss: 0.01866684172651094\n",
      "New best score: 0.01866684172651094\n",
      "\n",
      "Epoch 14: train loss: 0.02008993904532359\n",
      "valid loss: 0.01853460792039872\n",
      "New best score: 0.01853460792039872\n",
      "\n",
      "Epoch 15: train loss: 0.019746437735577785\n",
      "valid loss: 0.01839204282675427\n",
      "New best score: 0.01839204282675427\n",
      "\n",
      "Epoch 16: train loss: 0.019563284586295023\n",
      "valid loss: 0.01872969562482964\n",
      "1  iterations since best score.\n",
      "\n",
      "Epoch 17: train loss: 0.019375868797962006\n",
      "valid loss: 0.01919776629834675\n",
      "2  iterations since best score.\n",
      "\n",
      "Epoch 18: train loss: 0.019136815694366434\n",
      "valid loss: 0.017995675191311216\n",
      "New best score: 0.017995675191311216\n",
      "\n",
      "Epoch 19: train loss: 0.018896986096734573\n",
      "valid loss: 0.01803255443196601\n",
      "1  iterations since best score.\n",
      "\n",
      "Epoch 20: train loss: 0.01882533677201451\n",
      "valid loss: 0.018077422815306325\n",
      "2  iterations since best score.\n",
      "\n",
      "Epoch 21: train loss: 0.01855331002204834\n",
      "valid loss: 0.018072079796384755\n",
      "3  iterations since best score.\n",
      "Early stopping\n"
     ]
    }
   ],
   "source": [
    "seed_everything(SEED)\n",
    "\n",
    "training_generator,valid_generator = prepare_generators(training_set, valid_set,batch_size=64)\n",
    "\n",
    "lstm = FraudLSTM(x_train.shape[1]).to(DEVICE)\n",
    "optimizer = torch.optim.Adam(lstm.parameters(), lr = 0.0001)\n",
    "criterion = torch.nn.BCELoss()\n",
    "\n",
    "lstm,training_execution_time,train_losses_dropout,valid_losses_dropout = \\\n",
    "    training_loop(lstm,\n",
    "                  training_generator,\n",
    "                  valid_generator,\n",
    "                  optimizer,\n",
    "                  criterion,\n",
    "                  verbose=True)\n"
   ]
  },
  {
   "cell_type": "markdown",
   "id": "7327740e",
   "metadata": {},
   "source": [
    "### Evaluation\n",
    "\n",
    "Evaluation is also the same as with the CNN."
   ]
  },
  {
   "cell_type": "code",
   "execution_count": 45,
   "id": "64cec7dc",
   "metadata": {},
   "outputs": [],
   "source": [
    "valid_predictions = get_all_predictions(lstm, valid_generator)"
   ]
  },
  {
   "cell_type": "code",
   "execution_count": 46,
   "id": "1e606557",
   "metadata": {},
   "outputs": [
    {
     "data": {
      "text/html": [
       "<div>\n",
       "<style scoped>\n",
       "    .dataframe tbody tr th:only-of-type {\n",
       "        vertical-align: middle;\n",
       "    }\n",
       "\n",
       "    .dataframe tbody tr th {\n",
       "        vertical-align: top;\n",
       "    }\n",
       "\n",
       "    .dataframe thead th {\n",
       "        text-align: right;\n",
       "    }\n",
       "</style>\n",
       "<table border=\"1\" class=\"dataframe\">\n",
       "  <thead>\n",
       "    <tr style=\"text-align: right;\">\n",
       "      <th></th>\n",
       "      <th>AUC ROC</th>\n",
       "      <th>Average precision</th>\n",
       "      <th>Card Precision@100</th>\n",
       "    </tr>\n",
       "  </thead>\n",
       "  <tbody>\n",
       "    <tr>\n",
       "      <th>0</th>\n",
       "      <td>0.857</td>\n",
       "      <td>0.658</td>\n",
       "      <td>0.279</td>\n",
       "    </tr>\n",
       "  </tbody>\n",
       "</table>\n",
       "</div>"
      ],
      "text/plain": [
       "   AUC ROC  Average precision  Card Precision@100\n",
       "0    0.857              0.658               0.279"
      ]
     },
     "execution_count": 46,
     "metadata": {},
     "output_type": "execute_result"
    }
   ],
   "source": [
    "predictions_df = valid_df\n",
    "predictions_df['predictions'] = valid_predictions[:,0]\n",
    "    \n",
    "performance_assessment(predictions_df, top_k_list=[100])"
   ]
  },
  {
   "cell_type": "markdown",
   "id": "590f79ba",
   "metadata": {},
   "source": [
    "This first result with the LSTM is very encouraging and highly competitive with the other architectures tested in the chapter. \n",
    "\n",
    "It is worth noting that in this example, only the last hidden state is used in the final classification network. When dealing with long sequences and complex patterns, this state alone can become limited to integrate all the useful information for fraud detection. Moreover, it makes it difficult to identify the contribution of the different parts of the sequence to a specific prediction. To deal with these issues, one can use all the hidden states from the LSTM and resort to Attention to select and combine them."
   ]
  },
  {
   "cell_type": "markdown",
   "id": "a92ece2f",
   "metadata": {},
   "source": [
    "## Towards more advanced modeling with Attention"
   ]
  },
  {
   "cell_type": "markdown",
   "id": "072c3399",
   "metadata": {},
   "source": [
    "The Attention mechanism is one of the major recent breakthroughs in neural network architectures {cite}`bahdanau2014neural`. It has led to significant advances in Natural Language Processing (NLP), for instance, in the *Transformer architecture* {cite}`vaswani2017attention` and its multiple variants, e.g. into BERT {cite}`devlin2018bert` or GPT {cite}`radford2019language`.\n",
    "\n",
    "The Attention mechanism is an implementation of the concept of Attention, namely selectively focusing on a subset of relevant items (e.g. states) in deep neural networks. It was initially proposed as an additional layer to improve the classical encoder-decoder LSTM architecture for neural machine translation. It allows aligning the usage of the encoder hidden states and the element currently being generated by the decoder, and solving the long-range dependency problem of LSTMs.\n",
    "\n",
    "The difference with the regular usage of an LSTM is that instead of only using the last hidden state, the Attention mechanism takes as input all the hidden states and combines them in a relevant manner with respect to a certain context. More precisely, in its most popular form, Attention performs the following operations:\n",
    "* Given a context vector $c$ and the sequence of hidden states $h_i$, it computes an attention score $a_i$ for each hidden state, generally using a similarity measure like a dot product between $c$ and $h_i$.\n",
    "* It normalizes all the attention scores with a softmax.\n",
    "* It computes a global output state with a linear combination $\\sum a_i*h_i$.\n",
    "\n",
    "For applications like machine translation with an encoder-decoder architecture, the context vector will generally be the current hidden state of the decoder, and the Attention will be applied to all hidden states of the encoder. In such application, the encoder LSTM takes as input a sentence (sequence of words) in a language (e.g. French), and the decoder LSTM takes as input the beginning of the translated sentence in another language (e.g. English). Therefore, it makes sense to consider the current state of the translation as context to select/focus the right elements of the input sequence that will be taken into account to predict the next word of the translation. \n",
    "\n",
    "### Attention for fraud detection\n",
    "\n",
    "For fraud detection, only an encoder LSTM is used in our implementation above. The choice of a relevant context vector will therefore be based on our intuition of what kind of context makes sense to select the right hidden states of the sequence. A reasonable choice is to consider a representation of the transaction that we aim at classifying (the last transaction) as context to select the right elements from the previous transactions. Two choices are possible: directly use the last hidden state as a context vector, or a projection of the last transaction (e.g. after applying a `torch.nn.Linear` layer). In the following, we resort to the second option, which is represented in the global architecture below:\n",
    "\n",
    "\n",
    "![Illustration of a sequential model with Attention](./images/attention.png)\n",
    "\n",
    "Additionally to allow dynamic selection of the relevant hidden states for the sample at hand, the attention scores can provide interpretability by showing the parts of the sequence used for the current prediction. \n",
    "\n",
    "\n",
    "### Implementation\n",
    "\n",
    "There is no native implementation of a simple Attention layer in the current Pytorch version (1.9). However, a more general `torch.nn.MultiheadAttention`, like the one used in the Transformer architecture, is available. Although it would allow implementing regular attention, we will instead make use of an unofficial module that implements a simpler attention mechanism for educational purposes. This Attention module is available in the following widely validated git repository: https://github.com/IBM/pytorch-seq2seq/blob/master/seq2seq/models/attention.py \n",
    "\n",
    "Let us copy its content in the following cell:"
   ]
  },
  {
   "cell_type": "code",
   "execution_count": 47,
   "id": "8b555920",
   "metadata": {},
   "outputs": [],
   "source": [
    "# source : https://github.com/IBM/pytorch-seq2seq/blob/master/seq2seq/models/attention.py\n",
    "\n",
    "import torch.nn.functional as F\n",
    "\n",
    "\n",
    "class Attention(torch.nn.Module):\n",
    "    r\"\"\"\n",
    "    Applies an attention mechanism on the output features from the decoder.\n",
    "    .. math::\n",
    "            \\begin{array}{ll}\n",
    "            x = context*output \\\\\n",
    "            attn = exp(x_i) / sum_j exp(x_j) \\\\\n",
    "            output = \\tanh(w * (attn * context) + b * output)\n",
    "            \\end{array}\n",
    "    Args:\n",
    "        dim(int): The number of expected features in the output\n",
    "    Inputs: output, context\n",
    "        - **output** (batch, output_len, dimensions): tensor containing the output features from the decoder.\n",
    "        - **context** (batch, input_len, dimensions): tensor containing features of the encoded input sequence.\n",
    "    Outputs: output, attn\n",
    "        - **output** (batch, output_len, dimensions): tensor containing the attended output features from the decoder.\n",
    "        - **attn** (batch, output_len, input_len): tensor containing attention weights.\n",
    "    Attributes:\n",
    "        linear_out (torch.nn.Linear): applies a linear transformation to the incoming data: :math:`y = Ax + b`.\n",
    "        mask (torch.Tensor, optional): applies a :math:`-inf` to the indices specified in the `Tensor`.\n",
    "    Examples::\n",
    "         >>> attention = seq2seq.models.Attention(256)\n",
    "         >>> context = Variable(torch.randn(5, 3, 256))\n",
    "         >>> output = Variable(torch.randn(5, 5, 256))\n",
    "         >>> output, attn = attention(output, context)\n",
    "    \"\"\"\n",
    "    def __init__(self, dim):\n",
    "        super(Attention, self).__init__()\n",
    "        self.linear_out = torch.nn.Linear(dim*2, dim)\n",
    "        self.mask = None\n",
    "\n",
    "    def set_mask(self, mask):\n",
    "        \"\"\"\n",
    "        Sets indices to be masked\n",
    "        Args:\n",
    "            mask (torch.Tensor): tensor containing indices to be masked\n",
    "        \"\"\"\n",
    "        self.mask = mask\n",
    "\n",
    "    def forward(self, output, context):\n",
    "        batch_size = output.size(0)\n",
    "        hidden_size = output.size(2)\n",
    "        input_size = context.size(1)\n",
    "        # (batch, out_len, dim) * (batch, in_len, dim) -> (batch, out_len, in_len)\n",
    "        attn = torch.bmm(output, context.transpose(1, 2))\n",
    "        if self.mask is not None:\n",
    "            attn.data.masked_fill_(self.mask, -float('inf'))\n",
    "        attn = F.softmax(attn.view(-1, input_size), dim=1).view(batch_size, -1, input_size)\n",
    "\n",
    "        # (batch, out_len, in_len) * (batch, in_len, dim) -> (batch, out_len, dim)\n",
    "        mix = torch.bmm(attn, context)\n",
    "\n",
    "        # concat -> (batch, out_len, 2*dim)\n",
    "        combined = torch.cat((mix, output), dim=2)\n",
    "        # output -> (batch, out_len, dim)\n",
    "        output = F.tanh(self.linear_out(combined.view(-1, 2 * hidden_size))).view(batch_size, -1, hidden_size)\n",
    "\n",
    "        return output, attn"
   ]
  },
  {
   "cell_type": "markdown",
   "id": "59b4a430",
   "metadata": {},
   "source": [
    "### How does it work?\n",
    "\n",
    "The custom `Attention` module above has a single initialization parameter which is the dimension of the input hidden states and the context vector. During the forward pass, it takes as input the sequence of hidden states and the context vector and outputs the combined state and the attention scores. \n",
    "\n",
    "To familiarize with the module, let us manually compute the hidden states of our previous LSTM on a random training batch, and test the Attention mechanism. "
   ]
  },
  {
   "cell_type": "code",
   "execution_count": 48,
   "id": "1b932850",
   "metadata": {},
   "outputs": [],
   "source": [
    "x_batch, y_batch = next(iter(training_generator))"
   ]
  },
  {
   "cell_type": "code",
   "execution_count": 49,
   "id": "28d1064d",
   "metadata": {},
   "outputs": [],
   "source": [
    "out_seq, (last_hidden,last_cell) = lstm.lstm(x_batch.transpose(1,2))"
   ]
  },
  {
   "cell_type": "markdown",
   "id": "3fa6ebb7",
   "metadata": {},
   "source": [
    "The outputs of the LSTM are the sequence of all hidden states, and the last hidden and cell states. "
   ]
  },
  {
   "cell_type": "code",
   "execution_count": 50,
   "id": "37034489",
   "metadata": {},
   "outputs": [
    {
     "data": {
      "text/plain": [
       "torch.Size([1, 64, 100])"
      ]
     },
     "execution_count": 50,
     "metadata": {},
     "output_type": "execute_result"
    }
   ],
   "source": [
    "last_hidden.shape"
   ]
  },
  {
   "cell_type": "code",
   "execution_count": 51,
   "id": "d4cd82d5",
   "metadata": {},
   "outputs": [
    {
     "data": {
      "text/plain": [
       "torch.Size([64, 5, 100])"
      ]
     },
     "execution_count": 51,
     "metadata": {},
     "output_type": "execute_result"
    }
   ],
   "source": [
    "out_seq.shape"
   ]
  },
  {
   "cell_type": "markdown",
   "id": "1f86b02f",
   "metadata": {},
   "source": [
    "Let us store the sequences of hidden states in a variable `test_hidden_states_seq`:"
   ]
  },
  {
   "cell_type": "code",
   "execution_count": 52,
   "id": "68ca3304",
   "metadata": {},
   "outputs": [],
   "source": [
    "test_hidden_states_seq = out_seq"
   ]
  },
  {
   "cell_type": "markdown",
   "id": "21f1c4b8",
   "metadata": {},
   "source": [
    "To create our context vector, let us apply a fully connected layer on the last element of the input sequence (which is the transaction that we aim at classifying) and store the result in a variable `test_context_vector`:"
   ]
  },
  {
   "cell_type": "code",
   "execution_count": 53,
   "id": "3bc6c186",
   "metadata": {},
   "outputs": [],
   "source": [
    "test_context_projector = torch.nn.Linear(x_batch.shape[1], out_seq.shape[2]).to(DEVICE)"
   ]
  },
  {
   "cell_type": "code",
   "execution_count": 54,
   "id": "50f1de61",
   "metadata": {},
   "outputs": [],
   "source": [
    "test_context_vector = test_context_projector(x_batch[:,:,-1:].transpose(1,2))"
   ]
  },
  {
   "cell_type": "markdown",
   "id": "f2ecd8d7",
   "metadata": {},
   "source": [
    "The hidden states and context vectors of the whole batch have the following dimensions:"
   ]
  },
  {
   "cell_type": "code",
   "execution_count": 55,
   "id": "de83ee3e",
   "metadata": {},
   "outputs": [
    {
     "data": {
      "text/plain": [
       "torch.Size([64, 5, 100])"
      ]
     },
     "execution_count": 55,
     "metadata": {},
     "output_type": "execute_result"
    }
   ],
   "source": [
    "test_hidden_states_seq.shape"
   ]
  },
  {
   "cell_type": "code",
   "execution_count": 56,
   "id": "9d208b36",
   "metadata": {},
   "outputs": [
    {
     "data": {
      "text/plain": [
       "torch.Size([64, 1, 100])"
      ]
     },
     "execution_count": 56,
     "metadata": {},
     "output_type": "execute_result"
    }
   ],
   "source": [
    "test_context_vector.shape"
   ]
  },
  {
   "cell_type": "markdown",
   "id": "7e6e2820",
   "metadata": {},
   "source": [
    "Now that the inputs for the Attention mechanism are ready, let us try the module:"
   ]
  },
  {
   "cell_type": "code",
   "execution_count": 57,
   "id": "990a2376",
   "metadata": {},
   "outputs": [],
   "source": [
    "seed_everything(SEED)\n",
    "test_attention = Attention(100).to(DEVICE)"
   ]
  },
  {
   "cell_type": "code",
   "execution_count": 58,
   "id": "1ad2e295",
   "metadata": {},
   "outputs": [],
   "source": [
    "output_state, attn = test_attention(test_context_vector,test_hidden_states_seq)"
   ]
  },
  {
   "cell_type": "code",
   "execution_count": 59,
   "id": "afb36144",
   "metadata": {},
   "outputs": [
    {
     "data": {
      "text/plain": [
       "torch.Size([64, 1, 100])"
      ]
     },
     "execution_count": 59,
     "metadata": {},
     "output_type": "execute_result"
    }
   ],
   "source": [
    "output_state.shape"
   ]
  },
  {
   "cell_type": "code",
   "execution_count": 60,
   "id": "26def816",
   "metadata": {},
   "outputs": [
    {
     "data": {
      "text/plain": [
       "tensor([0.2517, 0.2583, 0.2432, 0.1509, 0.0959], device='cuda:0',\n",
       "       grad_fn=<SelectBackward>)"
      ]
     },
     "execution_count": 60,
     "metadata": {},
     "output_type": "execute_result"
    }
   ],
   "source": [
    "attn[0,0]"
   ]
  },
  {
   "cell_type": "markdown",
   "id": "fc7a5e17",
   "metadata": {},
   "source": [
    "We obtain two outputs. `attn` contains the attention scores of the hidden states and `output_state` is the output combined state, i.e. the linear combination of the hidden states based on the attention scores. \n",
    "\n",
    "Here the components of `attn` are rather balanced because, since the module `test_context_projector` was only randomly initialized, the context vectors `test_context_vector` are \"random\" and not specifically more similar to a state than another.\n",
    "\n",
    "Let us see what happens if the last hidden state `test_hidden_states_seq[:,4:,:]` is used as context vector instead. "
   ]
  },
  {
   "cell_type": "code",
   "execution_count": 61,
   "id": "542087a3",
   "metadata": {},
   "outputs": [],
   "source": [
    "output, attn = test_attention(test_hidden_states_seq[:,4:,:],test_hidden_states_seq)"
   ]
  },
  {
   "cell_type": "code",
   "execution_count": 62,
   "id": "d87d614c",
   "metadata": {},
   "outputs": [
    {
     "data": {
      "text/plain": [
       "tensor([7.5513e-09, 4.9199e-08, 1.3565e-06, 1.2371e-03, 9.9876e-01],\n",
       "       device='cuda:0', grad_fn=<SelectBackward>)"
      ]
     },
     "execution_count": 62,
     "metadata": {},
     "output_type": "execute_result"
    }
   ],
   "source": [
    "attn[0,0]"
   ]
  },
  {
   "cell_type": "markdown",
   "id": "56279e3d",
   "metadata": {},
   "source": [
    "This time, it is clear that the attention score is much larger for the last transaction since it is equal to the context vector. Interestingly, one can observe that the scores decrease from the most recent previous transaction to the oldest. \n",
    "\n",
    "Nevertheless, using the last hidden state as a context vector will not necessarily guarantee better behavior on fraud classification. Instead, let us hold on to our strategy with a feed-forward layer that will compute a context vector from the last transaction and train this layer, the LSTM and the final classifier (which takes as input the combined state to classify the transaction) altogether. To do so, we implement a custom module `FraudLSTMWithAttention`."
   ]
  },
  {
   "cell_type": "code",
   "execution_count": 63,
   "id": "aff8c768",
   "metadata": {},
   "outputs": [],
   "source": [
    "class FraudLSTMWithAttention(torch.nn.Module):\n",
    "    \n",
    "        def __init__(self, \n",
    "                     num_features,\n",
    "                     hidden_size = 100, \n",
    "                     hidden_size_lstm = 100, \n",
    "                     num_layers_lstm = 1,\n",
    "                     dropout_lstm = 0, \n",
    "                     attention_out_dim = 100):\n",
    "            \n",
    "            super(FraudLSTMWithAttention, self).__init__()\n",
    "            # parameters\n",
    "            self.num_features = num_features\n",
    "            self.hidden_size = hidden_size\n",
    "            \n",
    "            # sequence representation\n",
    "            self.lstm = torch.nn.LSTM(self.num_features, \n",
    "                                      hidden_size_lstm, \n",
    "                                      num_layers_lstm, \n",
    "                                      batch_first = True, \n",
    "                                      dropout = dropout_lstm)\n",
    "            \n",
    "            # layer that will project the last transaction of the sequence into a context vector\n",
    "            self.ff = torch.nn.Linear(self.num_features, hidden_size_lstm)\n",
    "            \n",
    "            # attention layer\n",
    "            self.attention = Attention(attention_out_dim)\n",
    "                        \n",
    "            #representation to hidden\n",
    "            self.fc1 = torch.nn.Linear(hidden_size_lstm, self.hidden_size)\n",
    "            self.relu = torch.nn.ReLU()\n",
    "            \n",
    "            #hidden to output\n",
    "            self.fc2 = torch.nn.Linear(self.hidden_size, 1)\n",
    "            self.sigmoid = torch.nn.Sigmoid()\n",
    "            \n",
    "        def forward(self, x):\n",
    "            \n",
    "            #computing the sequence of hidden states from the sequence of transactions\n",
    "            hidden_states, _ = self.lstm(x.transpose(1,2))\n",
    "            \n",
    "            #computing the context vector from the last transaction\n",
    "            context_vector = self.ff(x[:,:,-1:].transpose(1,2))\n",
    "            \n",
    "            combined_state, attn = self.attention(context_vector, hidden_states)\n",
    "\n",
    "                        \n",
    "            hidden = self.fc1(combined_state[:,0,:])\n",
    "            relu = self.relu(hidden)\n",
    "            \n",
    "            output = self.fc2(relu)\n",
    "            output = self.sigmoid(output)\n",
    "            \n",
    "            return output"
   ]
  },
  {
   "cell_type": "markdown",
   "id": "13f06dfe",
   "metadata": {},
   "source": [
    "### Training the LSTM with Attention\n",
    "\n",
    "The LSTM with Attention takes the same input as the regular LSTM so it can be trained and evaluated in the exact same manner."
   ]
  },
  {
   "cell_type": "code",
   "execution_count": 64,
   "id": "9d302b87",
   "metadata": {},
   "outputs": [
    {
     "data": {
      "text/plain": [
       "FraudLSTMWithAttention(\n",
       "  (lstm): LSTM(15, 100, batch_first=True)\n",
       "  (ff): Linear(in_features=15, out_features=100, bias=True)\n",
       "  (attention): Attention(\n",
       "    (linear_out): Linear(in_features=200, out_features=100, bias=True)\n",
       "  )\n",
       "  (fc1): Linear(in_features=100, out_features=100, bias=True)\n",
       "  (relu): ReLU()\n",
       "  (fc2): Linear(in_features=100, out_features=1, bias=True)\n",
       "  (sigmoid): Sigmoid()\n",
       ")"
      ]
     },
     "execution_count": 64,
     "metadata": {},
     "output_type": "execute_result"
    }
   ],
   "source": [
    "seed_everything(SEED)\n",
    "\n",
    "lstm_attn = FraudLSTMWithAttention(x_train.shape[1]).to(DEVICE)\n",
    "lstm_attn"
   ]
  },
  {
   "cell_type": "code",
   "execution_count": 65,
   "id": "3674c865",
   "metadata": {},
   "outputs": [
    {
     "name": "stdout",
     "output_type": "stream",
     "text": [
      "\n",
      "Epoch 0: train loss: 0.10238753851141645\n",
      "valid loss: 0.021834761867951094\n",
      "New best score: 0.021834761867951094\n",
      "\n",
      "Epoch 1: train loss: 0.026330269543929505\n",
      "valid loss: 0.0203155988219189\n",
      "New best score: 0.0203155988219189\n",
      "\n",
      "Epoch 2: train loss: 0.024288250049589517\n",
      "valid loss: 0.019749290624867535\n",
      "New best score: 0.019749290624867535\n",
      "\n",
      "Epoch 3: train loss: 0.02330792175176737\n",
      "valid loss: 0.019204635951856324\n",
      "New best score: 0.019204635951856324\n",
      "\n",
      "Epoch 4: train loss: 0.02269919227573212\n",
      "valid loss: 0.019130825754789423\n",
      "New best score: 0.019130825754789423\n",
      "\n",
      "Epoch 5: train loss: 0.022160232767046928\n",
      "valid loss: 0.018929402052572434\n",
      "New best score: 0.018929402052572434\n",
      "\n",
      "Epoch 6: train loss: 0.02177732186309591\n",
      "valid loss: 0.01847629409672723\n",
      "New best score: 0.01847629409672723\n",
      "\n",
      "Epoch 7: train loss: 0.02135627254457293\n",
      "valid loss: 0.018755287848173798\n",
      "1  iterations since best score.\n",
      "\n",
      "Epoch 8: train loss: 0.02098137940145249\n",
      "valid loss: 0.01887945729890543\n",
      "2  iterations since best score.\n",
      "\n",
      "Epoch 9: train loss: 0.020458271793019914\n",
      "valid loss: 0.01891031490531979\n",
      "3  iterations since best score.\n",
      "Early stopping\n"
     ]
    }
   ],
   "source": [
    "training_generator,valid_generator = prepare_generators(training_set,valid_set,batch_size=64)\n",
    "\n",
    "optimizer = torch.optim.Adam(lstm_attn.parameters(), lr = 0.00008)\n",
    "criterion = torch.nn.BCELoss().to(DEVICE)\n",
    "\n",
    "lstm_attn,training_execution_time,train_losses_dropout,valid_losses_dropout = \\\n",
    "    training_loop(lstm_attn,\n",
    "                  training_generator,\n",
    "                  valid_generator,\n",
    "                  optimizer,\n",
    "                  criterion,\n",
    "                  verbose=True)\n"
   ]
  },
  {
   "cell_type": "markdown",
   "id": "101209a4",
   "metadata": {},
   "source": [
    "### Validation"
   ]
  },
  {
   "cell_type": "code",
   "execution_count": 66,
   "id": "61de7d42",
   "metadata": {},
   "outputs": [
    {
     "data": {
      "text/html": [
       "<div>\n",
       "<style scoped>\n",
       "    .dataframe tbody tr th:only-of-type {\n",
       "        vertical-align: middle;\n",
       "    }\n",
       "\n",
       "    .dataframe tbody tr th {\n",
       "        vertical-align: top;\n",
       "    }\n",
       "\n",
       "    .dataframe thead th {\n",
       "        text-align: right;\n",
       "    }\n",
       "</style>\n",
       "<table border=\"1\" class=\"dataframe\">\n",
       "  <thead>\n",
       "    <tr style=\"text-align: right;\">\n",
       "      <th></th>\n",
       "      <th>AUC ROC</th>\n",
       "      <th>Average precision</th>\n",
       "      <th>Card Precision@100</th>\n",
       "    </tr>\n",
       "  </thead>\n",
       "  <tbody>\n",
       "    <tr>\n",
       "      <th>0</th>\n",
       "      <td>0.855</td>\n",
       "      <td>0.635</td>\n",
       "      <td>0.271</td>\n",
       "    </tr>\n",
       "  </tbody>\n",
       "</table>\n",
       "</div>"
      ],
      "text/plain": [
       "   AUC ROC  Average precision  Card Precision@100\n",
       "0    0.855              0.635               0.271"
      ]
     },
     "execution_count": 66,
     "metadata": {},
     "output_type": "execute_result"
    }
   ],
   "source": [
    "valid_predictions = get_all_predictions(lstm_attn, valid_generator)\n",
    "\n",
    "predictions_df = valid_df\n",
    "predictions_df['predictions'] = valid_predictions[:,0]\n",
    "    \n",
    "performance_assessment(predictions_df, top_k_list=[100])"
   ]
  },
  {
   "cell_type": "markdown",
   "id": "54f9bd5c",
   "metadata": {},
   "source": [
    "The results are competitive with the LSTM. Additionnaly, the advantage with this architecture is the interpretability of the attention scores for a given prediction. \n",
    "\n",
    "In other settings, for instance with longer sequences, this model might also be able to reach better performance thant the regular LSTM."
   ]
  },
  {
   "cell_type": "markdown",
   "id": "f9038bc7",
   "metadata": {},
   "source": [
    "## Seq-2-Seq Autoencoders\n",
    "\n",
    "The previous section of this chapter covered the use of regular autoencoders on single transactions for fraud detection. It is worth noting that the same principles could be applied here to create a semi-supervised method for sequential inputs. Instead of a feed-forward architecture, a sequence-to-sequence autoencoder with an encoder-decoder architecture could be used. This is not covered in this version of the section, but it will be proposed in the future.\n",
    "\n",
    "## Prequential grid search\n",
    "\n",
    "Now that we have explored different sequential models architectures, let us finally evaluate them properly with a prequential grid search. Compared to the grid search performed on the feed-forward neural network, the sequential models add a little complexity to the process. Indeed, they have been designed to take as input a sequence of transactions. For this purpose, the specific `FraudSequenceDataset` was implemented, and it requires two additional features to build the sequences: the landmark feature (`CUSTOMER_ID`) and the chronological feature (`TX_DATETIME`). Our previous model selection function (`model_selection_wrapper`) does not directly allow passing these extra parameters to the `torch` Dataset. The trick here will be to simply pass them as regular features but only use them to build the sequences. For that, the `FraudSequenceDataset` needs to be updated into a new version (that will be referred to as `FraudSequenceDatasetForPipe`) that only takes as input `x` and `y` and assumes that the last column of `x` is `TX_DATETIME`, the previous column is `CUSTOMER_ID`, and the rest are the transactions regular features."
   ]
  },
  {
   "cell_type": "code",
   "execution_count": 67,
   "id": "9f2b6aa1",
   "metadata": {},
   "outputs": [],
   "source": [
    "class FraudSequenceDatasetForPipe(torch.utils.data.Dataset):\n",
    "    \n",
    "    def __init__(self, x,y):\n",
    "        'Initialization'\n",
    "        seq_len=5\n",
    "        \n",
    "        # lets us assume that x[:,-1] are the dates, and x[:,-2] are customer ids, padding_mode is \"mean\"\n",
    "        customer_ids = x[:,-2]\n",
    "        dates  = x[:,-1] \n",
    "        \n",
    "        # storing the features x in self.feature and adding the \"padding\" transaction at the end\n",
    "        self.features = torch.FloatTensor(x[:,:-2])\n",
    "                \n",
    "        self.features = torch.vstack([self.features, self.features.mean(axis=0)])\n",
    "        \n",
    "        self.y = None\n",
    "        if y is not None:\n",
    "            self.y = torch.LongTensor(y.values)\n",
    "            \n",
    "        self.customer_ids = customer_ids\n",
    "        self.dates = dates\n",
    "        self.seq_len = seq_len\n",
    "        \n",
    "        #===== computing sequences ids =====       \n",
    "        \n",
    "        \n",
    "        df_ids_dates_cpy = pd.DataFrame({'CUSTOMER_ID':customer_ids,\n",
    "        'TX_DATETIME':dates})\n",
    "        \n",
    "        df_ids_dates_cpy[\"tmp_index\"]  = np.arange(len(df_ids_dates_cpy))\n",
    "        df_groupby_customer_id = df_ids_dates_cpy.groupby(\"CUSTOMER_ID\")\n",
    "        sequence_indices = pd.DataFrame(\n",
    "            {\n",
    "                \"tx_{}\".format(n): df_groupby_customer_id[\"tmp_index\"].shift(seq_len - n - 1)\n",
    "                for n in range(seq_len)\n",
    "            }\n",
    "        )\n",
    "        self.sequences_ids = sequence_indices.fillna(len(self.features) - 1).values.astype(int)\n",
    "        \n",
    "        df_ids_dates_cpy = df_ids_dates_cpy.drop(\"tmp_index\", axis=1)\n",
    "        \n",
    "\n",
    "\n",
    "    def __len__(self):\n",
    "        'Denotes the total number of samples'\n",
    "        # not len(self.features) because of the added padding transaction\n",
    "        return len(self.customer_ids)\n",
    "\n",
    "    def __getitem__(self, index):\n",
    "        'Generates one sample of data'\n",
    "        # Select sample index\n",
    "        \n",
    "        tx_ids = self.sequences_ids[index]\n",
    "        \n",
    "        if self.y is not None:\n",
    "            #transposing because the CNN considers the channel dimension before the sequence dimension\n",
    "            return self.features[tx_ids,:].transpose(0,1), self.y[index]\n",
    "        else:\n",
    "            return self.features[tx_ids,:].transpose(0,1), -1"
   ]
  },
  {
   "cell_type": "markdown",
   "id": "7c57cdde",
   "metadata": {},
   "source": [
    "### Grid search on the 1-D Convolutional Neural Network\n",
    "\n",
    "Let us perform a grid search on the 1-D CNN with the following hyperparameters:\n",
    "\n",
    "* Batch size : [64,128,256]\n",
    "* Initial learning rate: [0.0001, 0.0002, 0.001]\n",
    "* Number of epochs : [10, 20, 40]\n",
    "* Dropout rate : [0, 0.2]\n",
    "* Number of convolutional layers : [1,2]\n",
    "* Number of convolutional filters : [100, 200]\n",
    "\n",
    "For that, the `FraudCNN` module needs to be adapted to output two probabilities like `sklearn` classifiers, and then wrapped with `skorch`."
   ]
  },
  {
   "cell_type": "code",
   "execution_count": 68,
   "id": "3175b12a",
   "metadata": {},
   "outputs": [],
   "source": [
    "class FraudCNN(torch.nn.Module):\n",
    "    \n",
    "    def __init__(self, num_features, seq_len=5,hidden_size = 100, num_filters = 100, filter_size = 2, num_conv=1, max_pooling = True,p=0):\n",
    "        super(FraudCNN, self).__init__()\n",
    "        # parameters\n",
    "        self.num_features = num_features\n",
    "        self.hidden_size = hidden_size\n",
    "        self.p = p\n",
    "        \n",
    "        # representation learning part\n",
    "        self.num_filters  = num_filters\n",
    "        self.filter_size  = filter_size\n",
    "        self.padding1 = torch.nn.ConstantPad1d((filter_size - 1,0),0)\n",
    "        self.conv1 = torch.nn.Conv1d(num_features,self.num_filters,self.filter_size)\n",
    "        self.representation_size = self.num_filters\n",
    "        \n",
    "        self.num_conv=num_conv\n",
    "        \n",
    "        if self.num_conv==2:\n",
    "            self.padding2 = torch.nn.ConstantPad1d((filter_size - 1,0),0)\n",
    "            self.conv2 = torch.nn.Conv1d(self.num_filters,self.num_filters,self.filter_size)\n",
    "            self.representation_size = self.num_filters\n",
    "        \n",
    "        self.max_pooling = max_pooling\n",
    "        if max_pooling:\n",
    "            self.pooling = torch.nn.MaxPool1d(seq_len)\n",
    "        else:\n",
    "            self.representation_size = self.representation_size*seq_len\n",
    "            \n",
    "        # feed forward part at the end\n",
    "        self.flatten = torch.nn.Flatten()\n",
    "                    \n",
    "        #representation to hidden\n",
    "        self.fc1 = torch.nn.Linear(self.representation_size, self.hidden_size)\n",
    "        self.relu = torch.nn.ReLU()\n",
    "        \n",
    "        #hidden to output\n",
    "        self.fc2 = torch.nn.Linear(self.hidden_size, 2)\n",
    "        self.softmax = torch.nn.Softmax()\n",
    "        \n",
    "        self.dropout = torch.nn.Dropout(self.p)\n",
    "        \n",
    "    def forward(self, x):\n",
    "        \n",
    "        representation = self.conv1(self.padding1(x))                         \n",
    "        representation = self.dropout(representation)\n",
    "        if self.num_conv==2:\n",
    "            representation = self.conv2(self.padding2(representation))                         \n",
    "            representation = self.dropout(representation)\n",
    "                    \n",
    "        if self.max_pooling:\n",
    "            representation = self.pooling(representation)\n",
    "                    \n",
    "        representation = self.flatten(representation)\n",
    "        \n",
    "        hidden = self.fc1(representation)\n",
    "        relu = self.relu(hidden)                                     \n",
    "        relu = self.dropout(relu)\n",
    "        \n",
    "        output = self.fc2(relu)\n",
    "        output = self.softmax(output)\n",
    "        \n",
    "        return output"
   ]
  },
  {
   "cell_type": "markdown",
   "id": "6e5f069c",
   "metadata": {},
   "source": [
    "The two extra features (`CUSTOMER_ID` and `TX_DATETIME`) also need to be added to the list `input_features`.\n",
    "\n",
    "Note: the `model_selection_wrapper` function implements an sklearn pipeline that combines the classifier with a scaler. Therefore, the two extra variables will be standardized like the rest of the features. To avoid unexpected behavior, let us convert the datetimes into timestamps. Once done, the normalization of both `CUSTOMER_ID` and `TX_DATETIME_TIMESTAMP` should not change the set of unique ids of customers nor the chronological order of the transactions, and therefore lead to the same sequences and results."
   ]
  },
  {
   "cell_type": "code",
   "execution_count": 69,
   "id": "59b6754d",
   "metadata": {},
   "outputs": [],
   "source": [
    "transactions_df['TX_DATETIME_TIMESTAMP'] = transactions_df['TX_DATETIME'].apply(lambda x:datetime.datetime.timestamp(x))\n",
    "\n",
    "input_features_new = input_features + ['CUSTOMER_ID','TX_DATETIME_TIMESTAMP']"
   ]
  },
  {
   "cell_type": "markdown",
   "id": "3e5e164b",
   "metadata": {},
   "source": [
    "Now that all the classes are ready, let us run the grid search with the CNN using the skorch wrapper and the same scoring and validation settings as in previous sections."
   ]
  },
  {
   "cell_type": "code",
   "execution_count": 70,
   "id": "36d3f906",
   "metadata": {
    "tags": [
     "hide-output"
    ]
   },
   "outputs": [
    {
     "name": "stdout",
     "output_type": "stream",
     "text": [
      "Requirement already satisfied: skorch in /opt/conda/lib/python3.8/site-packages (0.10.0)\r\n",
      "Requirement already satisfied: scipy>=1.1.0 in /opt/conda/lib/python3.8/site-packages (from skorch) (1.6.3)\r\n",
      "Requirement already satisfied: tabulate>=0.7.7 in /opt/conda/lib/python3.8/site-packages (from skorch) (0.8.9)\r\n",
      "Requirement already satisfied: tqdm>=4.14.0 in /opt/conda/lib/python3.8/site-packages (from skorch) (4.51.0)\r\n",
      "Requirement already satisfied: numpy>=1.13.3 in /opt/conda/lib/python3.8/site-packages (from skorch) (1.19.2)\r\n",
      "Requirement already satisfied: scikit-learn>=0.19.1 in /opt/conda/lib/python3.8/site-packages (from skorch) (0.24.2)\r\n",
      "Requirement already satisfied: joblib>=0.11 in /opt/conda/lib/python3.8/site-packages (from scikit-learn>=0.19.1->skorch) (1.0.1)\r\n",
      "Requirement already satisfied: threadpoolctl>=2.0.0 in /opt/conda/lib/python3.8/site-packages (from scikit-learn>=0.19.1->skorch) (2.1.0)\r\n"
     ]
    }
   ],
   "source": [
    "!pip install skorch"
   ]
  },
  {
   "cell_type": "code",
   "execution_count": 71,
   "id": "f008c923",
   "metadata": {},
   "outputs": [],
   "source": [
    "from skorch import NeuralNetClassifier\n",
    "\n",
    "# Only keep columns that are needed as argument to custome scoring function\n",
    "# to reduce serialisation time of transaction dataset\n",
    "transactions_df_scorer = transactions_df[['CUSTOMER_ID', 'TX_FRAUD','TX_TIME_DAYS']]\n",
    "\n",
    "card_precision_top_100 = sklearn.metrics.make_scorer(card_precision_top_k_custom, \n",
    "                                                     needs_proba=True, \n",
    "                                                     top_k=100, \n",
    "                                                     transactions_df=transactions_df_scorer)\n",
    "\n",
    "performance_metrics_list_grid = ['roc_auc', 'average_precision', 'card_precision@100']\n",
    "performance_metrics_list = ['AUC ROC', 'Average precision', 'Card Precision@100']\n",
    "\n",
    "scoring = {'roc_auc':'roc_auc',\n",
    "           'average_precision': 'average_precision',\n",
    "           'card_precision@100': card_precision_top_100,\n",
    "           }\n",
    "\n",
    "n_folds=4\n",
    "start_date_training_for_valid = start_date_training+datetime.timedelta(days=-(delta_delay+delta_valid))\n",
    "start_date_training_for_test = start_date_training+datetime.timedelta(days=(n_folds-1)*delta_test)\n",
    "delta_assessment = delta_valid"
   ]
  },
  {
   "cell_type": "code",
   "execution_count": 72,
   "id": "de544ee0",
   "metadata": {},
   "outputs": [],
   "source": [
    "seed_everything(42)\n",
    "classifier = NeuralNetClassifier(\n",
    "    FraudCNN,\n",
    "    max_epochs=2,\n",
    "    lr=0.001,\n",
    "    optimizer=torch.optim.Adam,\n",
    "    batch_size=64,\n",
    "    dataset=FraudSequenceDatasetForPipe,\n",
    "    iterator_train__shuffle=True\n",
    ")\n",
    "classifier.set_params(train_split=False, verbose=0)\n",
    "\n",
    "parameters = {\n",
    "    'clf__lr': [0.0001,0.0002,0.001],\n",
    "    'clf__batch_size': [64,128,256],\n",
    "    'clf__max_epochs': [10,20,40],\n",
    "    'clf__module__hidden_size': [500],\n",
    "    'clf__module__num_conv': [1,2],\n",
    "    'clf__module__p': [0,0.2],\n",
    "    'clf__module__num_features': [int(len(input_features))],\n",
    "    'clf__module__num_filters': [100,200],\n",
    "}\n",
    "\n",
    "start_time=time.time()\n",
    "\n",
    "performances_df=model_selection_wrapper(transactions_df, classifier, \n",
    "                                        input_features_new, output_feature,\n",
    "                                        parameters, scoring, \n",
    "                                        start_date_training_for_valid,\n",
    "                                        start_date_training_for_test,\n",
    "                                        n_folds=n_folds,\n",
    "                                        delta_train=delta_train, \n",
    "                                        delta_delay=delta_delay, \n",
    "                                        delta_assessment=delta_assessment,\n",
    "                                        performance_metrics_list_grid=performance_metrics_list_grid,\n",
    "                                        performance_metrics_list=performance_metrics_list,\n",
    "                                        n_jobs=10)\n",
    "\n",
    "execution_time_cnn = time.time()-start_time\n",
    "\n",
    "parameters_dict=dict(performances_df['Parameters'])\n",
    "performances_df['Parameters summary']=[str(parameters_dict[i]['clf__max_epochs'])+\n",
    "                                   '/'+\n",
    "                                   str(parameters_dict[i]['clf__module__num_conv'])+\n",
    "                                   '/'+\n",
    "                                   str(parameters_dict[i]['clf__batch_size'])+\n",
    "                                   '/'+    \n",
    "                                   str(parameters_dict[i]['clf__module__num_filters'])+\n",
    "                                   '/'+                                       \n",
    "                                   str(parameters_dict[i]['clf__module__p'])\n",
    "                                   for i in range(len(parameters_dict))]\n",
    "\n",
    "performances_df_cnn=performances_df"
   ]
  },
  {
   "cell_type": "code",
   "execution_count": 73,
   "id": "12de142c",
   "metadata": {},
   "outputs": [
    {
     "name": "stdout",
     "output_type": "stream",
     "text": [
      "26904.69369339943\n"
     ]
    }
   ],
   "source": [
    "print(execution_time_cnn)"
   ]
  },
  {
   "cell_type": "code",
   "execution_count": 74,
   "id": "34f30b76",
   "metadata": {},
   "outputs": [
    {
     "data": {
      "text/html": [
       "<div>\n",
       "<style scoped>\n",
       "    .dataframe tbody tr th:only-of-type {\n",
       "        vertical-align: middle;\n",
       "    }\n",
       "\n",
       "    .dataframe tbody tr th {\n",
       "        vertical-align: top;\n",
       "    }\n",
       "\n",
       "    .dataframe thead th {\n",
       "        text-align: right;\n",
       "    }\n",
       "</style>\n",
       "<table border=\"1\" class=\"dataframe\">\n",
       "  <thead>\n",
       "    <tr style=\"text-align: right;\">\n",
       "      <th></th>\n",
       "      <th>AUC ROC</th>\n",
       "      <th>Average precision</th>\n",
       "      <th>Card Precision@100</th>\n",
       "    </tr>\n",
       "  </thead>\n",
       "  <tbody>\n",
       "    <tr>\n",
       "      <th>Best estimated parameters</th>\n",
       "      <td>20/2/64/100/0.2</td>\n",
       "      <td>40/2/64/100/0.2</td>\n",
       "      <td>10/2/128/100/0</td>\n",
       "    </tr>\n",
       "    <tr>\n",
       "      <th>Validation performance</th>\n",
       "      <td>0.879+/-0.01</td>\n",
       "      <td>0.613+/-0.02</td>\n",
       "      <td>0.279+/-0.01</td>\n",
       "    </tr>\n",
       "    <tr>\n",
       "      <th>Test performance</th>\n",
       "      <td>0.872+/-0.01</td>\n",
       "      <td>0.599+/-0.01</td>\n",
       "      <td>0.288+/-0.01</td>\n",
       "    </tr>\n",
       "    <tr>\n",
       "      <th>Optimal parameter(s)</th>\n",
       "      <td>10/2/64/100/0.2</td>\n",
       "      <td>20/2/64/100/0.2</td>\n",
       "      <td>20/2/128/100/0.2</td>\n",
       "    </tr>\n",
       "    <tr>\n",
       "      <th>Optimal test performance</th>\n",
       "      <td>0.876+/-0.01</td>\n",
       "      <td>0.617+/-0.01</td>\n",
       "      <td>0.296+/-0.01</td>\n",
       "    </tr>\n",
       "  </tbody>\n",
       "</table>\n",
       "</div>"
      ],
      "text/plain": [
       "                                   AUC ROC Average precision  \\\n",
       "Best estimated parameters  20/2/64/100/0.2   40/2/64/100/0.2   \n",
       "Validation performance        0.879+/-0.01      0.613+/-0.02   \n",
       "Test performance              0.872+/-0.01      0.599+/-0.01   \n",
       "Optimal parameter(s)       10/2/64/100/0.2   20/2/64/100/0.2   \n",
       "Optimal test performance      0.876+/-0.01      0.617+/-0.01   \n",
       "\n",
       "                          Card Precision@100  \n",
       "Best estimated parameters     10/2/128/100/0  \n",
       "Validation performance          0.279+/-0.01  \n",
       "Test performance                0.288+/-0.01  \n",
       "Optimal parameter(s)        20/2/128/100/0.2  \n",
       "Optimal test performance        0.296+/-0.01  "
      ]
     },
     "execution_count": 74,
     "metadata": {},
     "output_type": "execute_result"
    }
   ],
   "source": [
    "summary_performances_cnn=get_summary_performances(performances_df_cnn, parameter_column_name=\"Parameters summary\")\n",
    "summary_performances_cnn"
   ]
  },
  {
   "cell_type": "markdown",
   "id": "7b7ecb0a",
   "metadata": {},
   "source": [
    "The results of the CNN on the simulated data are slightly less convincing than the feed-forward network. There can be several reasons for that. In particular, with regards to the patterns annotated as frauds in the simulated data, the aggregates in `input_features` may already provide enough context to regular models, which limits the interest of contextualization with the sequence. Let us have a look at the impact of some hyperparameters to better understand our model. Let us fix the number of convolutional layers to 2, the dropout level to 0.2, and visualize the impact of batch size, number of epochs, and number of filters."
   ]
  },
  {
   "cell_type": "code",
   "execution_count": 89,
   "id": "8b9f9673",
   "metadata": {},
   "outputs": [
    {
     "data": {
      "image/png": "[encoded data removed]",
      "text/plain": [
       "<Figure size 1080x288 with 3 Axes>"
      ]
     },
     "metadata": {},
     "output_type": "display_data"
    },
    {
     "data": {
      "image/png": "[encoded data removed]",
      "text/plain": [
       "<Figure size 1080x288 with 3 Axes>"
      ]
     },
     "metadata": {},
     "output_type": "display_data"
    },
    {
     "data": {
      "image/png": "[encoded data removed]",
      "text/plain": [
       "<Figure size 1080x288 with 3 Axes>"
      ]
     },
     "metadata": {},
     "output_type": "display_data"
    }
   ],
   "source": [
    "parameters_dict=dict(performances_df_cnn['Parameters'])\n",
    "performances_df_cnn['Parameters summary']=[str(parameters_dict[i]['clf__max_epochs'])+\n",
    "                                   '/'+\n",
    "                                   str(parameters_dict[i]['clf__batch_size'])+\n",
    "                                   '/'+    \n",
    "                                   str(parameters_dict[i]['clf__module__num_filters'])\n",
    "                                   for i in range(len(parameters_dict))]\n",
    "\n",
    "performances_df_cnn_subset = performances_df_cnn[performances_df_cnn['Parameters'].apply(lambda x:x['clf__lr']== 0.001 and x['clf__module__num_filters']==100 and x['clf__max_epochs']==20 and x['clf__module__num_conv']==2 and x['clf__module__p']==0.2).values]\n",
    "summary_performances_cnn_subset=get_summary_performances(performances_df_cnn_subset, parameter_column_name=\"Parameters summary\")\n",
    "indexes_summary = summary_performances_cnn_subset.index.values\n",
    "indexes_summary[0] = 'Best estimated parameters'\n",
    "summary_performances_cnn_subset.rename(index = dict(zip(np.arange(len(indexes_summary)),indexes_summary)))\n",
    "get_performances_plots(performances_df_cnn_subset, \n",
    "                       performance_metrics_list=['AUC ROC', 'Average precision', 'Card Precision@100'], \n",
    "                       expe_type_list=['Test','Validation'], expe_type_color_list=['#008000','#FF0000'],\n",
    "                       parameter_name=\"batch size\",\n",
    "                       summary_performances=summary_performances_cnn_subset)\n",
    "\n",
    "performances_df_cnn_subset = performances_df_cnn[performances_df_cnn['Parameters'].apply(lambda x:x['clf__lr']== 0.001 and x['clf__module__num_filters']==100 and x['clf__batch_size']==64 and x['clf__module__num_conv']==2 and x['clf__module__p']==0.2).values]\n",
    "summary_performances_cnn_subset=get_summary_performances(performances_df_cnn_subset, parameter_column_name=\"Parameters summary\")\n",
    "indexes_summary = summary_performances_cnn_subset.index.values\n",
    "indexes_summary[0] = 'Best estimated parameters'\n",
    "summary_performances_cnn_subset.rename(index = dict(zip(np.arange(len(indexes_summary)),indexes_summary)))\n",
    "get_performances_plots(performances_df_cnn_subset, \n",
    "                       performance_metrics_list=['AUC ROC', 'Average precision', 'Card Precision@100'], \n",
    "                       expe_type_list=['Test','Validation'], expe_type_color_list=['#008000','#FF0000'],\n",
    "                       parameter_name=\"epochs\",\n",
    "                       summary_performances=summary_performances_cnn_subset)\n",
    "\n",
    "performances_df_cnn_subset = performances_df_cnn[performances_df_cnn['Parameters'].apply(lambda x:x['clf__lr']== 0.001 and x['clf__max_epochs']==20 and x['clf__batch_size']==64 and x['clf__module__num_conv']==2 and x['clf__module__p']==0.2).values]\n",
    "summary_performances_cnn_subset=get_summary_performances(performances_df_cnn_subset, parameter_column_name=\"Parameters summary\")\n",
    "indexes_summary = summary_performances_cnn_subset.index.values\n",
    "indexes_summary[0] = 'Best estimated parameters'\n",
    "summary_performances_cnn_subset.rename(index = dict(zip(np.arange(len(indexes_summary)),indexes_summary)))\n",
    "get_performances_plots(performances_df_cnn_subset, \n",
    "                       performance_metrics_list=['AUC ROC', 'Average precision', 'Card Precision@100'], \n",
    "                       expe_type_list=['Test','Validation'], expe_type_color_list=['#008000','#FF0000'],\n",
    "                       parameter_name=\"num filters\",\n",
    "                       summary_performances=summary_performances_cnn_subset)\n",
    "\n",
    "\n",
    "parameters_dict=dict(performances_df_cnn['Parameters'])\n",
    "performances_df_cnn['Parameters summary']=[str(parameters_dict[i]['clf__max_epochs'])+\n",
    "                                   '/'+\n",
    "                                   str(parameters_dict[i]['clf__module__num_conv'])+\n",
    "                                   '/'+\n",
    "                                   str(parameters_dict[i]['clf__batch_size'])+\n",
    "                                   '/'+    \n",
    "                                   str(parameters_dict[i]['clf__module__num_filters'])+\n",
    "                                   '/'+                                       \n",
    "                                   str(parameters_dict[i]['clf__module__p'])\n",
    "                                   for i in range(len(parameters_dict))]"
   ]
  },
  {
   "cell_type": "markdown",
   "id": "d26febc6",
   "metadata": {},
   "source": [
    "Similar to the feed-forward network, the number of epochs and batch size, which are optimization parameters, have a sweet spot, which is probably connected to other parameters (model size, dropout, etc.). For the chosen optimization parameters, 100 filters seem to lead to better results than 200."
   ]
  },
  {
   "cell_type": "markdown",
   "id": "c0c88d75",
   "metadata": {},
   "source": [
    "### Grid search on the Long Short Term Memory\n",
    "\n",
    "For the LSTM, we will search the following hyperparameters:\n",
    "\n",
    "* Batch size : [64,128,256]\n",
    "* Initial learning rate: [0.0001, 0.0002, 0.001]\n",
    "* Number of epochs : [5, 10, 20]\n",
    "* Dropout rate : [0, 0.2, 0.4]\n",
    "* Dimension of the LSTM hidden states : [100,200]\n",
    "\n",
    "The LSTM takes sequences of transactions as input, so the process is the same as for the CNN, and the module also needs to be adapted to output two neurons. "
   ]
  },
  {
   "cell_type": "code",
   "execution_count": 75,
   "id": "beb3a1d2",
   "metadata": {},
   "outputs": [],
   "source": [
    "class FraudLSTM(torch.nn.Module):\n",
    "    \n",
    "    def __init__(self, num_features,hidden_size = 100, hidden_size_lstm = 100, num_layers_lstm = 1,p = 0):\n",
    "        super(FraudLSTM, self).__init__()\n",
    "        # parameters\n",
    "        self.num_features = num_features\n",
    "        self.hidden_size = hidden_size\n",
    "        \n",
    "        # representation learning part\n",
    "        self.lstm = torch.nn.LSTM(self.num_features, hidden_size_lstm, num_layers_lstm, batch_first = True, dropout = p)\n",
    "            \n",
    "                    \n",
    "        #representation to hidden\n",
    "        self.fc1 = torch.nn.Linear(hidden_size_lstm, self.hidden_size)\n",
    "        self.relu = torch.nn.ReLU()\n",
    "        \n",
    "        #hidden to output\n",
    "        self.fc2 = torch.nn.Linear(self.hidden_size, 2)\n",
    "        self.softmax = torch.nn.Softmax()\n",
    "        \n",
    "        self.dropout = torch.nn.Dropout(p)\n",
    "        \n",
    "    def forward(self, x):\n",
    "        \n",
    "        representation = self.lstm(x.transpose(1,2))\n",
    "\n",
    "                    \n",
    "        hidden = self.fc1(representation[1][0][0])\n",
    "        relu = self.relu(hidden)\n",
    "        relu = self.dropout(relu)\n",
    "        \n",
    "        output = self.fc2(relu)\n",
    "        output = self.softmax(output)\n",
    "        \n",
    "        return output"
   ]
  },
  {
   "cell_type": "code",
   "execution_count": 76,
   "id": "cd67689b",
   "metadata": {},
   "outputs": [],
   "source": [
    "seed_everything(42)\n",
    "classifier = NeuralNetClassifier(\n",
    "    FraudLSTM,\n",
    "    max_epochs=2,\n",
    "    lr=0.001,\n",
    "    optimizer=torch.optim.Adam,\n",
    "    batch_size=64,\n",
    "    dataset=FraudSequenceDatasetForPipe,\n",
    "    iterator_train__shuffle=True,\n",
    ")\n",
    "classifier.set_params(train_split=False, verbose=0)\n",
    "\n",
    "parameters = {\n",
    "    'clf__lr': [0.0001,0.0002,0.001],\n",
    "    'clf__batch_size': [64,128,256],\n",
    "    'clf__max_epochs': [5,10,20],\n",
    "    'clf__module__hidden_size': [500],\n",
    "    'clf__module__p': [0,0.2,0.4],\n",
    "    'clf__module__num_features': [int(len(input_features))],\n",
    "    'clf__module__hidden_size_lstm': [100,200],\n",
    "}\n",
    "\n",
    "start_time=time.time()\n",
    "\n",
    "#these will get normalized but it should still work\n",
    "input_features_new = input_features + ['CUSTOMER_ID','TX_DATETIME_TIMESTAMP']\n",
    "\n",
    "performances_df=model_selection_wrapper(transactions_df, classifier, \n",
    "                                        input_features_new, output_feature,\n",
    "                                        parameters, scoring, \n",
    "                                        start_date_training_for_valid,\n",
    "                                        start_date_training_for_test,\n",
    "                                        n_folds=n_folds,\n",
    "                                        delta_train=delta_train, \n",
    "                                        delta_delay=delta_delay, \n",
    "                                        delta_assessment=delta_assessment,\n",
    "                                        performance_metrics_list_grid=performance_metrics_list_grid,\n",
    "                                        performance_metrics_list=performance_metrics_list,\n",
    "                                        n_jobs=10)\n",
    "\n",
    "execution_time_lstm = time.time()-start_time\n",
    "\n",
    "parameters_dict=dict(performances_df['Parameters'])\n",
    "performances_df['Parameters summary']=[str(parameters_dict[i]['clf__max_epochs'])+\n",
    "                                   '/'+\n",
    "                                    str(parameters_dict[i]['clf__batch_size'])+\n",
    "                                   '/'+\n",
    "                                   str(parameters_dict[i]['clf__module__hidden_size_lstm'])+\n",
    "                                   '/'+                           \n",
    "                                   str(parameters_dict[i]['clf__module__p'])\n",
    "                                   for i in range(len(parameters_dict))]\n",
    "\n",
    "# Rename to performances_df_lstm for model performance comparison at the end of this notebook\n",
    "performances_df_lstm=performances_df"
   ]
  },
  {
   "cell_type": "code",
   "execution_count": 77,
   "id": "f47c1bc8",
   "metadata": {},
   "outputs": [
    {
     "name": "stdout",
     "output_type": "stream",
     "text": [
      "14750.79782986641\n"
     ]
    }
   ],
   "source": [
    "print(execution_time_lstm)"
   ]
  },
  {
   "cell_type": "code",
   "execution_count": 78,
   "id": "ab0016d9",
   "metadata": {},
   "outputs": [
    {
     "data": {
      "text/html": [
       "<div>\n",
       "<style scoped>\n",
       "    .dataframe tbody tr th:only-of-type {\n",
       "        vertical-align: middle;\n",
       "    }\n",
       "\n",
       "    .dataframe tbody tr th {\n",
       "        vertical-align: top;\n",
       "    }\n",
       "\n",
       "    .dataframe thead th {\n",
       "        text-align: right;\n",
       "    }\n",
       "</style>\n",
       "<table border=\"1\" class=\"dataframe\">\n",
       "  <thead>\n",
       "    <tr style=\"text-align: right;\">\n",
       "      <th></th>\n",
       "      <th>AUC ROC</th>\n",
       "      <th>Average precision</th>\n",
       "      <th>Card Precision@100</th>\n",
       "    </tr>\n",
       "  </thead>\n",
       "  <tbody>\n",
       "    <tr>\n",
       "      <th>Best estimated parameters</th>\n",
       "      <td>5/256/100/0.2</td>\n",
       "      <td>20/128/100/0.4</td>\n",
       "      <td>5/64/200/0</td>\n",
       "    </tr>\n",
       "    <tr>\n",
       "      <th>Validation performance</th>\n",
       "      <td>0.881+/-0.01</td>\n",
       "      <td>0.681+/-0.01</td>\n",
       "      <td>0.286+/-0.02</td>\n",
       "    </tr>\n",
       "    <tr>\n",
       "      <th>Test performance</th>\n",
       "      <td>0.876+/-0.02</td>\n",
       "      <td>0.665+/-0.02</td>\n",
       "      <td>0.297+/-0.01</td>\n",
       "    </tr>\n",
       "    <tr>\n",
       "      <th>Optimal parameter(s)</th>\n",
       "      <td>5/256/200/0.4</td>\n",
       "      <td>20/128/100/0.2</td>\n",
       "      <td>5/64/200/0.2</td>\n",
       "    </tr>\n",
       "    <tr>\n",
       "      <th>Optimal test performance</th>\n",
       "      <td>0.878+/-0.01</td>\n",
       "      <td>0.674+/-0.01</td>\n",
       "      <td>0.302+/-0.01</td>\n",
       "    </tr>\n",
       "  </tbody>\n",
       "</table>\n",
       "</div>"
      ],
      "text/plain": [
       "                                 AUC ROC Average precision Card Precision@100\n",
       "Best estimated parameters  5/256/100/0.2    20/128/100/0.4         5/64/200/0\n",
       "Validation performance      0.881+/-0.01      0.681+/-0.01       0.286+/-0.02\n",
       "Test performance            0.876+/-0.02      0.665+/-0.02       0.297+/-0.01\n",
       "Optimal parameter(s)       5/256/200/0.4    20/128/100/0.2       5/64/200/0.2\n",
       "Optimal test performance    0.878+/-0.01      0.674+/-0.01       0.302+/-0.01"
      ]
     },
     "execution_count": 78,
     "metadata": {},
     "output_type": "execute_result"
    }
   ],
   "source": [
    "summary_performances_lstm=get_summary_performances(performances_df_lstm, parameter_column_name=\"Parameters summary\")\n",
    "summary_performances_lstm"
   ]
  },
  {
   "cell_type": "markdown",
   "id": "9857ad67",
   "metadata": {},
   "source": [
    "The results with the LSTM are more competitive than the CNN, and they are similar to the feed-forward network. This is still aligned with the hypothesis that the sequence does not really provide, for this dataset, a notable added value compared to only the last transaction with aggregated information. Nevertheless, the comparison with the CNN shows that, even with the same input, the choice of architecture can have an important impact on the performance. Moreover, the performed grid-search is for illustration purposes and is far from exhaustive, so the hyperparameters tuning brings an additional artifact to the results.\n",
    "\n",
    "The conclusions about the set of optimal hyperparameters are very mixed here. Let us fix the learning rate to 0.0001, the batch size to 128, the dropout level to 0.2, and visualize the impact of the number of epochs and of the size of the hidden states."
   ]
  },
  {
   "cell_type": "code",
   "execution_count": 88,
   "id": "20159b8d",
   "metadata": {},
   "outputs": [
    {
     "data": {
      "image/png": "[encoded data removed]",
      "text/plain": [
       "<Figure size 1080x288 with 3 Axes>"
      ]
     },
     "metadata": {},
     "output_type": "display_data"
    },
    {
     "data": {
      "image/png": "[encoded data removed]",
      "text/plain": [
       "<Figure size 1080x288 with 3 Axes>"
      ]
     },
     "metadata": {},
     "output_type": "display_data"
    }
   ],
   "source": [
    "parameters_dict=dict(performances_df_lstm['Parameters'])\n",
    "performances_df_lstm['Parameters summary']=[str(parameters_dict[i]['clf__max_epochs'])+\n",
    "                                   '/'+\n",
    "                                   str(parameters_dict[i]['clf__module__hidden_size_lstm'])\n",
    "                                   for i in range(len(parameters_dict))]\n",
    "\n",
    "performances_df_lstm_subset = performances_df_lstm[performances_df_lstm['Parameters'].apply(lambda x:x['clf__lr']== 0.0001 and x['clf__batch_size']==128 and x['clf__max_epochs']==10 and x['clf__module__p']==0.2).values]\n",
    "summary_performances_lstm_subset=get_summary_performances(performances_df_lstm_subset, parameter_column_name=\"Parameters summary\")\n",
    "indexes_summary = summary_performances_lstm_subset.index.values\n",
    "indexes_summary[0] = 'Best estimated parameters'\n",
    "summary_performances_lstm_subset.rename(index = dict(zip(np.arange(len(indexes_summary)),indexes_summary)))\n",
    "get_performances_plots(performances_df_lstm_subset, \n",
    "                       performance_metrics_list=['AUC ROC', 'Average precision', 'Card Precision@100'], \n",
    "                       expe_type_list=['Test','Validation'], expe_type_color_list=['#008000','#FF0000'],\n",
    "                       parameter_name=\"hidden states size\",\n",
    "                       summary_performances=summary_performances_lstm_subset)\n",
    "\n",
    "performances_df_lstm_subset = performances_df_lstm[performances_df_lstm['Parameters'].apply(lambda x:x['clf__lr']== 0.0001 and x['clf__batch_size']==128 and x['clf__module__hidden_size_lstm']==100 and x['clf__module__p']==0.2).values]\n",
    "summary_performances_lstm_subset=get_summary_performances(performances_df_lstm_subset, parameter_column_name=\"Parameters summary\")\n",
    "indexes_summary = summary_performances_lstm_subset.index.values\n",
    "indexes_summary[0] = 'Best estimated parameters'\n",
    "summary_performances_lstm_subset.rename(index = dict(zip(np.arange(len(indexes_summary)),indexes_summary)))\n",
    "get_performances_plots(performances_df_lstm_subset, \n",
    "                       performance_metrics_list=['AUC ROC', 'Average precision', 'Card Precision@100'], \n",
    "                       expe_type_list=['Test','Validation'], expe_type_color_list=['#008000','#FF0000'],\n",
    "                       parameter_name=\"epochs\",\n",
    "                       summary_performances=summary_performances_lstm_subset)\n",
    "\n",
    "parameters_dict=dict(performances_df_lstm['Parameters'])\n",
    "performances_df_lstm['Parameters summary']=[str(parameters_dict[i]['clf__max_epochs'])+\n",
    "                                   '/'+\n",
    "                                    str(parameters_dict[i]['clf__batch_size'])+\n",
    "                                   '/'+\n",
    "                                   str(parameters_dict[i]['clf__module__hidden_size_lstm'])+\n",
    "                                   '/'+                           \n",
    "                                   str(parameters_dict[i]['clf__module__p'])\n",
    "                                   for i in range(len(parameters_dict))]"
   ]
  },
  {
   "cell_type": "markdown",
   "id": "706d2d2a",
   "metadata": {},
   "source": [
    "Recall here that the grid search is not exhaustive, and from the plots, it appears that the average precision could have been further improved."
   ]
  },
  {
   "cell_type": "markdown",
   "id": "501c9d55",
   "metadata": {},
   "source": [
    "### Grid search on the LSTM with Attention\n",
    "\n",
    "For the LSTM with Attention, we apply the exact same process as for the LSTM."
   ]
  },
  {
   "cell_type": "code",
   "execution_count": 79,
   "id": "63fd6f46",
   "metadata": {},
   "outputs": [],
   "source": [
    "class FraudLSTMWithAttention(torch.nn.Module):\n",
    "    \n",
    "    def __init__(self, num_features,hidden_size = 100, hidden_size_lstm = 100, num_layers_lstm = 1,p = 0):\n",
    "        super(FraudLSTMWithAttention, self).__init__()\n",
    "        # parameters\n",
    "        self.num_features = num_features\n",
    "        self.hidden_size = hidden_size\n",
    "        \n",
    "        # representation learning part\n",
    "        self.lstm = torch.nn.LSTM(self.num_features, hidden_size_lstm, num_layers_lstm, batch_first = True, dropout = p)\n",
    "            \n",
    "        # last sequence represenation\n",
    "        self.ff = torch.nn.Linear(self.num_features,hidden_size_lstm)\n",
    "        \n",
    "        attention_out_dim = hidden_size_lstm\n",
    "        \n",
    "        # attention layer\n",
    "        self.attention = Attention(attention_out_dim)                        \n",
    "       \n",
    "        #representation to hidden\n",
    "        self.fc1 = torch.nn.Linear(hidden_size_lstm, self.hidden_size)\n",
    "        self.relu = torch.nn.ReLU()\n",
    "        \n",
    "        #hidden to output\n",
    "        self.fc2 = torch.nn.Linear(self.hidden_size, 2)\n",
    "        self.softmax = torch.nn.Softmax()\n",
    "        \n",
    "        self.dropout = torch.nn.Dropout(p)\n",
    "        \n",
    "    def forward(self, x):\n",
    "        \n",
    "        representation_seq, _ = self.lstm(x.transpose(1,2))\n",
    "        \n",
    "        representation_last = self.ff(x[:,:,-1:].transpose(1,2))\n",
    "        \n",
    "        representation, attn = self.attention(representation_last,representation_seq)\n",
    "\n",
    "                    \n",
    "        hidden = self.fc1(representation[:,0,:])\n",
    "        relu = self.relu(hidden)\n",
    "        relu = self.dropout(relu)\n",
    "        \n",
    "        output = self.fc2(relu)\n",
    "        output = self.softmax(output)\n",
    "        \n",
    "        return output"
   ]
  },
  {
   "cell_type": "code",
   "execution_count": 80,
   "id": "7f524de6",
   "metadata": {},
   "outputs": [],
   "source": [
    "seed_everything(42)\n",
    "classifier = NeuralNetClassifier(\n",
    "    FraudLSTMWithAttention,\n",
    "    max_epochs=2,\n",
    "    lr=0.001,\n",
    "    optimizer=torch.optim.Adam,\n",
    "    batch_size=64,\n",
    "    dataset=FraudSequenceDatasetForPipe,\n",
    "    iterator_train__shuffle=True,\n",
    ")\n",
    "classifier.set_params(train_split=False, verbose=0)\n",
    "\n",
    "parameters = {\n",
    "    'clf__lr': [0.0001,0.0002,0.001],\n",
    "    'clf__batch_size': [64,128,256],\n",
    "    'clf__max_epochs': [5,10,20],\n",
    "    'clf__module__hidden_size': [500],\n",
    "    'clf__module__p': [0,0.2,0.4],\n",
    "    'clf__module__num_features': [int(len(input_features))],\n",
    "    'clf__module__hidden_size_lstm': [100,200],\n",
    "}\n",
    "\n",
    "start_time=time.time()\n",
    "\n",
    "#these will get normalized but it should still work\n",
    "input_features_new = input_features + ['CUSTOMER_ID','TX_DATETIME_TIMESTAMP']\n",
    "\n",
    "performances_df=model_selection_wrapper(transactions_df, classifier, \n",
    "                                        input_features_new, output_feature,\n",
    "                                        parameters, scoring, \n",
    "                                        start_date_training_for_valid,\n",
    "                                        start_date_training_for_test,\n",
    "                                        n_folds=n_folds,\n",
    "                                        delta_train=delta_train, \n",
    "                                        delta_delay=delta_delay, \n",
    "                                        delta_assessment=delta_assessment,\n",
    "                                        performance_metrics_list_grid=performance_metrics_list_grid,\n",
    "                                        performance_metrics_list=performance_metrics_list,\n",
    "                                        n_jobs=10)\n",
    "\n",
    "execution_time_lstm_attn = time.time()-start_time\n",
    "\n",
    "parameters_dict=dict(performances_df['Parameters'])\n",
    "performances_df['Parameters summary']=[str(parameters_dict[i]['clf__max_epochs'])+\n",
    "                                   '/'+\n",
    "                                    str(parameters_dict[i]['clf__batch_size'])+\n",
    "                                   '/'+\n",
    "                                   str(parameters_dict[i]['clf__module__hidden_size_lstm'])+\n",
    "                                   '/'+                           \n",
    "                                   str(parameters_dict[i]['clf__module__p'])\n",
    "                                   for i in range(len(parameters_dict))]\n",
    "\n",
    "# Rename to performances_df_lstm for model performance comparison at the end of this notebook\n",
    "performances_df_lstm_attn=performances_df"
   ]
  },
  {
   "cell_type": "code",
   "execution_count": 81,
   "id": "d4dfd98e",
   "metadata": {},
   "outputs": [
    {
     "name": "stdout",
     "output_type": "stream",
     "text": [
      "16735.779472112656\n"
     ]
    }
   ],
   "source": [
    "print(execution_time_lstm_attn)"
   ]
  },
  {
   "cell_type": "code",
   "execution_count": 82,
   "id": "27de2e2c",
   "metadata": {},
   "outputs": [
    {
     "data": {
      "text/html": [
       "<div>\n",
       "<style scoped>\n",
       "    .dataframe tbody tr th:only-of-type {\n",
       "        vertical-align: middle;\n",
       "    }\n",
       "\n",
       "    .dataframe tbody tr th {\n",
       "        vertical-align: top;\n",
       "    }\n",
       "\n",
       "    .dataframe thead th {\n",
       "        text-align: right;\n",
       "    }\n",
       "</style>\n",
       "<table border=\"1\" class=\"dataframe\">\n",
       "  <thead>\n",
       "    <tr style=\"text-align: right;\">\n",
       "      <th></th>\n",
       "      <th>AUC ROC</th>\n",
       "      <th>Average precision</th>\n",
       "      <th>Card Precision@100</th>\n",
       "    </tr>\n",
       "  </thead>\n",
       "  <tbody>\n",
       "    <tr>\n",
       "      <th>Best estimated parameters</th>\n",
       "      <td>10/64/100/0.2</td>\n",
       "      <td>10/64/200/0.2</td>\n",
       "      <td>20/256/200/0.2</td>\n",
       "    </tr>\n",
       "    <tr>\n",
       "      <th>Validation performance</th>\n",
       "      <td>0.886+/-0.02</td>\n",
       "      <td>0.69+/-0.01</td>\n",
       "      <td>0.287+/-0.02</td>\n",
       "    </tr>\n",
       "    <tr>\n",
       "      <th>Test performance</th>\n",
       "      <td>0.874+/-0.02</td>\n",
       "      <td>0.667+/-0.01</td>\n",
       "      <td>0.295+/-0.01</td>\n",
       "    </tr>\n",
       "    <tr>\n",
       "      <th>Optimal parameter(s)</th>\n",
       "      <td>5/256/200/0.4</td>\n",
       "      <td>10/64/200/0</td>\n",
       "      <td>10/64/200/0</td>\n",
       "    </tr>\n",
       "    <tr>\n",
       "      <th>Optimal test performance</th>\n",
       "      <td>0.879+/-0.02</td>\n",
       "      <td>0.676+/-0.02</td>\n",
       "      <td>0.303+/-0.01</td>\n",
       "    </tr>\n",
       "  </tbody>\n",
       "</table>\n",
       "</div>"
      ],
      "text/plain": [
       "                                 AUC ROC Average precision Card Precision@100\n",
       "Best estimated parameters  10/64/100/0.2     10/64/200/0.2     20/256/200/0.2\n",
       "Validation performance      0.886+/-0.02       0.69+/-0.01       0.287+/-0.02\n",
       "Test performance            0.874+/-0.02      0.667+/-0.01       0.295+/-0.01\n",
       "Optimal parameter(s)       5/256/200/0.4       10/64/200/0        10/64/200/0\n",
       "Optimal test performance    0.879+/-0.02      0.676+/-0.02       0.303+/-0.01"
      ]
     },
     "execution_count": 82,
     "metadata": {},
     "output_type": "execute_result"
    }
   ],
   "source": [
    "summary_performances_lstm_attn=get_summary_performances(performances_df_lstm_attn, parameter_column_name=\"Parameters summary\")\n",
    "summary_performances_lstm_attn"
   ]
  },
  {
   "cell_type": "markdown",
   "id": "6440915e",
   "metadata": {},
   "source": [
    "The LSTM with Attention has a performance that is only slightly better than the regular LSTM. Although Attention is a mechanism that significantly impacts many applications such as NLP, its interest can be limited on such sequences that are rather short and on such a model that only has a single recurrent layer."
   ]
  },
  {
   "cell_type": "code",
   "execution_count": 90,
   "id": "a33756e7",
   "metadata": {},
   "outputs": [
    {
     "data": {
      "image/png": "[encoded data removed]",
      "text/plain": [
       "<Figure size 1080x288 with 3 Axes>"
      ]
     },
     "metadata": {},
     "output_type": "display_data"
    },
    {
     "data": {
      "image/png": "[encoded data removed]",
      "text/plain": [
       "<Figure size 1080x288 with 3 Axes>"
      ]
     },
     "metadata": {},
     "output_type": "display_data"
    }
   ],
   "source": [
    "parameters_dict=dict(performances_df_lstm_attn['Parameters'])\n",
    "performances_df_lstm_attn['Parameters summary']=[str(parameters_dict[i]['clf__max_epochs'])+\n",
    "                                   '/'+\n",
    "                                   str(parameters_dict[i]['clf__module__hidden_size_lstm'])\n",
    "                                   for i in range(len(parameters_dict))]\n",
    "\n",
    "performances_df_lstm_attn_subset = performances_df_lstm_attn[performances_df_lstm_attn['Parameters'].apply(lambda x:x['clf__lr']== 0.0001 and x['clf__batch_size']==128 and x['clf__max_epochs']==10 and x['clf__module__p']==0.2).values]\n",
    "summary_performances_lstm_attn_subset=get_summary_performances(performances_df_lstm_attn_subset, parameter_column_name=\"Parameters summary\")\n",
    "indexes_summary = summary_performances_lstm_attn_subset.index.values\n",
    "indexes_summary[0] = 'Best estimated parameters'\n",
    "summary_performances_lstm_attn_subset.rename(index = dict(zip(np.arange(len(indexes_summary)),indexes_summary)))\n",
    "get_performances_plots(performances_df_lstm_attn_subset, \n",
    "                       performance_metrics_list=['AUC ROC', 'Average precision', 'Card Precision@100'], \n",
    "                       expe_type_list=['Test','Validation'], expe_type_color_list=['#008000','#FF0000'],\n",
    "                       parameter_name=\"hidden states size\",\n",
    "                       summary_performances=summary_performances_lstm_attn_subset)\n",
    "\n",
    "performances_df_lstm_attn_subset = performances_df_lstm_attn[performances_df_lstm_attn['Parameters'].apply(lambda x:x['clf__lr']== 0.0001 and x['clf__batch_size']==128 and x['clf__module__hidden_size_lstm']==100 and x['clf__module__p']==0.2).values]\n",
    "summary_performances_lstm_attn_subset=get_summary_performances(performances_df_lstm_attn_subset, parameter_column_name=\"Parameters summary\")\n",
    "indexes_summary = summary_performances_lstm_attn_subset.index.values\n",
    "indexes_summary[0] = 'Best estimated parameters'\n",
    "summary_performances_lstm_attn_subset.rename(index = dict(zip(np.arange(len(indexes_summary)),indexes_summary)))\n",
    "get_performances_plots(performances_df_lstm_attn_subset, \n",
    "                       performance_metrics_list=['AUC ROC', 'Average precision', 'Card Precision@100'], \n",
    "                       expe_type_list=['Test','Validation'], expe_type_color_list=['#008000','#FF0000'],\n",
    "                       parameter_name=\"epochs\",\n",
    "                       summary_performances=summary_performances_lstm_attn_subset)\n",
    "\n",
    "parameters_dict=dict(performances_df_lstm_attn['Parameters'])\n",
    "performances_df_lstm_attn['Parameters summary']=[str(parameters_dict[i]['clf__max_epochs'])+\n",
    "                                   '/'+\n",
    "                                    str(parameters_dict[i]['clf__batch_size'])+\n",
    "                                   '/'+\n",
    "                                   str(parameters_dict[i]['clf__module__hidden_size_lstm'])+\n",
    "                                   '/'+                           \n",
    "                                   str(parameters_dict[i]['clf__module__p'])\n",
    "                                   for i in range(len(parameters_dict))]"
   ]
  },
  {
   "cell_type": "markdown",
   "id": "88cf27b1",
   "metadata": {},
   "source": [
    "For the same set of hyperparameters, the convergence w.r.t the average precision is different than LSTM without Attention."
   ]
  },
  {
   "cell_type": "markdown",
   "id": "efb69b04",
   "metadata": {},
   "source": [
    "\n",
    "## Saving of results\n",
    "\n",
    "Let us save the performance results and execution times of these three models in a Python pickle format."
   ]
  },
  {
   "cell_type": "code",
   "execution_count": 83,
   "id": "848bc642",
   "metadata": {},
   "outputs": [],
   "source": [
    "performances_df_dictionary={\n",
    "    \"CNN\": performances_df_cnn,    \n",
    "    \"LSTM\": performances_df_lstm,    \n",
    "    \"LSTM_Attention\": performances_df_lstm_attn,\n",
    "}\n",
    "\n",
    "execution_times=[execution_time_cnn,execution_time_lstm,execution_time_lstm_attn]\n",
    "\n",
    "filehandler = open('performances_model_selection_seq_model.pkl', 'wb') \n",
    "pickle.dump((performances_df_dictionary, execution_times), filehandler)\n",
    "filehandler.close()"
   ]
  },
  {
   "cell_type": "markdown",
   "id": "242f0d55",
   "metadata": {},
   "source": [
    "## Benchmark summary\n",
    "\n",
    "Let us finally retrieve the performance results obtained in\n",
    "\n",
    "* [Chapter 5](Model_Selection_Comparison_Performances) with decision tree, logistic regression, random forest and XGBoost, and\n",
    "* [Chapter 7, Section 2](Model_Selection_FFNN) with feed-forward neural networks\n",
    "\n",
    "and compare them with those obtained with CNN, LSTM, and LSTM with Attention. \n",
    "\n",
    "The results can be retrieved by loading the `performances_model_selection.pkl`, `performances_model_selection_nn.pkl` and `performances_model_selection_seq_model.pkl` pickle files, and summarized with the `get_summary_performances` function."
   ]
  },
  {
   "cell_type": "code",
   "execution_count": 2,
   "id": "52c5a1c2",
   "metadata": {
    "tags": [
     "hide-cell"
    ]
   },
   "outputs": [],
   "source": [
    "# Load performance results for decision tree, logistic regression, random forest and XGBoost\n",
    "filehandler = open('../Chapter_5_ModelValidationAndSelection/performances_model_selection.pkl', 'rb') \n",
    "(performances_df_dictionary, execution_times) = pickle.load(filehandler)\n",
    "\n",
    "# Load performance results for feed-forward neural network\n",
    "filehandler = open('performances_model_selection_nn.pkl', 'rb') \n",
    "(performances_df_dictionary_nn, execution_times_nn) = pickle.load(filehandler)\n",
    "\n",
    "# Load performance results for CNN, LSTM and LSTM with Attention\n",
    "filehandler = open('performances_model_selection_seq_model.pkl', 'rb') \n",
    "(performances_df_dictionary_seq_model, execution_times_seq_model) = pickle.load(filehandler)\n"
   ]
  },
  {
   "cell_type": "code",
   "execution_count": 9,
   "id": "8eab18a4",
   "metadata": {
    "tags": [
     "hide-cell"
    ]
   },
   "outputs": [],
   "source": [
    "performances_df_dt=performances_df_dictionary['Decision Tree']\n",
    "summary_performances_dt=get_summary_performances(performances_df_dt, parameter_column_name=\"Parameters summary\")\n",
    "\n",
    "performances_df_lr=performances_df_dictionary['Logistic Regression']\n",
    "summary_performances_lr=get_summary_performances(performances_df_lr, parameter_column_name=\"Parameters summary\")\n",
    "\n",
    "performances_df_rf=performances_df_dictionary['Random Forest']\n",
    "summary_performances_rf=get_summary_performances(performances_df_rf, parameter_column_name=\"Parameters summary\")\n",
    "\n",
    "performances_df_xgboost=performances_df_dictionary['XGBoost']\n",
    "summary_performances_xgboost=get_summary_performances(performances_df_xgboost, parameter_column_name=\"Parameters summary\")\n",
    "\n",
    "performances_df_nn=performances_df_dictionary_nn['Neural Network']\n",
    "summary_performances_nn=get_summary_performances(performances_df_nn, parameter_column_name=\"Parameters summary\")\n",
    "\n",
    "performances_df_cnn=performances_df_dictionary_seq_model['CNN']\n",
    "summary_performances_cnn=get_summary_performances(performances_df_cnn, parameter_column_name=\"Parameters summary\")\n",
    "\n",
    "performances_df_lstm=performances_df_dictionary_seq_model['LSTM']\n",
    "summary_performances_lstm=get_summary_performances(performances_df_lstm, parameter_column_name=\"Parameters summary\")\n",
    "\n",
    "performances_df_lstm_attention=performances_df_dictionary_seq_model['LSTM_Attention']\n",
    "summary_performances_lstm_attention=get_summary_performances(performances_df_lstm_attention, parameter_column_name=\"Parameters summary\")\n",
    "\n",
    "summary_test_performances = pd.concat([summary_performances_dt.iloc[2,:],\n",
    "                                       summary_performances_lr.iloc[2,:],\n",
    "                                       summary_performances_rf.iloc[2,:],\n",
    "                                       summary_performances_xgboost.iloc[2,:],\n",
    "                                       summary_performances_nn.iloc[2,:],\n",
    "                                       summary_performances_cnn.iloc[2,:],\n",
    "                                       summary_performances_lstm.iloc[2,:],\n",
    "                                       summary_performances_lstm_attention.iloc[2,:],\n",
    "                                      ],axis=1)\n",
    "summary_test_performances.columns=['Decision Tree', 'Logistic Regression', 'Random Forest', 'XGBoost', \n",
    "                                   'Neural Network', 'CNN', 'LSTM', 'LSTM with Attention']\n"
   ]
  },
  {
   "cell_type": "markdown",
   "id": "9a149c6e",
   "metadata": {},
   "source": [
    "The results are summarized in a `summary_test_performances` table. Rows provide the average performance results on the test sets in terms of AUC ROC, Average Precision and CP@100. "
   ]
  },
  {
   "cell_type": "code",
   "execution_count": 10,
   "id": "838a138c",
   "metadata": {},
   "outputs": [
    {
     "data": {
      "text/html": [
       "<div>\n",
       "<style scoped>\n",
       "    .dataframe tbody tr th:only-of-type {\n",
       "        vertical-align: middle;\n",
       "    }\n",
       "\n",
       "    .dataframe tbody tr th {\n",
       "        vertical-align: top;\n",
       "    }\n",
       "\n",
       "    .dataframe thead th {\n",
       "        text-align: right;\n",
       "    }\n",
       "</style>\n",
       "<table border=\"1\" class=\"dataframe\">\n",
       "  <thead>\n",
       "    <tr style=\"text-align: right;\">\n",
       "      <th></th>\n",
       "      <th>Decision Tree</th>\n",
       "      <th>Logistic Regression</th>\n",
       "      <th>Random Forest</th>\n",
       "      <th>XGBoost</th>\n",
       "      <th>Neural Network</th>\n",
       "      <th>CNN</th>\n",
       "      <th>LSTM</th>\n",
       "      <th>LSTM with Attention</th>\n",
       "    </tr>\n",
       "  </thead>\n",
       "  <tbody>\n",
       "    <tr>\n",
       "      <th>AUC ROC</th>\n",
       "      <td>0.797+/-0.01</td>\n",
       "      <td>0.868+/-0.02</td>\n",
       "      <td>0.87+/-0.02</td>\n",
       "      <td>0.869+/-0.01</td>\n",
       "      <td>0.876+/-0.01</td>\n",
       "      <td>0.872+/-0.01</td>\n",
       "      <td>0.876+/-0.02</td>\n",
       "      <td>0.874+/-0.02</td>\n",
       "    </tr>\n",
       "    <tr>\n",
       "      <th>Average precision</th>\n",
       "      <td>0.579+/-0.01</td>\n",
       "      <td>0.623+/-0.02</td>\n",
       "      <td>0.678+/-0.01</td>\n",
       "      <td>0.687+/-0.01</td>\n",
       "      <td>0.675+/-0.01</td>\n",
       "      <td>0.599+/-0.01</td>\n",
       "      <td>0.665+/-0.02</td>\n",
       "      <td>0.667+/-0.01</td>\n",
       "    </tr>\n",
       "    <tr>\n",
       "      <th>Card Precision@100</th>\n",
       "      <td>0.284+/-0.0</td>\n",
       "      <td>0.297+/-0.01</td>\n",
       "      <td>0.299+/-0.01</td>\n",
       "      <td>0.303+/-0.01</td>\n",
       "      <td>0.303+/-0.02</td>\n",
       "      <td>0.288+/-0.01</td>\n",
       "      <td>0.297+/-0.01</td>\n",
       "      <td>0.295+/-0.01</td>\n",
       "    </tr>\n",
       "  </tbody>\n",
       "</table>\n",
       "</div>"
      ],
      "text/plain": [
       "                   Decision Tree Logistic Regression Random Forest  \\\n",
       "AUC ROC             0.797+/-0.01        0.868+/-0.02   0.87+/-0.02   \n",
       "Average precision   0.579+/-0.01        0.623+/-0.02  0.678+/-0.01   \n",
       "Card Precision@100   0.284+/-0.0        0.297+/-0.01  0.299+/-0.01   \n",
       "\n",
       "                         XGBoost Neural Network           CNN          LSTM  \\\n",
       "AUC ROC             0.869+/-0.01   0.876+/-0.01  0.872+/-0.01  0.876+/-0.02   \n",
       "Average precision   0.687+/-0.01   0.675+/-0.01  0.599+/-0.01  0.665+/-0.02   \n",
       "Card Precision@100  0.303+/-0.01   0.303+/-0.02  0.288+/-0.01  0.297+/-0.01   \n",
       "\n",
       "                   LSTM with Attention  \n",
       "AUC ROC                   0.874+/-0.02  \n",
       "Average precision         0.667+/-0.01  \n",
       "Card Precision@100        0.295+/-0.01  "
      ]
     },
     "execution_count": 10,
     "metadata": {},
     "output_type": "execute_result"
    }
   ],
   "source": [
    "summary_test_performances"
   ]
  },
  {
   "cell_type": "markdown",
   "id": "9cf8c1db",
   "metadata": {},
   "source": [
    "In the end, it appears that neural-network based approaches provide results that are competitive with random forests and XGBoost, providing slightly better performances in terms of AUC ROC, and slightly worse performances in terms of Average Precision. However, it should be kept in mind that, given more computational resources, a more extensive hyperparameter tuning could be performed for neural network-based approaches that would likely lead to further improve their performances. \n"
   ]
  },
  {
   "cell_type": "markdown",
   "id": "7e30e8ff",
   "metadata": {},
   "source": [
    "## Conclusion"
   ]
  },
  {
   "cell_type": "markdown",
   "id": "014056f8",
   "metadata": {},
   "source": [
    "In this section, automatic methods to build features from contextual data were explored. To classify a transaction as fraudulent or genuine, it is generally useful to resort to the regular behavior of the cardholder in order to detect a discrepancy. A manual method to integrate this contextual information is to proceed with feature engineering and the creation of expert feature aggregations. \n",
    "\n",
    "Automatic representation learning methods from the Deep Learning literature have been explored to create features that represent the cardholder's sequence of previous transactions in a way that optimizes the classification of the current transaction. \n",
    "\n",
    "The key methodological components are the building of the data pipeline to automatically create the sequential data from landmark variables and the right combination of adapted neural networks such as the 1D-CNN, the LSTM, the Attention mechanism, etc. These models have been tested here, and they can provide competitive performance. In the future, other candidate architectures such as Multi-Head Self-Attention, Sequence-to-Sequence Autoencoder, or any combination of the above modules could be explored to attempt to further improve fraud detection performance. "
   ]
  }
 ],
 "metadata": {
  "celltoolbar": "Tags",
  "kernelspec": {
   "display_name": "Python 3 (ipykernel)",
   "language": "python",
   "name": "python3"
  },
  "language_info": {
   "codemirror_mode": {
    "name": "ipython",
    "version": 3
   },
   "file_extension": ".py",
   "mimetype": "text/x-python",
   "name": "python",
   "nbconvert_exporter": "python",
   "pygments_lexer": "ipython3",
   "version": "3.8.10"
  }
 },
 "nbformat": 4,
 "nbformat_minor": 5
}
